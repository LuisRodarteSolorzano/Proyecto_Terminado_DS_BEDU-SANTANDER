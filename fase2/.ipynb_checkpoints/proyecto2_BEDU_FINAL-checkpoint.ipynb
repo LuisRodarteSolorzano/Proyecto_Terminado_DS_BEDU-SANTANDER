{
 "cells": [
  {
   "cell_type": "markdown",
   "id": "e933d7f0-b685-492f-a977-9b3395d0aeff",
   "metadata": {
    "id": "e933d7f0-b685-492f-a977-9b3395d0aeff"
   },
   "source": [
    "## **Identificación de Problema**\n",
    "\n",
    "**Motivación e investigación preliminar completa sobre el tema**\n",
    "\n",
    "El principal objetivo del trabajo es analizar e investigar la potencial relación entre la pandemia del Coronavirus (Covid-19) y un mercado financiero particular como lo es el de las criptomonedas, específicamente en la pionera y más importante, el Bitcoin (BTC).\n",
    "\n",
    "El año 2020 fue caracterizado por un evento sin precedentes en el ámbito de la salud, la pandemia del Covid-19. Trás su declaración como pandemia mundial el 11 de marzo 2020, por el _World Health Organization (WHO)_, se tomaron medidas de aislamiento social para evitar la propagación generando un importante shock en la economía global y mercados financieros particulares, esto debido a la incertidumbre entre el público que los lleva a retirar posiciones en inversión para buscar liquidez y dejando en posición vulnerable los precios en los mercados financieros involucrados.\n",
    "\n",
    "El mercado de criptomonedas no ha sido la excepción ya que, con la mencionada declaración de pandemia al virus del COVID-19 el 11 de Marzo 2020, la capitalización de mercado del Bitcoin toco un pico mínimo, para todo el 2020, con un respectivo precio de 4970 USD. Sin embargo, para finales del mismo mes de Marzo ya había recuperado su precio de antes de la caída y fue superándola hasta alcanzar casi el valor de 30,000 USD al final del año, lo que representa un incremento de 500\\%, en un año caracterizado por la crisis, dejando un efecto ininteligible, e incluso se podría pensar que positivo, del COVID-19 en el mercado. Para el año 2021 ya se podía apreciar una recuperación, a nivel global, de los casos y muertes reportados por Covid-19 generando de a poco optimismo en la sociedad, sin embargo las fluctuaciones en el mercado de criptomonedas resulto incierto y sin alguna tendencia clara durante el periodo.\n",
    "\n",
    "Dada la magnitud del impacto del Covid-19 en el estilo de vida de la sociedad en general y de la tendencia a resguardarse en casa, ha surgido una importante atención en los medios ya que la población está alerta ante cualquier aviso o actualización sobre el virus. Según información reportada por \"Ravenpack\" el 70% de las noticias globales estaban hablando sobre el Covid-19 ya sea informando o generando pánico ante las cifras de muertes reportadas. Ante esta situación, además de analizar el Covid-19 mediante casos y muertes reportadas a nivel global, es posible utilizar también indicadores de medios sociales con el Covid-19 como tópico común.\n",
    "\n",
    "\n",
    "**Información previa sobre las soluciones anteriores al problema.** \n",
    "\n",
    "En recientes investigaciones, como las de Umar Zaghum, _\"A time–frequency analysis of the impact of the Covid-19 induced panic on the volatility of currency and cryptocurrency markets\"_ y _\"The impact of COVID-19-related media coverage on the return and volatility connectedness of cryptocurrencies and fiat currencies\"_ en 2021, entre otras, se ha mostrado que durante el período de máximo auge del Covid-19 se presentó un importante impacto de los indicadores de pánico y cobertura de medios en el mercado de criptomonedas y el mercado de divisas tradicional (caso específico de Europa y China), éste último impacto es distinto al presentado para las criptomonedas por lo que sugiere el autor que podría presentarse, en las criptomonedas, una posibilidad de cobertura ante el riesgo para protección del patrimonio de inversionistas."
   ]
  },
  {
   "cell_type": "markdown",
   "id": "o7u_DQ2ld8zl",
   "metadata": {
    "id": "o7u_DQ2ld8zl"
   },
   "source": [
    "![btc2021.png](data:image/png;base64,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)![btc2020.png](data:image/png;base64,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)"
   ]
  },
  {
   "cell_type": "markdown",
   "id": "Io2h7DdlhgBp",
   "metadata": {
    "id": "Io2h7DdlhgBp"
   },
   "source": [
    "----\n",
    "----"
   ]
  },
  {
   "cell_type": "markdown",
   "id": "8965ef7b-3268-4958-b053-daac7bb4fc33",
   "metadata": {
    "id": "8965ef7b-3268-4958-b053-daac7bb4fc33"
   },
   "source": [
    "## **Planteamiento de Preguntas**\n",
    "\n",
    "1. ¿Existe relación entre indicadores de medios de comunicación y el mercado de criptomonedas?\n",
    "2. ¿Existe relación entre el índice global de miedo (GFI, por sus siglas en inglés) y el mercado de criptomonedas?\n",
    "3. ¿Hay distinción entre cómo se comporta el mercado de criptomonedas ante la situación real (GFI) y la interpretada por los medios?\n",
    "4. ¿La relación encontrada se mantiene para el año 2021, de recuperación del Covid-19, para el mercado de criptomonedas y ambos indicadores?\n",
    "5. ¿Cómo interpretarías el mercado de criptomonedas desde el punto de vista del inversionista ante periodos de crisis?\n"
   ]
  },
  {
   "cell_type": "markdown",
   "id": "q2K0639Ehh8F",
   "metadata": {
    "id": "q2K0639Ehh8F"
   },
   "source": [
    "-----\n",
    "-----"
   ]
  },
  {
   "cell_type": "markdown",
   "id": "9d0c97d0-85d1-44ff-92a8-e6d3e6b36878",
   "metadata": {
    "id": "9d0c97d0-85d1-44ff-92a8-e6d3e6b36878"
   },
   "source": [
    "## **Colección de Datos**\n",
    "\n",
    "1. La serie del BTC se obtuvo de [yahoo finanzas](https://es-us.finanzas.yahoo.com/) a través de la librería yfinance, extrayendo la información diaria del 01 de Enero 2020 al 31 de Diciembre 2021. Trabajaremos con la serie del BTC convertida a retornos que, usualmente en la literatura son calculados de la siguiente forma:\\\n",
    "\n",
    "\\begin{equation}\n",
    "r_{btc}=\\log (\\frac{btc_{it}}{btc_{it-1}}) \\times 100\n",
    "\\end{equation}\n",
    "\n",
    "2. Se construyó el índice GFI siguiendo a los autores (Salisu 2020, Rubbaniy 2021) con las bases de datos de muertes y casos reportados, extraído de la _United Nations Office for the Coordination of Humanitarian Affairs (OCHA)_ en el sitio https://data.humdata.org/dataset/novel-coronavirus-2019-ncov-cases, con datos desde el 22 de Enero 2020 al 31 de Diciembre 2021. Mide el nivel de miedo en la población con base en la severidad del Covid-19, la construcción se realizó como se detalla a continuación:\n",
    "\n",
    "\\begin{equation}\n",
    "ICR_{t} = \\left(\\frac{\\sum_{i}^{N}{c_{i,t}}}{\\sum_{i}^{N}{\\left(c_{i,t}+c_{i,t-5}\\right)}}\\right)\\times 100\n",
    "\\end{equation}\n",
    "\n",
    "\n",
    "\\begin{equation}\n",
    "IMR_{t} = \\left(\\frac{\\sum_{i}^{N}{d_{i,t}}}{\\sum_{i}^{N}{\\left(d_{i,t}+d_{i,t-5}\\right)}}\\right) \\times 100\n",
    "\\end{equation}\n",
    "\n",
    "En donde:\\\n",
    "$i=1,2,\\cdots, N$, &nbsp; &nbsp;$t=1,2,\\cdots, T$,&nbsp; &nbsp; $ICR: $ indice de casos reportados, $c_{i,t}: $ casos reportados en todos los $i$ paises en el tiempo (284 en la muestra) $t$, $IMR: $ indice de muertes reportadas y $d_{i,t}: $ muertes reportadas en todos los $i$ países en el tiempo $t$.\\\n",
    "Y, finalmente, el índice global de miedo será el promedio de los anteriores índices.\n",
    "\n",
    "\\begin{equation}\n",
    "GFI_{t} = \\left(\\frac{1}{2}\\left(ICR_{t}+IMR_{t}\\right)\\right)\n",
    "\\end{equation}\n",
    "\n",
    "3. Los indicadores “panic_index”, “media_hype”, “sentiment index”, “fake news”, “media_coverage_index” e \"infodemic_index\" se utilizarán de la base de datos \"Ravenpack\", la cual es utilizada por un gran número de autores en papers de investigación, el cuál está basado en más de 20 mil fuentes de noticias a nivel global y construyen con técnicas de análisis de sentimiento y machine learning indicadores relacionados al Covid-19, los cuales pueden ser consultados en el sitio https://coronavirus.ravenpack.com/ y detallaremos su definición a continuación:\\\n",
    "i. Panic index (PI): Mide el nivel de conversación en las noticias que hace referencia al pánico o histeria y coronavirus. Los valores están en porcentaje de 0 a 100. \\\n",
    "ii. Media Hype (MH): Mide el porcentaje de noticias que hablan sobre el tema de coronavirus. Los valores están en porcentaje de 0 a 100.\\\n",
    "iii. Sentiment index (SI): Mide el nivel de sentimiento en las entidades que son mencionadas, en las noticias, junto con el coronavirus. Los valores están entre -100 y 100 en donde 100 representa el sentimiento más positivo, -100 el más negativo y 0 neutral.\\\n",
    "iv. **Media Coverage Index (MCI)**: Calcula el porcentaje de todas las fuentes de noticias que cubren el tema del coronavirus. Los valores están en porcentaje entre 0 y 100.\\\n",
    "iv. **Infodemic index**: Calcula el porcentaje de las entidades (lugares, companias, etc) que de alguna manera se asocian al Covid-19. Los valores están en porcentaje entre 0 y 100 donde un valor de 60 significa que el 60% de las entidades cubiertas por los medios están asociadas al Covid-19. "
   ]
  },
  {
   "cell_type": "markdown",
   "id": "RNN5hklihkD8",
   "metadata": {
    "id": "RNN5hklihkD8"
   },
   "source": [
    "----\n",
    "----"
   ]
  },
  {
   "cell_type": "markdown",
   "id": "b732a941-1890-4b3b-a048-26b6dfa9cf75",
   "metadata": {
    "id": "b732a941-1890-4b3b-a048-26b6dfa9cf75"
   },
   "source": [
    "## **Análisis Exploratorio de datos**\n",
    "\n",
    "Para el análisis exploratorio de los datos primero cargamos las librerías necesarias numpy y pandas. Descargamos la librería yfinance para la extracción de la serie BTC la cual llamamos \"bitcoin\". \n",
    "\n",
    "*   Leeremos la base \"covid_countries\" como un csv del compartido por los autores, disponible para consulta en el sitio https://www.ravenpack.com/solutions/research/coronavirus-media-monitor\n",
    "*   Las series \"covid_deaths_global_ts\" y \"covid_confirmed_global_ts\" fueron extraídas en formato csv del sitio de la OMS."
   ]
  },
  {
   "cell_type": "code",
   "execution_count": 1,
   "id": "7957be70-f939-4847-bf66-ccf28a03b08e",
   "metadata": {
    "colab": {
     "base_uri": "https://localhost:8080/"
    },
    "executionInfo": {
     "elapsed": 7756,
     "status": "ok",
     "timestamp": 1675917946618,
     "user": {
      "displayName": "gerardo antonio fuentes garcia",
      "userId": "11702168562164629048"
     },
     "user_tz": 360
    },
    "id": "7957be70-f939-4847-bf66-ccf28a03b08e",
    "outputId": "984316b7-3d3b-4ac1-f26c-1c652682c09f"
   },
   "outputs": [
    {
     "name": "stdout",
     "output_type": "stream",
     "text": [
      "Requirement already satisfied: yfinance in /Users/kalamo/anaconda3/lib/python3.8/site-packages (0.2.9)\n",
      "Requirement already satisfied: pytz>=2022.5 in /Users/kalamo/anaconda3/lib/python3.8/site-packages (from yfinance) (2022.7.1)\n",
      "Requirement already satisfied: multitasking>=0.0.7 in /Users/kalamo/anaconda3/lib/python3.8/site-packages (from yfinance) (0.0.11)\n",
      "Requirement already satisfied: lxml>=4.9.1 in /Users/kalamo/anaconda3/lib/python3.8/site-packages (from yfinance) (4.9.2)\n",
      "Requirement already satisfied: requests>=2.26 in /Users/kalamo/anaconda3/lib/python3.8/site-packages (from yfinance) (2.28.0)\n",
      "Requirement already satisfied: pandas>=1.3.0 in /Users/kalamo/anaconda3/lib/python3.8/site-packages (from yfinance) (1.5.3)\n",
      "Requirement already satisfied: numpy>=1.16.5 in /Users/kalamo/anaconda3/lib/python3.8/site-packages (from yfinance) (1.21.5)\n",
      "Requirement already satisfied: beautifulsoup4>=4.11.1 in /Users/kalamo/anaconda3/lib/python3.8/site-packages (from yfinance) (4.11.1)\n",
      "Requirement already satisfied: frozendict>=2.3.4 in /Users/kalamo/anaconda3/lib/python3.8/site-packages (from yfinance) (2.3.4)\n",
      "Requirement already satisfied: appdirs>=1.4.4 in /Users/kalamo/anaconda3/lib/python3.8/site-packages (from yfinance) (1.4.4)\n",
      "Requirement already satisfied: cryptography>=3.3.2 in /Users/kalamo/anaconda3/lib/python3.8/site-packages (from yfinance) (37.0.1)\n",
      "Requirement already satisfied: html5lib>=1.1 in /Users/kalamo/anaconda3/lib/python3.8/site-packages (from yfinance) (1.1)\n",
      "Requirement already satisfied: soupsieve>1.2 in /Users/kalamo/anaconda3/lib/python3.8/site-packages (from beautifulsoup4>=4.11.1->yfinance) (2.3.1)\n",
      "Requirement already satisfied: cffi>=1.12 in /Users/kalamo/anaconda3/lib/python3.8/site-packages (from cryptography>=3.3.2->yfinance) (1.15.0)\n",
      "Requirement already satisfied: pycparser in /Users/kalamo/anaconda3/lib/python3.8/site-packages (from cffi>=1.12->cryptography>=3.3.2->yfinance) (2.21)\n",
      "Requirement already satisfied: six>=1.9 in /Users/kalamo/anaconda3/lib/python3.8/site-packages (from html5lib>=1.1->yfinance) (1.16.0)\n",
      "Requirement already satisfied: webencodings in /Users/kalamo/anaconda3/lib/python3.8/site-packages (from html5lib>=1.1->yfinance) (0.5.1)\n",
      "Requirement already satisfied: python-dateutil>=2.8.1 in /Users/kalamo/anaconda3/lib/python3.8/site-packages (from pandas>=1.3.0->yfinance) (2.8.2)\n",
      "Requirement already satisfied: charset-normalizer~=2.0.0 in /Users/kalamo/anaconda3/lib/python3.8/site-packages (from requests>=2.26->yfinance) (2.0.4)\n",
      "Requirement already satisfied: idna<4,>=2.5 in /Users/kalamo/anaconda3/lib/python3.8/site-packages (from requests>=2.26->yfinance) (3.3)\n",
      "Requirement already satisfied: urllib3<1.27,>=1.21.1 in /Users/kalamo/anaconda3/lib/python3.8/site-packages (from requests>=2.26->yfinance) (1.26.9)\n",
      "Requirement already satisfied: certifi>=2017.4.17 in /Users/kalamo/anaconda3/lib/python3.8/site-packages (from requests>=2.26->yfinance) (2022.6.15)\n"
     ]
    }
   ],
   "source": [
    "!pip install yfinance"
   ]
  },
  {
   "cell_type": "code",
   "execution_count": 2,
   "id": "jWo1pEvdmCpU",
   "metadata": {
    "id": "jWo1pEvdmCpU"
   },
   "outputs": [],
   "source": [
    "import yfinance as yf \n",
    "import pandas as pd\n",
    "import numpy as np\n",
    "import math\n",
    "import seaborn as sb\n",
    "import matplotlib.pyplot as plt"
   ]
  },
  {
   "cell_type": "code",
   "execution_count": 4,
   "id": "11ef3958-3370-4eb7-b7a6-4f0e1b14d4a3",
   "metadata": {
    "id": "11ef3958-3370-4eb7-b7a6-4f0e1b14d4a3"
   },
   "outputs": [
    {
     "data": {
      "text/plain": [
       "\"\\nfrom google.colab import drive\\ndrive.mount('/content/drive')\\n\\ncovid_countries = pd.read_csv('/content/drive/MyDrive/ravenpack_coronavirus_countries_historical.csv')\\ncovid_deaths_global_ts = pd.read_csv('/content/drive/MyDrive/time_series_covid19_deaths_global.csv')\\ncovid_confirmed_global_ts = pd.read_csv('/content/drive/MyDrive/time_series_covid19_confirmed_global.csv')\\n\""
      ]
     },
     "execution_count": 4,
     "metadata": {},
     "output_type": "execute_result"
    }
   ],
   "source": [
    "covid_countries = pd.read_csv('ravenpack_coronavirus_countries_historical.csv')\n",
    "covid_deaths_global_ts = pd.read_csv('time_series_covid19_deaths_global.csv')\n",
    "covid_confirmed_global_ts = pd.read_csv('time_series_covid19_confirmed_global.csv')\n",
    "\n",
    "'''\n",
    "from google.colab import drive\n",
    "drive.mount('/content/drive')\n",
    "\n",
    "covid_countries = pd.read_csv('/content/drive/MyDrive/ravenpack_coronavirus_countries_historical.csv')\n",
    "covid_deaths_global_ts = pd.read_csv('/content/drive/MyDrive/time_series_covid19_deaths_global.csv')\n",
    "covid_confirmed_global_ts = pd.read_csv('/content/drive/MyDrive/time_series_covid19_confirmed_global.csv')\n",
    "'''"
   ]
  },
  {
   "cell_type": "markdown",
   "id": "-7NMVR8YfZ6v",
   "metadata": {
    "id": "-7NMVR8YfZ6v"
   },
   "source": [
    "Se utilizará la librería de yfinance para obtener la serie histórica del BTC para el periodo de estudio 2020 - 2021"
   ]
  },
  {
   "cell_type": "code",
   "execution_count": 5,
   "id": "yqSRyiOK_Xso",
   "metadata": {
    "colab": {
     "base_uri": "https://localhost:8080/"
    },
    "executionInfo": {
     "elapsed": 597,
     "status": "ok",
     "timestamp": 1675915851437,
     "user": {
      "displayName": "gerardo antonio fuentes garcia",
      "userId": "11702168562164629048"
     },
     "user_tz": 360
    },
    "id": "yqSRyiOK_Xso",
    "outputId": "b68815cf-1087-46e8-f951-04dbb0d73ced"
   },
   "outputs": [
    {
     "name": "stdout",
     "output_type": "stream",
     "text": [
      "[*********************100%***********************]  1 of 1 completed\n"
     ]
    }
   ],
   "source": [
    "bitcoin = yf.download(\"BTC-USD\", start= \"2020-01-01\", end= \"2022-12-31\")\n",
    "bitcoin = pd.DataFrame(bitcoin)"
   ]
  },
  {
   "cell_type": "markdown",
   "id": "cWKJgoW4gxWv",
   "metadata": {
    "id": "cWKJgoW4gxWv"
   },
   "source": [
    "-----"
   ]
  },
  {
   "cell_type": "markdown",
   "id": "NcMA8zJ_nExW",
   "metadata": {
    "id": "NcMA8zJ_nExW"
   },
   "source": [
    "Analizaremos primero la base de \"covid_countries\" de Ravenpack"
   ]
  },
  {
   "cell_type": "code",
   "execution_count": 6,
   "id": "6d2c66f8-5620-4be2-814b-74433afca9be",
   "metadata": {
    "colab": {
     "base_uri": "https://localhost:8080/"
    },
    "executionInfo": {
     "elapsed": 143,
     "status": "ok",
     "timestamp": 1675915853456,
     "user": {
      "displayName": "gerardo antonio fuentes garcia",
      "userId": "11702168562164629048"
     },
     "user_tz": 360
    },
    "id": "6d2c66f8-5620-4be2-814b-74433afca9be",
    "outputId": "5bc63bf4-619a-4b26-eb25-5c5e108ad60a"
   },
   "outputs": [
    {
     "data": {
      "text/plain": [
       "(186835, 15)"
      ]
     },
     "execution_count": 6,
     "metadata": {},
     "output_type": "execute_result"
    }
   ],
   "source": [
    "covid_countries.shape # 186835 filas y 15 columnas"
   ]
  },
  {
   "cell_type": "code",
   "execution_count": 7,
   "id": "8VhgHyikV98T",
   "metadata": {
    "colab": {
     "base_uri": "https://localhost:8080/",
     "height": 357
    },
    "executionInfo": {
     "elapsed": 147,
     "status": "ok",
     "timestamp": 1675915855785,
     "user": {
      "displayName": "gerardo antonio fuentes garcia",
      "userId": "11702168562164629048"
     },
     "user_tz": 360
    },
    "id": "8VhgHyikV98T",
    "outputId": "313df970-24b1-4108-b124-024019f287aa"
   },
   "outputs": [
    {
     "data": {
      "text/html": [
       "<div>\n",
       "<style scoped>\n",
       "    .dataframe tbody tr th:only-of-type {\n",
       "        vertical-align: middle;\n",
       "    }\n",
       "\n",
       "    .dataframe tbody tr th {\n",
       "        vertical-align: top;\n",
       "    }\n",
       "\n",
       "    .dataframe thead th {\n",
       "        text-align: right;\n",
       "    }\n",
       "</style>\n",
       "<table border=\"1\" class=\"dataframe\">\n",
       "  <thead>\n",
       "    <tr style=\"text-align: right;\">\n",
       "      <th></th>\n",
       "      <th>TIMESTAMP_UTC</th>\n",
       "      <th>COUNTRY_CODE</th>\n",
       "      <th>COUNTRY_NAME</th>\n",
       "      <th>TOTAL_CASES</th>\n",
       "      <th>CASES_DAILY</th>\n",
       "      <th>TOTAL_RECOVERED</th>\n",
       "      <th>RECOVERED_DAILY</th>\n",
       "      <th>TOTAL_DEATHS</th>\n",
       "      <th>DEATHS_DAILY</th>\n",
       "      <th>PANIC_INDEX</th>\n",
       "      <th>MEDIA_HYPE_INDEX</th>\n",
       "      <th>FAKE_NEWS_INDEX</th>\n",
       "      <th>SENTIMENT_INDEX</th>\n",
       "      <th>INFODEMIC_INDEX</th>\n",
       "      <th>MEDIA_COVERAGE_INDEX</th>\n",
       "    </tr>\n",
       "  </thead>\n",
       "  <tbody>\n",
       "    <tr>\n",
       "      <th>0</th>\n",
       "      <td>2022-05-18 00:00:00.000</td>\n",
       "      <td>XX</td>\n",
       "      <td>Worldwide</td>\n",
       "      <td>522070531.0</td>\n",
       "      <td>556658.0</td>\n",
       "      <td>499883457.0</td>\n",
       "      <td>613955.0</td>\n",
       "      <td>6267245.0</td>\n",
       "      <td>1754.0</td>\n",
       "      <td>0.70</td>\n",
       "      <td>11.19</td>\n",
       "      <td>0.26</td>\n",
       "      <td>-5.66</td>\n",
       "      <td>33.11</td>\n",
       "      <td>52.29</td>\n",
       "    </tr>\n",
       "    <tr>\n",
       "      <th>1</th>\n",
       "      <td>2022-05-18 00:00:00.000</td>\n",
       "      <td>US</td>\n",
       "      <td>United States</td>\n",
       "      <td>81937411.0</td>\n",
       "      <td>141589.0</td>\n",
       "      <td>78959035.0</td>\n",
       "      <td>129297.0</td>\n",
       "      <td>995111.0</td>\n",
       "      <td>239.0</td>\n",
       "      <td>0.84</td>\n",
       "      <td>12.57</td>\n",
       "      <td>0.33</td>\n",
       "      <td>-3.80</td>\n",
       "      <td>34.10</td>\n",
       "      <td>51.18</td>\n",
       "    </tr>\n",
       "    <tr>\n",
       "      <th>2</th>\n",
       "      <td>2022-05-18 00:00:00.000</td>\n",
       "      <td>IN</td>\n",
       "      <td>India</td>\n",
       "      <td>43125370.0</td>\n",
       "      <td>1569.0</td>\n",
       "      <td>42583793.0</td>\n",
       "      <td>1925.0</td>\n",
       "      <td>524260.0</td>\n",
       "      <td>19.0</td>\n",
       "      <td>2.33</td>\n",
       "      <td>18.45</td>\n",
       "      <td>1.18</td>\n",
       "      <td>-18.57</td>\n",
       "      <td>33.25</td>\n",
       "      <td>41.31</td>\n",
       "    </tr>\n",
       "    <tr>\n",
       "      <th>3</th>\n",
       "      <td>2022-05-18 00:00:00.000</td>\n",
       "      <td>BR</td>\n",
       "      <td>Brazil</td>\n",
       "      <td>30701900.0</td>\n",
       "      <td>13510.0</td>\n",
       "      <td>29737943.0</td>\n",
       "      <td>13475.0</td>\n",
       "      <td>665216.0</td>\n",
       "      <td>66.0</td>\n",
       "      <td>0.72</td>\n",
       "      <td>32.97</td>\n",
       "      <td>0.83</td>\n",
       "      <td>-14.86</td>\n",
       "      <td>26.80</td>\n",
       "      <td>32.23</td>\n",
       "    </tr>\n",
       "    <tr>\n",
       "      <th>4</th>\n",
       "      <td>2022-05-18 00:00:00.000</td>\n",
       "      <td>FR</td>\n",
       "      <td>France</td>\n",
       "      <td>28394340.0</td>\n",
       "      <td>3360.0</td>\n",
       "      <td>27384427.0</td>\n",
       "      <td>0.0</td>\n",
       "      <td>144277.0</td>\n",
       "      <td>203.0</td>\n",
       "      <td>1.04</td>\n",
       "      <td>22.19</td>\n",
       "      <td>0.11</td>\n",
       "      <td>7.94</td>\n",
       "      <td>28.88</td>\n",
       "      <td>33.60</td>\n",
       "    </tr>\n",
       "  </tbody>\n",
       "</table>\n",
       "</div>"
      ],
      "text/plain": [
       "             TIMESTAMP_UTC COUNTRY_CODE   COUNTRY_NAME  TOTAL_CASES  \\\n",
       "0  2022-05-18 00:00:00.000           XX      Worldwide  522070531.0   \n",
       "1  2022-05-18 00:00:00.000           US  United States   81937411.0   \n",
       "2  2022-05-18 00:00:00.000           IN          India   43125370.0   \n",
       "3  2022-05-18 00:00:00.000           BR         Brazil   30701900.0   \n",
       "4  2022-05-18 00:00:00.000           FR         France   28394340.0   \n",
       "\n",
       "   CASES_DAILY  TOTAL_RECOVERED  RECOVERED_DAILY  TOTAL_DEATHS  DEATHS_DAILY  \\\n",
       "0     556658.0      499883457.0         613955.0     6267245.0        1754.0   \n",
       "1     141589.0       78959035.0         129297.0      995111.0         239.0   \n",
       "2       1569.0       42583793.0           1925.0      524260.0          19.0   \n",
       "3      13510.0       29737943.0          13475.0      665216.0          66.0   \n",
       "4       3360.0       27384427.0              0.0      144277.0         203.0   \n",
       "\n",
       "   PANIC_INDEX  MEDIA_HYPE_INDEX  FAKE_NEWS_INDEX  SENTIMENT_INDEX  \\\n",
       "0         0.70             11.19             0.26            -5.66   \n",
       "1         0.84             12.57             0.33            -3.80   \n",
       "2         2.33             18.45             1.18           -18.57   \n",
       "3         0.72             32.97             0.83           -14.86   \n",
       "4         1.04             22.19             0.11             7.94   \n",
       "\n",
       "   INFODEMIC_INDEX  MEDIA_COVERAGE_INDEX  \n",
       "0            33.11                 52.29  \n",
       "1            34.10                 51.18  \n",
       "2            33.25                 41.31  \n",
       "3            26.80                 32.23  \n",
       "4            28.88                 33.60  "
      ]
     },
     "execution_count": 7,
     "metadata": {},
     "output_type": "execute_result"
    }
   ],
   "source": [
    "covid_countries.head()"
   ]
  },
  {
   "cell_type": "markdown",
   "id": "u1-uLphNesTC",
   "metadata": {
    "id": "u1-uLphNesTC"
   },
   "source": [
    "Las columnas que utilizaremos de la base \"covid_countries\" serán las de \"COUNTRY_NAME\", que identifica el país y las columnas con terminación \"_INDEX\" que son correspondientes a los indicadores a utilizar en el análisis.\n",
    "A pesar de que la base \"covid_countries\" contiene las variables de casos y muertes diarias, se decidió utilizar las series correspondientes publicadas por la organización mundial de la salud (OMS), ya que el caso de \"covid_countries\" es contruida con base en sitios de noticias alrededor del mundo, mientrás que las series de la OMS reflejan la realidad sin necesidad de interpretación."
   ]
  },
  {
   "cell_type": "code",
   "execution_count": 8,
   "id": "PA03xiAQWcdL",
   "metadata": {
    "colab": {
     "base_uri": "https://localhost:8080/",
     "height": 357
    },
    "executionInfo": {
     "elapsed": 237,
     "status": "ok",
     "timestamp": 1675915860317,
     "user": {
      "displayName": "gerardo antonio fuentes garcia",
      "userId": "11702168562164629048"
     },
     "user_tz": 360
    },
    "id": "PA03xiAQWcdL",
    "outputId": "9323c624-44a2-42d7-92e7-0de4c1dd83d2"
   },
   "outputs": [
    {
     "data": {
      "text/html": [
       "<div>\n",
       "<style scoped>\n",
       "    .dataframe tbody tr th:only-of-type {\n",
       "        vertical-align: middle;\n",
       "    }\n",
       "\n",
       "    .dataframe tbody tr th {\n",
       "        vertical-align: top;\n",
       "    }\n",
       "\n",
       "    .dataframe thead th {\n",
       "        text-align: right;\n",
       "    }\n",
       "</style>\n",
       "<table border=\"1\" class=\"dataframe\">\n",
       "  <thead>\n",
       "    <tr style=\"text-align: right;\">\n",
       "      <th></th>\n",
       "      <th>TIMESTAMP_UTC</th>\n",
       "      <th>COUNTRY_CODE</th>\n",
       "      <th>COUNTRY_NAME</th>\n",
       "      <th>TOTAL_CASES</th>\n",
       "      <th>CASES_DAILY</th>\n",
       "      <th>TOTAL_RECOVERED</th>\n",
       "      <th>RECOVERED_DAILY</th>\n",
       "      <th>TOTAL_DEATHS</th>\n",
       "      <th>DEATHS_DAILY</th>\n",
       "      <th>PANIC_INDEX</th>\n",
       "      <th>MEDIA_HYPE_INDEX</th>\n",
       "      <th>FAKE_NEWS_INDEX</th>\n",
       "      <th>SENTIMENT_INDEX</th>\n",
       "      <th>INFODEMIC_INDEX</th>\n",
       "      <th>MEDIA_COVERAGE_INDEX</th>\n",
       "    </tr>\n",
       "  </thead>\n",
       "  <tbody>\n",
       "    <tr>\n",
       "      <th>186832</th>\n",
       "      <td>2020-01-01 00:00:00.000</td>\n",
       "      <td>IQ</td>\n",
       "      <td>Iraq</td>\n",
       "      <td>NaN</td>\n",
       "      <td>NaN</td>\n",
       "      <td>NaN</td>\n",
       "      <td>NaN</td>\n",
       "      <td>NaN</td>\n",
       "      <td>NaN</td>\n",
       "      <td>NaN</td>\n",
       "      <td>NaN</td>\n",
       "      <td>NaN</td>\n",
       "      <td>0.0</td>\n",
       "      <td>NaN</td>\n",
       "      <td>NaN</td>\n",
       "    </tr>\n",
       "    <tr>\n",
       "      <th>186833</th>\n",
       "      <td>2020-01-01 00:00:00.000</td>\n",
       "      <td>KR</td>\n",
       "      <td>S. Korea</td>\n",
       "      <td>NaN</td>\n",
       "      <td>NaN</td>\n",
       "      <td>NaN</td>\n",
       "      <td>NaN</td>\n",
       "      <td>NaN</td>\n",
       "      <td>NaN</td>\n",
       "      <td>NaN</td>\n",
       "      <td>0.02</td>\n",
       "      <td>NaN</td>\n",
       "      <td>-0.0</td>\n",
       "      <td>0.24</td>\n",
       "      <td>0.14</td>\n",
       "    </tr>\n",
       "    <tr>\n",
       "      <th>186834</th>\n",
       "      <td>2020-01-01 00:00:00.000</td>\n",
       "      <td>PH</td>\n",
       "      <td>Philippines</td>\n",
       "      <td>NaN</td>\n",
       "      <td>NaN</td>\n",
       "      <td>NaN</td>\n",
       "      <td>NaN</td>\n",
       "      <td>NaN</td>\n",
       "      <td>NaN</td>\n",
       "      <td>NaN</td>\n",
       "      <td>NaN</td>\n",
       "      <td>NaN</td>\n",
       "      <td>0.0</td>\n",
       "      <td>NaN</td>\n",
       "      <td>NaN</td>\n",
       "    </tr>\n",
       "  </tbody>\n",
       "</table>\n",
       "</div>"
      ],
      "text/plain": [
       "                  TIMESTAMP_UTC COUNTRY_CODE COUNTRY_NAME  TOTAL_CASES  \\\n",
       "186832  2020-01-01 00:00:00.000           IQ         Iraq          NaN   \n",
       "186833  2020-01-01 00:00:00.000           KR     S. Korea          NaN   \n",
       "186834  2020-01-01 00:00:00.000           PH  Philippines          NaN   \n",
       "\n",
       "        CASES_DAILY  TOTAL_RECOVERED  RECOVERED_DAILY  TOTAL_DEATHS  \\\n",
       "186832          NaN              NaN              NaN           NaN   \n",
       "186833          NaN              NaN              NaN           NaN   \n",
       "186834          NaN              NaN              NaN           NaN   \n",
       "\n",
       "        DEATHS_DAILY  PANIC_INDEX  MEDIA_HYPE_INDEX  FAKE_NEWS_INDEX  \\\n",
       "186832           NaN          NaN               NaN              NaN   \n",
       "186833           NaN          NaN              0.02              NaN   \n",
       "186834           NaN          NaN               NaN              NaN   \n",
       "\n",
       "        SENTIMENT_INDEX  INFODEMIC_INDEX  MEDIA_COVERAGE_INDEX  \n",
       "186832              0.0              NaN                   NaN  \n",
       "186833             -0.0             0.24                  0.14  \n",
       "186834              0.0              NaN                   NaN  "
      ]
     },
     "execution_count": 8,
     "metadata": {},
     "output_type": "execute_result"
    }
   ],
   "source": [
    "covid_countries.tail(3)"
   ]
  },
  {
   "cell_type": "code",
   "execution_count": 9,
   "id": "2e1af0d6-9c23-456a-9a55-ab8c88233a1d",
   "metadata": {
    "colab": {
     "base_uri": "https://localhost:8080/"
    },
    "executionInfo": {
     "elapsed": 364,
     "status": "ok",
     "timestamp": 1675915863470,
     "user": {
      "displayName": "gerardo antonio fuentes garcia",
      "userId": "11702168562164629048"
     },
     "user_tz": 360
    },
    "id": "2e1af0d6-9c23-456a-9a55-ab8c88233a1d",
    "outputId": "e6dbc306-d5be-4d29-ff71-58255764af9e"
   },
   "outputs": [
    {
     "data": {
      "text/plain": [
       "TIMESTAMP_UTC            object\n",
       "COUNTRY_CODE             object\n",
       "COUNTRY_NAME             object\n",
       "TOTAL_CASES             float64\n",
       "CASES_DAILY             float64\n",
       "TOTAL_RECOVERED         float64\n",
       "RECOVERED_DAILY         float64\n",
       "TOTAL_DEATHS            float64\n",
       "DEATHS_DAILY            float64\n",
       "PANIC_INDEX             float64\n",
       "MEDIA_HYPE_INDEX        float64\n",
       "FAKE_NEWS_INDEX         float64\n",
       "SENTIMENT_INDEX         float64\n",
       "INFODEMIC_INDEX         float64\n",
       "MEDIA_COVERAGE_INDEX    float64\n",
       "dtype: object"
      ]
     },
     "execution_count": 9,
     "metadata": {},
     "output_type": "execute_result"
    }
   ],
   "source": [
    "covid_countries.dtypes # Podemos ver que será necesario hacer recasteo"
   ]
  },
  {
   "cell_type": "code",
   "execution_count": 10,
   "id": "aO8TwZ1cVNxh",
   "metadata": {
    "colab": {
     "base_uri": "https://localhost:8080/"
    },
    "executionInfo": {
     "elapsed": 138,
     "status": "ok",
     "timestamp": 1675915866014,
     "user": {
      "displayName": "gerardo antonio fuentes garcia",
      "userId": "11702168562164629048"
     },
     "user_tz": 360
    },
    "id": "aO8TwZ1cVNxh",
    "outputId": "faeea1ce-657a-45c1-969b-fbb12e09c77d"
   },
   "outputs": [
    {
     "name": "stdout",
     "output_type": "stream",
     "text": [
      "<class 'pandas.core.frame.DataFrame'>\n",
      "RangeIndex: 186835 entries, 0 to 186834\n",
      "Data columns (total 15 columns):\n",
      " #   Column                Non-Null Count   Dtype  \n",
      "---  ------                --------------   -----  \n",
      " 0   TIMESTAMP_UTC         186835 non-null  object \n",
      " 1   COUNTRY_CODE          185966 non-null  object \n",
      " 2   COUNTRY_NAME          186835 non-null  object \n",
      " 3   TOTAL_CASES           170084 non-null  float64\n",
      " 4   CASES_DAILY           170084 non-null  float64\n",
      " 5   TOTAL_RECOVERED       170084 non-null  float64\n",
      " 6   RECOVERED_DAILY       170084 non-null  float64\n",
      " 7   TOTAL_DEATHS          170084 non-null  float64\n",
      " 8   DEATHS_DAILY          170084 non-null  float64\n",
      " 9   PANIC_INDEX           144706 non-null  float64\n",
      " 10  MEDIA_HYPE_INDEX      178170 non-null  float64\n",
      " 11  FAKE_NEWS_INDEX       113853 non-null  float64\n",
      " 12  SENTIMENT_INDEX       165819 non-null  float64\n",
      " 13  INFODEMIC_INDEX       178170 non-null  float64\n",
      " 14  MEDIA_COVERAGE_INDEX  178170 non-null  float64\n",
      "dtypes: float64(12), object(3)\n",
      "memory usage: 21.4+ MB\n"
     ]
    }
   ],
   "source": [
    "covid_countries.info() # podemos ver que el DataFrame tiene NaNs"
   ]
  },
  {
   "cell_type": "code",
   "execution_count": 11,
   "id": "xr5b59vUVNn_",
   "metadata": {
    "colab": {
     "base_uri": "https://localhost:8080/"
    },
    "executionInfo": {
     "elapsed": 192,
     "status": "ok",
     "timestamp": 1675915879826,
     "user": {
      "displayName": "gerardo antonio fuentes garcia",
      "userId": "11702168562164629048"
     },
     "user_tz": 360
    },
    "id": "xr5b59vUVNn_",
    "outputId": "4d24dd5a-c090-4325-bd55-c3b4b3ff42bc"
   },
   "outputs": [
    {
     "data": {
      "text/plain": [
       "Index(['TIMESTAMP_UTC', 'COUNTRY_CODE', 'COUNTRY_NAME', 'TOTAL_CASES',\n",
       "       'CASES_DAILY', 'TOTAL_RECOVERED', 'RECOVERED_DAILY', 'TOTAL_DEATHS',\n",
       "       'DEATHS_DAILY', 'PANIC_INDEX', 'MEDIA_HYPE_INDEX', 'FAKE_NEWS_INDEX',\n",
       "       'SENTIMENT_INDEX', 'INFODEMIC_INDEX', 'MEDIA_COVERAGE_INDEX'],\n",
       "      dtype='object')"
      ]
     },
     "execution_count": 11,
     "metadata": {},
     "output_type": "execute_result"
    }
   ],
   "source": [
    "covid_countries.columns"
   ]
  },
  {
   "cell_type": "markdown",
   "id": "a0668496-e690-4cc1-98eb-3a17ac615349",
   "metadata": {
    "id": "a0668496-e690-4cc1-98eb-3a17ac615349"
   },
   "source": [
    "----\n"
   ]
  },
  {
   "cell_type": "markdown",
   "id": "701fb024-abe5-49ce-88db-8264b1e63f09",
   "metadata": {
    "id": "701fb024-abe5-49ce-88db-8264b1e63f09"
   },
   "source": [
    "---"
   ]
  },
  {
   "cell_type": "markdown",
   "id": "um8lqt7VnPoV",
   "metadata": {
    "id": "um8lqt7VnPoV"
   },
   "source": [
    "Analizaremos ahora las bases de muertes y casos confirmados, respectivamete"
   ]
  },
  {
   "cell_type": "code",
   "execution_count": 12,
   "id": "m3TeoVfgZFj_",
   "metadata": {
    "colab": {
     "base_uri": "https://localhost:8080/"
    },
    "executionInfo": {
     "elapsed": 159,
     "status": "ok",
     "timestamp": 1675915883278,
     "user": {
      "displayName": "gerardo antonio fuentes garcia",
      "userId": "11702168562164629048"
     },
     "user_tz": 360
    },
    "id": "m3TeoVfgZFj_",
    "outputId": "4b42115c-e8c1-4dc2-d539-1a9e4dea6160"
   },
   "outputs": [
    {
     "data": {
      "text/plain": [
       "(285, 799)"
      ]
     },
     "execution_count": 12,
     "metadata": {},
     "output_type": "execute_result"
    }
   ],
   "source": [
    "covid_deaths_global_ts.shape #285 filas y 799 columnas"
   ]
  },
  {
   "cell_type": "code",
   "execution_count": 13,
   "id": "ALjcnFsHnZrd",
   "metadata": {
    "colab": {
     "base_uri": "https://localhost:8080/"
    },
    "executionInfo": {
     "elapsed": 127,
     "status": "ok",
     "timestamp": 1675915885267,
     "user": {
      "displayName": "gerardo antonio fuentes garcia",
      "userId": "11702168562164629048"
     },
     "user_tz": 360
    },
    "id": "ALjcnFsHnZrd",
    "outputId": "4205d521-b05e-47c8-be67-574d540597b3"
   },
   "outputs": [
    {
     "data": {
      "text/plain": [
       "(285, 799)"
      ]
     },
     "execution_count": 13,
     "metadata": {},
     "output_type": "execute_result"
    }
   ],
   "source": [
    "covid_confirmed_global_ts.shape #285 filas y 799 columnas"
   ]
  },
  {
   "cell_type": "code",
   "execution_count": 14,
   "id": "D9WuW3zpZK5G",
   "metadata": {
    "colab": {
     "base_uri": "https://localhost:8080/",
     "height": 299
    },
    "executionInfo": {
     "elapsed": 156,
     "status": "ok",
     "timestamp": 1675915887796,
     "user": {
      "displayName": "gerardo antonio fuentes garcia",
      "userId": "11702168562164629048"
     },
     "user_tz": 360
    },
    "id": "D9WuW3zpZK5G",
    "outputId": "cc4dc509-320a-46d1-85f4-f245fc48d97f"
   },
   "outputs": [
    {
     "data": {
      "text/html": [
       "<div>\n",
       "<style scoped>\n",
       "    .dataframe tbody tr th:only-of-type {\n",
       "        vertical-align: middle;\n",
       "    }\n",
       "\n",
       "    .dataframe tbody tr th {\n",
       "        vertical-align: top;\n",
       "    }\n",
       "\n",
       "    .dataframe thead th {\n",
       "        text-align: right;\n",
       "    }\n",
       "</style>\n",
       "<table border=\"1\" class=\"dataframe\">\n",
       "  <thead>\n",
       "    <tr style=\"text-align: right;\">\n",
       "      <th></th>\n",
       "      <th>Province/State</th>\n",
       "      <th>Country/Region</th>\n",
       "      <th>Lat</th>\n",
       "      <th>Long</th>\n",
       "      <th>1/22/20</th>\n",
       "      <th>1/23/20</th>\n",
       "      <th>1/24/20</th>\n",
       "      <th>1/25/20</th>\n",
       "      <th>1/26/20</th>\n",
       "      <th>1/27/20</th>\n",
       "      <th>...</th>\n",
       "      <th>3/17/22</th>\n",
       "      <th>3/18/22</th>\n",
       "      <th>3/19/22</th>\n",
       "      <th>3/20/22</th>\n",
       "      <th>3/21/22</th>\n",
       "      <th>3/22/22</th>\n",
       "      <th>3/23/22</th>\n",
       "      <th>3/24/22</th>\n",
       "      <th>3/25/22</th>\n",
       "      <th>3/26/22</th>\n",
       "    </tr>\n",
       "  </thead>\n",
       "  <tbody>\n",
       "    <tr>\n",
       "      <th>0</th>\n",
       "      <td>NaN</td>\n",
       "      <td>Afghanistan</td>\n",
       "      <td>33.93911</td>\n",
       "      <td>67.709953</td>\n",
       "      <td>0</td>\n",
       "      <td>0</td>\n",
       "      <td>0</td>\n",
       "      <td>0</td>\n",
       "      <td>0</td>\n",
       "      <td>0</td>\n",
       "      <td>...</td>\n",
       "      <td>7651</td>\n",
       "      <td>7651</td>\n",
       "      <td>7652</td>\n",
       "      <td>7654</td>\n",
       "      <td>7654</td>\n",
       "      <td>7656</td>\n",
       "      <td>7657</td>\n",
       "      <td>7657</td>\n",
       "      <td>7657</td>\n",
       "      <td>7657</td>\n",
       "    </tr>\n",
       "    <tr>\n",
       "      <th>1</th>\n",
       "      <td>NaN</td>\n",
       "      <td>Albania</td>\n",
       "      <td>41.15330</td>\n",
       "      <td>20.168300</td>\n",
       "      <td>0</td>\n",
       "      <td>0</td>\n",
       "      <td>0</td>\n",
       "      <td>0</td>\n",
       "      <td>0</td>\n",
       "      <td>0</td>\n",
       "      <td>...</td>\n",
       "      <td>3487</td>\n",
       "      <td>3487</td>\n",
       "      <td>3487</td>\n",
       "      <td>3487</td>\n",
       "      <td>3487</td>\n",
       "      <td>3489</td>\n",
       "      <td>3489</td>\n",
       "      <td>3489</td>\n",
       "      <td>3490</td>\n",
       "      <td>3491</td>\n",
       "    </tr>\n",
       "    <tr>\n",
       "      <th>2</th>\n",
       "      <td>NaN</td>\n",
       "      <td>Algeria</td>\n",
       "      <td>28.03390</td>\n",
       "      <td>1.659600</td>\n",
       "      <td>0</td>\n",
       "      <td>0</td>\n",
       "      <td>0</td>\n",
       "      <td>0</td>\n",
       "      <td>0</td>\n",
       "      <td>0</td>\n",
       "      <td>...</td>\n",
       "      <td>6870</td>\n",
       "      <td>6871</td>\n",
       "      <td>6871</td>\n",
       "      <td>6871</td>\n",
       "      <td>6872</td>\n",
       "      <td>6873</td>\n",
       "      <td>6873</td>\n",
       "      <td>6873</td>\n",
       "      <td>6873</td>\n",
       "      <td>6873</td>\n",
       "    </tr>\n",
       "    <tr>\n",
       "      <th>3</th>\n",
       "      <td>NaN</td>\n",
       "      <td>Andorra</td>\n",
       "      <td>42.50630</td>\n",
       "      <td>1.521800</td>\n",
       "      <td>0</td>\n",
       "      <td>0</td>\n",
       "      <td>0</td>\n",
       "      <td>0</td>\n",
       "      <td>0</td>\n",
       "      <td>0</td>\n",
       "      <td>...</td>\n",
       "      <td>153</td>\n",
       "      <td>153</td>\n",
       "      <td>153</td>\n",
       "      <td>153</td>\n",
       "      <td>153</td>\n",
       "      <td>153</td>\n",
       "      <td>153</td>\n",
       "      <td>155</td>\n",
       "      <td>153</td>\n",
       "      <td>153</td>\n",
       "    </tr>\n",
       "    <tr>\n",
       "      <th>4</th>\n",
       "      <td>NaN</td>\n",
       "      <td>Angola</td>\n",
       "      <td>-11.20270</td>\n",
       "      <td>17.873900</td>\n",
       "      <td>0</td>\n",
       "      <td>0</td>\n",
       "      <td>0</td>\n",
       "      <td>0</td>\n",
       "      <td>0</td>\n",
       "      <td>0</td>\n",
       "      <td>...</td>\n",
       "      <td>1900</td>\n",
       "      <td>1900</td>\n",
       "      <td>1900</td>\n",
       "      <td>1900</td>\n",
       "      <td>1900</td>\n",
       "      <td>1900</td>\n",
       "      <td>1900</td>\n",
       "      <td>1900</td>\n",
       "      <td>1900</td>\n",
       "      <td>1900</td>\n",
       "    </tr>\n",
       "  </tbody>\n",
       "</table>\n",
       "<p>5 rows × 799 columns</p>\n",
       "</div>"
      ],
      "text/plain": [
       "  Province/State Country/Region       Lat       Long  1/22/20  1/23/20  \\\n",
       "0            NaN    Afghanistan  33.93911  67.709953        0        0   \n",
       "1            NaN        Albania  41.15330  20.168300        0        0   \n",
       "2            NaN        Algeria  28.03390   1.659600        0        0   \n",
       "3            NaN        Andorra  42.50630   1.521800        0        0   \n",
       "4            NaN         Angola -11.20270  17.873900        0        0   \n",
       "\n",
       "   1/24/20  1/25/20  1/26/20  1/27/20  ...  3/17/22  3/18/22  3/19/22  \\\n",
       "0        0        0        0        0  ...     7651     7651     7652   \n",
       "1        0        0        0        0  ...     3487     3487     3487   \n",
       "2        0        0        0        0  ...     6870     6871     6871   \n",
       "3        0        0        0        0  ...      153      153      153   \n",
       "4        0        0        0        0  ...     1900     1900     1900   \n",
       "\n",
       "   3/20/22  3/21/22  3/22/22  3/23/22  3/24/22  3/25/22  3/26/22  \n",
       "0     7654     7654     7656     7657     7657     7657     7657  \n",
       "1     3487     3487     3489     3489     3489     3490     3491  \n",
       "2     6871     6872     6873     6873     6873     6873     6873  \n",
       "3      153      153      153      153      155      153      153  \n",
       "4     1900     1900     1900     1900     1900     1900     1900  \n",
       "\n",
       "[5 rows x 799 columns]"
      ]
     },
     "execution_count": 14,
     "metadata": {},
     "output_type": "execute_result"
    }
   ],
   "source": [
    "covid_deaths_global_ts.head()"
   ]
  },
  {
   "cell_type": "code",
   "execution_count": 15,
   "id": "WllISQlini5E",
   "metadata": {
    "colab": {
     "base_uri": "https://localhost:8080/",
     "height": 299
    },
    "executionInfo": {
     "elapsed": 150,
     "status": "ok",
     "timestamp": 1675915890906,
     "user": {
      "displayName": "gerardo antonio fuentes garcia",
      "userId": "11702168562164629048"
     },
     "user_tz": 360
    },
    "id": "WllISQlini5E",
    "outputId": "f00d29bb-a91c-440e-d989-32ac47b266c3"
   },
   "outputs": [
    {
     "data": {
      "text/html": [
       "<div>\n",
       "<style scoped>\n",
       "    .dataframe tbody tr th:only-of-type {\n",
       "        vertical-align: middle;\n",
       "    }\n",
       "\n",
       "    .dataframe tbody tr th {\n",
       "        vertical-align: top;\n",
       "    }\n",
       "\n",
       "    .dataframe thead th {\n",
       "        text-align: right;\n",
       "    }\n",
       "</style>\n",
       "<table border=\"1\" class=\"dataframe\">\n",
       "  <thead>\n",
       "    <tr style=\"text-align: right;\">\n",
       "      <th></th>\n",
       "      <th>Province/State</th>\n",
       "      <th>Country/Region</th>\n",
       "      <th>Lat</th>\n",
       "      <th>Long</th>\n",
       "      <th>1/22/20</th>\n",
       "      <th>1/23/20</th>\n",
       "      <th>1/24/20</th>\n",
       "      <th>1/25/20</th>\n",
       "      <th>1/26/20</th>\n",
       "      <th>1/27/20</th>\n",
       "      <th>...</th>\n",
       "      <th>3/17/22</th>\n",
       "      <th>3/18/22</th>\n",
       "      <th>3/19/22</th>\n",
       "      <th>3/20/22</th>\n",
       "      <th>3/21/22</th>\n",
       "      <th>3/22/22</th>\n",
       "      <th>3/23/22</th>\n",
       "      <th>3/24/22</th>\n",
       "      <th>3/25/22</th>\n",
       "      <th>3/26/22</th>\n",
       "    </tr>\n",
       "  </thead>\n",
       "  <tbody>\n",
       "    <tr>\n",
       "      <th>0</th>\n",
       "      <td>NaN</td>\n",
       "      <td>Afghanistan</td>\n",
       "      <td>33.93911</td>\n",
       "      <td>67.709953</td>\n",
       "      <td>0</td>\n",
       "      <td>0</td>\n",
       "      <td>0</td>\n",
       "      <td>0</td>\n",
       "      <td>0</td>\n",
       "      <td>0</td>\n",
       "      <td>...</td>\n",
       "      <td>176918</td>\n",
       "      <td>176983</td>\n",
       "      <td>177039</td>\n",
       "      <td>177093</td>\n",
       "      <td>177191</td>\n",
       "      <td>177255</td>\n",
       "      <td>177321</td>\n",
       "      <td>177321</td>\n",
       "      <td>177321</td>\n",
       "      <td>177321</td>\n",
       "    </tr>\n",
       "    <tr>\n",
       "      <th>1</th>\n",
       "      <td>NaN</td>\n",
       "      <td>Albania</td>\n",
       "      <td>41.15330</td>\n",
       "      <td>20.168300</td>\n",
       "      <td>0</td>\n",
       "      <td>0</td>\n",
       "      <td>0</td>\n",
       "      <td>0</td>\n",
       "      <td>0</td>\n",
       "      <td>0</td>\n",
       "      <td>...</td>\n",
       "      <td>272885</td>\n",
       "      <td>272961</td>\n",
       "      <td>273040</td>\n",
       "      <td>273088</td>\n",
       "      <td>273088</td>\n",
       "      <td>273146</td>\n",
       "      <td>273164</td>\n",
       "      <td>273257</td>\n",
       "      <td>273318</td>\n",
       "      <td>273387</td>\n",
       "    </tr>\n",
       "    <tr>\n",
       "      <th>2</th>\n",
       "      <td>NaN</td>\n",
       "      <td>Algeria</td>\n",
       "      <td>28.03390</td>\n",
       "      <td>1.659600</td>\n",
       "      <td>0</td>\n",
       "      <td>0</td>\n",
       "      <td>0</td>\n",
       "      <td>0</td>\n",
       "      <td>0</td>\n",
       "      <td>0</td>\n",
       "      <td>...</td>\n",
       "      <td>265511</td>\n",
       "      <td>265524</td>\n",
       "      <td>265539</td>\n",
       "      <td>265550</td>\n",
       "      <td>265562</td>\n",
       "      <td>265573</td>\n",
       "      <td>265585</td>\n",
       "      <td>265599</td>\n",
       "      <td>265612</td>\n",
       "      <td>265621</td>\n",
       "    </tr>\n",
       "    <tr>\n",
       "      <th>3</th>\n",
       "      <td>NaN</td>\n",
       "      <td>Andorra</td>\n",
       "      <td>42.50630</td>\n",
       "      <td>1.521800</td>\n",
       "      <td>0</td>\n",
       "      <td>0</td>\n",
       "      <td>0</td>\n",
       "      <td>0</td>\n",
       "      <td>0</td>\n",
       "      <td>0</td>\n",
       "      <td>...</td>\n",
       "      <td>39234</td>\n",
       "      <td>39234</td>\n",
       "      <td>39234</td>\n",
       "      <td>39234</td>\n",
       "      <td>39234</td>\n",
       "      <td>39234</td>\n",
       "      <td>39713</td>\n",
       "      <td>39713</td>\n",
       "      <td>39713</td>\n",
       "      <td>39713</td>\n",
       "    </tr>\n",
       "    <tr>\n",
       "      <th>4</th>\n",
       "      <td>NaN</td>\n",
       "      <td>Angola</td>\n",
       "      <td>-11.20270</td>\n",
       "      <td>17.873900</td>\n",
       "      <td>0</td>\n",
       "      <td>0</td>\n",
       "      <td>0</td>\n",
       "      <td>0</td>\n",
       "      <td>0</td>\n",
       "      <td>0</td>\n",
       "      <td>...</td>\n",
       "      <td>99003</td>\n",
       "      <td>99003</td>\n",
       "      <td>99003</td>\n",
       "      <td>99003</td>\n",
       "      <td>99010</td>\n",
       "      <td>99058</td>\n",
       "      <td>99058</td>\n",
       "      <td>99081</td>\n",
       "      <td>99102</td>\n",
       "      <td>99106</td>\n",
       "    </tr>\n",
       "  </tbody>\n",
       "</table>\n",
       "<p>5 rows × 799 columns</p>\n",
       "</div>"
      ],
      "text/plain": [
       "  Province/State Country/Region       Lat       Long  1/22/20  1/23/20  \\\n",
       "0            NaN    Afghanistan  33.93911  67.709953        0        0   \n",
       "1            NaN        Albania  41.15330  20.168300        0        0   \n",
       "2            NaN        Algeria  28.03390   1.659600        0        0   \n",
       "3            NaN        Andorra  42.50630   1.521800        0        0   \n",
       "4            NaN         Angola -11.20270  17.873900        0        0   \n",
       "\n",
       "   1/24/20  1/25/20  1/26/20  1/27/20  ...  3/17/22  3/18/22  3/19/22  \\\n",
       "0        0        0        0        0  ...   176918   176983   177039   \n",
       "1        0        0        0        0  ...   272885   272961   273040   \n",
       "2        0        0        0        0  ...   265511   265524   265539   \n",
       "3        0        0        0        0  ...    39234    39234    39234   \n",
       "4        0        0        0        0  ...    99003    99003    99003   \n",
       "\n",
       "   3/20/22  3/21/22  3/22/22  3/23/22  3/24/22  3/25/22  3/26/22  \n",
       "0   177093   177191   177255   177321   177321   177321   177321  \n",
       "1   273088   273088   273146   273164   273257   273318   273387  \n",
       "2   265550   265562   265573   265585   265599   265612   265621  \n",
       "3    39234    39234    39234    39713    39713    39713    39713  \n",
       "4    99003    99010    99058    99058    99081    99102    99106  \n",
       "\n",
       "[5 rows x 799 columns]"
      ]
     },
     "execution_count": 15,
     "metadata": {},
     "output_type": "execute_result"
    }
   ],
   "source": [
    "covid_confirmed_global_ts.head()"
   ]
  },
  {
   "cell_type": "markdown",
   "id": "VZVGjJkrhG2K",
   "metadata": {
    "id": "VZVGjJkrhG2K"
   },
   "source": [
    "Para el caso de estas series observamos que la forma en la que estan diseñadas es con las fechas, a partir del 22 de Enero 2020, en forma de columna mientras que los paises por fila. En la siguiente sección le daremos el formato adecuado. "
   ]
  },
  {
   "cell_type": "code",
   "execution_count": 16,
   "id": "_yjujy7CZKHK",
   "metadata": {
    "colab": {
     "base_uri": "https://localhost:8080/",
     "height": 317
    },
    "executionInfo": {
     "elapsed": 169,
     "status": "ok",
     "timestamp": 1675915893743,
     "user": {
      "displayName": "gerardo antonio fuentes garcia",
      "userId": "11702168562164629048"
     },
     "user_tz": 360
    },
    "id": "_yjujy7CZKHK",
    "outputId": "3ad75bcb-0570-430f-937a-8af5446068ad"
   },
   "outputs": [
    {
     "data": {
      "text/html": [
       "<div>\n",
       "<style scoped>\n",
       "    .dataframe tbody tr th:only-of-type {\n",
       "        vertical-align: middle;\n",
       "    }\n",
       "\n",
       "    .dataframe tbody tr th {\n",
       "        vertical-align: top;\n",
       "    }\n",
       "\n",
       "    .dataframe thead th {\n",
       "        text-align: right;\n",
       "    }\n",
       "</style>\n",
       "<table border=\"1\" class=\"dataframe\">\n",
       "  <thead>\n",
       "    <tr style=\"text-align: right;\">\n",
       "      <th></th>\n",
       "      <th>Province/State</th>\n",
       "      <th>Country/Region</th>\n",
       "      <th>Lat</th>\n",
       "      <th>Long</th>\n",
       "      <th>1/22/20</th>\n",
       "      <th>1/23/20</th>\n",
       "      <th>1/24/20</th>\n",
       "      <th>1/25/20</th>\n",
       "      <th>1/26/20</th>\n",
       "      <th>1/27/20</th>\n",
       "      <th>...</th>\n",
       "      <th>3/17/22</th>\n",
       "      <th>3/18/22</th>\n",
       "      <th>3/19/22</th>\n",
       "      <th>3/20/22</th>\n",
       "      <th>3/21/22</th>\n",
       "      <th>3/22/22</th>\n",
       "      <th>3/23/22</th>\n",
       "      <th>3/24/22</th>\n",
       "      <th>3/25/22</th>\n",
       "      <th>3/26/22</th>\n",
       "    </tr>\n",
       "  </thead>\n",
       "  <tbody>\n",
       "    <tr>\n",
       "      <th>280</th>\n",
       "      <td>NaN</td>\n",
       "      <td>Winter Olympics 2022</td>\n",
       "      <td>39.904200</td>\n",
       "      <td>116.407400</td>\n",
       "      <td>0</td>\n",
       "      <td>0</td>\n",
       "      <td>0</td>\n",
       "      <td>0</td>\n",
       "      <td>0</td>\n",
       "      <td>0</td>\n",
       "      <td>...</td>\n",
       "      <td>0</td>\n",
       "      <td>0</td>\n",
       "      <td>0</td>\n",
       "      <td>0</td>\n",
       "      <td>0</td>\n",
       "      <td>0</td>\n",
       "      <td>0</td>\n",
       "      <td>0</td>\n",
       "      <td>0</td>\n",
       "      <td>0</td>\n",
       "    </tr>\n",
       "    <tr>\n",
       "      <th>281</th>\n",
       "      <td>NaN</td>\n",
       "      <td>Yemen</td>\n",
       "      <td>15.552727</td>\n",
       "      <td>48.516388</td>\n",
       "      <td>0</td>\n",
       "      <td>0</td>\n",
       "      <td>0</td>\n",
       "      <td>0</td>\n",
       "      <td>0</td>\n",
       "      <td>0</td>\n",
       "      <td>...</td>\n",
       "      <td>2140</td>\n",
       "      <td>2140</td>\n",
       "      <td>2140</td>\n",
       "      <td>2140</td>\n",
       "      <td>2142</td>\n",
       "      <td>2142</td>\n",
       "      <td>2142</td>\n",
       "      <td>2142</td>\n",
       "      <td>2142</td>\n",
       "      <td>2142</td>\n",
       "    </tr>\n",
       "    <tr>\n",
       "      <th>282</th>\n",
       "      <td>NaN</td>\n",
       "      <td>Zambia</td>\n",
       "      <td>-13.133897</td>\n",
       "      <td>27.849332</td>\n",
       "      <td>0</td>\n",
       "      <td>0</td>\n",
       "      <td>0</td>\n",
       "      <td>0</td>\n",
       "      <td>0</td>\n",
       "      <td>0</td>\n",
       "      <td>...</td>\n",
       "      <td>3962</td>\n",
       "      <td>3962</td>\n",
       "      <td>3962</td>\n",
       "      <td>3962</td>\n",
       "      <td>3963</td>\n",
       "      <td>3963</td>\n",
       "      <td>3964</td>\n",
       "      <td>3965</td>\n",
       "      <td>3966</td>\n",
       "      <td>3966</td>\n",
       "    </tr>\n",
       "    <tr>\n",
       "      <th>283</th>\n",
       "      <td>NaN</td>\n",
       "      <td>Zimbabwe</td>\n",
       "      <td>-19.015438</td>\n",
       "      <td>29.154857</td>\n",
       "      <td>0</td>\n",
       "      <td>0</td>\n",
       "      <td>0</td>\n",
       "      <td>0</td>\n",
       "      <td>0</td>\n",
       "      <td>0</td>\n",
       "      <td>...</td>\n",
       "      <td>5418</td>\n",
       "      <td>5420</td>\n",
       "      <td>5426</td>\n",
       "      <td>5426</td>\n",
       "      <td>5429</td>\n",
       "      <td>5429</td>\n",
       "      <td>5432</td>\n",
       "      <td>5432</td>\n",
       "      <td>5436</td>\n",
       "      <td>5436</td>\n",
       "    </tr>\n",
       "    <tr>\n",
       "      <th>284</th>\n",
       "      <td>NaN</td>\n",
       "      <td>NaN</td>\n",
       "      <td>NaN</td>\n",
       "      <td>NaN</td>\n",
       "      <td>17</td>\n",
       "      <td>18</td>\n",
       "      <td>26</td>\n",
       "      <td>42</td>\n",
       "      <td>56</td>\n",
       "      <td>82</td>\n",
       "      <td>...</td>\n",
       "      <td>6065477</td>\n",
       "      <td>6070849</td>\n",
       "      <td>6074560</td>\n",
       "      <td>6077582</td>\n",
       "      <td>6093852</td>\n",
       "      <td>6098771</td>\n",
       "      <td>6104376</td>\n",
       "      <td>6109654</td>\n",
       "      <td>6118501</td>\n",
       "      <td>6121153</td>\n",
       "    </tr>\n",
       "  </tbody>\n",
       "</table>\n",
       "<p>5 rows × 799 columns</p>\n",
       "</div>"
      ],
      "text/plain": [
       "    Province/State        Country/Region        Lat        Long  1/22/20  \\\n",
       "280            NaN  Winter Olympics 2022  39.904200  116.407400        0   \n",
       "281            NaN                 Yemen  15.552727   48.516388        0   \n",
       "282            NaN                Zambia -13.133897   27.849332        0   \n",
       "283            NaN              Zimbabwe -19.015438   29.154857        0   \n",
       "284            NaN                   NaN        NaN         NaN       17   \n",
       "\n",
       "     1/23/20  1/24/20  1/25/20  1/26/20  1/27/20  ...  3/17/22  3/18/22  \\\n",
       "280        0        0        0        0        0  ...        0        0   \n",
       "281        0        0        0        0        0  ...     2140     2140   \n",
       "282        0        0        0        0        0  ...     3962     3962   \n",
       "283        0        0        0        0        0  ...     5418     5420   \n",
       "284       18       26       42       56       82  ...  6065477  6070849   \n",
       "\n",
       "     3/19/22  3/20/22  3/21/22  3/22/22  3/23/22  3/24/22  3/25/22  3/26/22  \n",
       "280        0        0        0        0        0        0        0        0  \n",
       "281     2140     2140     2142     2142     2142     2142     2142     2142  \n",
       "282     3962     3962     3963     3963     3964     3965     3966     3966  \n",
       "283     5426     5426     5429     5429     5432     5432     5436     5436  \n",
       "284  6074560  6077582  6093852  6098771  6104376  6109654  6118501  6121153  \n",
       "\n",
       "[5 rows x 799 columns]"
      ]
     },
     "execution_count": 16,
     "metadata": {},
     "output_type": "execute_result"
    }
   ],
   "source": [
    "covid_deaths_global_ts.tail()"
   ]
  },
  {
   "cell_type": "code",
   "execution_count": 17,
   "id": "fayGkGl4nsRq",
   "metadata": {
    "colab": {
     "base_uri": "https://localhost:8080/",
     "height": 317
    },
    "executionInfo": {
     "elapsed": 161,
     "status": "ok",
     "timestamp": 1675915896583,
     "user": {
      "displayName": "gerardo antonio fuentes garcia",
      "userId": "11702168562164629048"
     },
     "user_tz": 360
    },
    "id": "fayGkGl4nsRq",
    "outputId": "d96cf287-13cb-4f7b-bbb4-1135a094a210"
   },
   "outputs": [
    {
     "data": {
      "text/html": [
       "<div>\n",
       "<style scoped>\n",
       "    .dataframe tbody tr th:only-of-type {\n",
       "        vertical-align: middle;\n",
       "    }\n",
       "\n",
       "    .dataframe tbody tr th {\n",
       "        vertical-align: top;\n",
       "    }\n",
       "\n",
       "    .dataframe thead th {\n",
       "        text-align: right;\n",
       "    }\n",
       "</style>\n",
       "<table border=\"1\" class=\"dataframe\">\n",
       "  <thead>\n",
       "    <tr style=\"text-align: right;\">\n",
       "      <th></th>\n",
       "      <th>Province/State</th>\n",
       "      <th>Country/Region</th>\n",
       "      <th>Lat</th>\n",
       "      <th>Long</th>\n",
       "      <th>1/22/20</th>\n",
       "      <th>1/23/20</th>\n",
       "      <th>1/24/20</th>\n",
       "      <th>1/25/20</th>\n",
       "      <th>1/26/20</th>\n",
       "      <th>1/27/20</th>\n",
       "      <th>...</th>\n",
       "      <th>3/17/22</th>\n",
       "      <th>3/18/22</th>\n",
       "      <th>3/19/22</th>\n",
       "      <th>3/20/22</th>\n",
       "      <th>3/21/22</th>\n",
       "      <th>3/22/22</th>\n",
       "      <th>3/23/22</th>\n",
       "      <th>3/24/22</th>\n",
       "      <th>3/25/22</th>\n",
       "      <th>3/26/22</th>\n",
       "    </tr>\n",
       "  </thead>\n",
       "  <tbody>\n",
       "    <tr>\n",
       "      <th>280</th>\n",
       "      <td>NaN</td>\n",
       "      <td>Winter Olympics 2022</td>\n",
       "      <td>39.904200</td>\n",
       "      <td>116.407400</td>\n",
       "      <td>0</td>\n",
       "      <td>0</td>\n",
       "      <td>0</td>\n",
       "      <td>0</td>\n",
       "      <td>0</td>\n",
       "      <td>0</td>\n",
       "      <td>...</td>\n",
       "      <td>535</td>\n",
       "      <td>535</td>\n",
       "      <td>535</td>\n",
       "      <td>535</td>\n",
       "      <td>535</td>\n",
       "      <td>535</td>\n",
       "      <td>535</td>\n",
       "      <td>535</td>\n",
       "      <td>535</td>\n",
       "      <td>535</td>\n",
       "    </tr>\n",
       "    <tr>\n",
       "      <th>281</th>\n",
       "      <td>NaN</td>\n",
       "      <td>Yemen</td>\n",
       "      <td>15.552727</td>\n",
       "      <td>48.516388</td>\n",
       "      <td>0</td>\n",
       "      <td>0</td>\n",
       "      <td>0</td>\n",
       "      <td>0</td>\n",
       "      <td>0</td>\n",
       "      <td>0</td>\n",
       "      <td>...</td>\n",
       "      <td>11797</td>\n",
       "      <td>11797</td>\n",
       "      <td>11799</td>\n",
       "      <td>11801</td>\n",
       "      <td>11801</td>\n",
       "      <td>11802</td>\n",
       "      <td>11802</td>\n",
       "      <td>11803</td>\n",
       "      <td>11803</td>\n",
       "      <td>11803</td>\n",
       "    </tr>\n",
       "    <tr>\n",
       "      <th>282</th>\n",
       "      <td>NaN</td>\n",
       "      <td>Zambia</td>\n",
       "      <td>-13.133897</td>\n",
       "      <td>27.849332</td>\n",
       "      <td>0</td>\n",
       "      <td>0</td>\n",
       "      <td>0</td>\n",
       "      <td>0</td>\n",
       "      <td>0</td>\n",
       "      <td>0</td>\n",
       "      <td>...</td>\n",
       "      <td>315623</td>\n",
       "      <td>315623</td>\n",
       "      <td>315623</td>\n",
       "      <td>315623</td>\n",
       "      <td>315892</td>\n",
       "      <td>316088</td>\n",
       "      <td>316190</td>\n",
       "      <td>316312</td>\n",
       "      <td>316422</td>\n",
       "      <td>316501</td>\n",
       "    </tr>\n",
       "    <tr>\n",
       "      <th>283</th>\n",
       "      <td>NaN</td>\n",
       "      <td>Zimbabwe</td>\n",
       "      <td>-19.015438</td>\n",
       "      <td>29.154857</td>\n",
       "      <td>0</td>\n",
       "      <td>0</td>\n",
       "      <td>0</td>\n",
       "      <td>0</td>\n",
       "      <td>0</td>\n",
       "      <td>0</td>\n",
       "      <td>...</td>\n",
       "      <td>243650</td>\n",
       "      <td>244012</td>\n",
       "      <td>244452</td>\n",
       "      <td>244452</td>\n",
       "      <td>244685</td>\n",
       "      <td>244685</td>\n",
       "      <td>244958</td>\n",
       "      <td>245194</td>\n",
       "      <td>245645</td>\n",
       "      <td>245645</td>\n",
       "    </tr>\n",
       "    <tr>\n",
       "      <th>284</th>\n",
       "      <td>NaN</td>\n",
       "      <td>NaN</td>\n",
       "      <td>NaN</td>\n",
       "      <td>NaN</td>\n",
       "      <td>557</td>\n",
       "      <td>657</td>\n",
       "      <td>944</td>\n",
       "      <td>1437</td>\n",
       "      <td>2120</td>\n",
       "      <td>2929</td>\n",
       "      <td>...</td>\n",
       "      <td>466259612</td>\n",
       "      <td>468134463</td>\n",
       "      <td>469714863</td>\n",
       "      <td>470738479</td>\n",
       "      <td>472117794</td>\n",
       "      <td>474115961</td>\n",
       "      <td>475759803</td>\n",
       "      <td>477341058</td>\n",
       "      <td>479006042</td>\n",
       "      <td>480111061</td>\n",
       "    </tr>\n",
       "  </tbody>\n",
       "</table>\n",
       "<p>5 rows × 799 columns</p>\n",
       "</div>"
      ],
      "text/plain": [
       "    Province/State        Country/Region        Lat        Long  1/22/20  \\\n",
       "280            NaN  Winter Olympics 2022  39.904200  116.407400        0   \n",
       "281            NaN                 Yemen  15.552727   48.516388        0   \n",
       "282            NaN                Zambia -13.133897   27.849332        0   \n",
       "283            NaN              Zimbabwe -19.015438   29.154857        0   \n",
       "284            NaN                   NaN        NaN         NaN      557   \n",
       "\n",
       "     1/23/20  1/24/20  1/25/20  1/26/20  1/27/20  ...    3/17/22    3/18/22  \\\n",
       "280        0        0        0        0        0  ...        535        535   \n",
       "281        0        0        0        0        0  ...      11797      11797   \n",
       "282        0        0        0        0        0  ...     315623     315623   \n",
       "283        0        0        0        0        0  ...     243650     244012   \n",
       "284      657      944     1437     2120     2929  ...  466259612  468134463   \n",
       "\n",
       "       3/19/22    3/20/22    3/21/22    3/22/22    3/23/22    3/24/22  \\\n",
       "280        535        535        535        535        535        535   \n",
       "281      11799      11801      11801      11802      11802      11803   \n",
       "282     315623     315623     315892     316088     316190     316312   \n",
       "283     244452     244452     244685     244685     244958     245194   \n",
       "284  469714863  470738479  472117794  474115961  475759803  477341058   \n",
       "\n",
       "       3/25/22    3/26/22  \n",
       "280        535        535  \n",
       "281      11803      11803  \n",
       "282     316422     316501  \n",
       "283     245645     245645  \n",
       "284  479006042  480111061  \n",
       "\n",
       "[5 rows x 799 columns]"
      ]
     },
     "execution_count": 17,
     "metadata": {},
     "output_type": "execute_result"
    }
   ],
   "source": [
    "covid_confirmed_global_ts.tail()"
   ]
  },
  {
   "cell_type": "code",
   "execution_count": 18,
   "id": "86X64kc2ZKB_",
   "metadata": {
    "colab": {
     "base_uri": "https://localhost:8080/"
    },
    "executionInfo": {
     "elapsed": 164,
     "status": "ok",
     "timestamp": 1675915899723,
     "user": {
      "displayName": "gerardo antonio fuentes garcia",
      "userId": "11702168562164629048"
     },
     "user_tz": 360
    },
    "id": "86X64kc2ZKB_",
    "outputId": "8085067b-74b2-4868-b199-357ae710d898"
   },
   "outputs": [
    {
     "data": {
      "text/plain": [
       "Province/State     object\n",
       "Country/Region     object\n",
       "Lat               float64\n",
       "Long              float64\n",
       "1/22/20             int64\n",
       "                   ...   \n",
       "3/22/22             int64\n",
       "3/23/22             int64\n",
       "3/24/22             int64\n",
       "3/25/22             int64\n",
       "3/26/22             int64\n",
       "Length: 799, dtype: object"
      ]
     },
     "execution_count": 18,
     "metadata": {},
     "output_type": "execute_result"
    }
   ],
   "source": [
    "covid_deaths_global_ts.dtypes"
   ]
  },
  {
   "cell_type": "code",
   "execution_count": 19,
   "id": "HsSvyf5qnwmp",
   "metadata": {
    "colab": {
     "base_uri": "https://localhost:8080/"
    },
    "executionInfo": {
     "elapsed": 409,
     "status": "ok",
     "timestamp": 1675915902927,
     "user": {
      "displayName": "gerardo antonio fuentes garcia",
      "userId": "11702168562164629048"
     },
     "user_tz": 360
    },
    "id": "HsSvyf5qnwmp",
    "outputId": "4080f4ae-64e3-44e0-9b5b-d1b03694e25a"
   },
   "outputs": [
    {
     "data": {
      "text/plain": [
       "Province/State     object\n",
       "Country/Region     object\n",
       "Lat               float64\n",
       "Long              float64\n",
       "1/22/20             int64\n",
       "                   ...   \n",
       "3/22/22             int64\n",
       "3/23/22             int64\n",
       "3/24/22             int64\n",
       "3/25/22             int64\n",
       "3/26/22             int64\n",
       "Length: 799, dtype: object"
      ]
     },
     "execution_count": 19,
     "metadata": {},
     "output_type": "execute_result"
    }
   ],
   "source": [
    "covid_confirmed_global_ts.dtypes"
   ]
  },
  {
   "cell_type": "code",
   "execution_count": 20,
   "id": "qjas5VboZJ8Q",
   "metadata": {
    "colab": {
     "base_uri": "https://localhost:8080/"
    },
    "executionInfo": {
     "elapsed": 238,
     "status": "ok",
     "timestamp": 1675915906055,
     "user": {
      "displayName": "gerardo antonio fuentes garcia",
      "userId": "11702168562164629048"
     },
     "user_tz": 360
    },
    "id": "qjas5VboZJ8Q",
    "outputId": "4b011e13-10f0-4270-cca8-71373e2bc3ff"
   },
   "outputs": [
    {
     "name": "stdout",
     "output_type": "stream",
     "text": [
      "<class 'pandas.core.frame.DataFrame'>\n",
      "RangeIndex: 285 entries, 0 to 284\n",
      "Columns: 799 entries, Province/State to 3/26/22\n",
      "dtypes: float64(2), int64(795), object(2)\n",
      "memory usage: 1.7+ MB\n"
     ]
    }
   ],
   "source": [
    "covid_deaths_global_ts.info()"
   ]
  },
  {
   "cell_type": "code",
   "execution_count": 21,
   "id": "VShk2TvVn0uU",
   "metadata": {
    "colab": {
     "base_uri": "https://localhost:8080/"
    },
    "executionInfo": {
     "elapsed": 145,
     "status": "ok",
     "timestamp": 1675915908789,
     "user": {
      "displayName": "gerardo antonio fuentes garcia",
      "userId": "11702168562164629048"
     },
     "user_tz": 360
    },
    "id": "VShk2TvVn0uU",
    "outputId": "1a4f0464-149a-434f-b1a8-acd6bdb3d228"
   },
   "outputs": [
    {
     "name": "stdout",
     "output_type": "stream",
     "text": [
      "<class 'pandas.core.frame.DataFrame'>\n",
      "RangeIndex: 285 entries, 0 to 284\n",
      "Columns: 799 entries, Province/State to 3/26/22\n",
      "dtypes: float64(2), int64(795), object(2)\n",
      "memory usage: 1.7+ MB\n"
     ]
    }
   ],
   "source": [
    "covid_confirmed_global_ts.info()"
   ]
  },
  {
   "cell_type": "code",
   "execution_count": 22,
   "id": "o6qnqiJJY-h0",
   "metadata": {
    "colab": {
     "base_uri": "https://localhost:8080/"
    },
    "executionInfo": {
     "elapsed": 163,
     "status": "ok",
     "timestamp": 1675915910720,
     "user": {
      "displayName": "gerardo antonio fuentes garcia",
      "userId": "11702168562164629048"
     },
     "user_tz": 360
    },
    "id": "o6qnqiJJY-h0",
    "outputId": "abaed1a9-25a3-4ff7-ad71-2b0b4a40c10f"
   },
   "outputs": [
    {
     "data": {
      "text/plain": [
       "Index(['Province/State', 'Country/Region', 'Lat', 'Long', '1/22/20', '1/23/20',\n",
       "       '1/24/20', '1/25/20', '1/26/20', '1/27/20',\n",
       "       ...\n",
       "       '3/17/22', '3/18/22', '3/19/22', '3/20/22', '3/21/22', '3/22/22',\n",
       "       '3/23/22', '3/24/22', '3/25/22', '3/26/22'],\n",
       "      dtype='object', length=799)"
      ]
     },
     "execution_count": 22,
     "metadata": {},
     "output_type": "execute_result"
    }
   ],
   "source": [
    "covid_deaths_global_ts.columns"
   ]
  },
  {
   "cell_type": "code",
   "execution_count": 23,
   "id": "RzLs1Sx4n4x_",
   "metadata": {
    "colab": {
     "base_uri": "https://localhost:8080/"
    },
    "executionInfo": {
     "elapsed": 132,
     "status": "ok",
     "timestamp": 1675915913269,
     "user": {
      "displayName": "gerardo antonio fuentes garcia",
      "userId": "11702168562164629048"
     },
     "user_tz": 360
    },
    "id": "RzLs1Sx4n4x_",
    "outputId": "5ec1abcc-c8e9-4c96-8e18-3d29f3a738cf"
   },
   "outputs": [
    {
     "data": {
      "text/plain": [
       "Index(['Province/State', 'Country/Region', 'Lat', 'Long', '1/22/20', '1/23/20',\n",
       "       '1/24/20', '1/25/20', '1/26/20', '1/27/20',\n",
       "       ...\n",
       "       '3/17/22', '3/18/22', '3/19/22', '3/20/22', '3/21/22', '3/22/22',\n",
       "       '3/23/22', '3/24/22', '3/25/22', '3/26/22'],\n",
       "      dtype='object', length=799)"
      ]
     },
     "execution_count": 23,
     "metadata": {},
     "output_type": "execute_result"
    }
   ],
   "source": [
    "covid_confirmed_global_ts.columns"
   ]
  },
  {
   "cell_type": "markdown",
   "id": "aaf2c047-e7b0-41aa-b53f-adac66c2e8e3",
   "metadata": {
    "id": "aaf2c047-e7b0-41aa-b53f-adac66c2e8e3"
   },
   "source": [
    "----"
   ]
  },
  {
   "cell_type": "markdown",
   "id": "qftF4BwEhAKH",
   "metadata": {
    "id": "qftF4BwEhAKH"
   },
   "source": [
    "----"
   ]
  },
  {
   "cell_type": "markdown",
   "id": "OeqDp5vJn9Vw",
   "metadata": {
    "id": "OeqDp5vJn9Vw"
   },
   "source": [
    "Finalmente, la serie del BTC"
   ]
  },
  {
   "cell_type": "code",
   "execution_count": 24,
   "id": "43e33456-aa59-4429-99fa-1cf6ced5ad36",
   "metadata": {
    "colab": {
     "base_uri": "https://localhost:8080/"
    },
    "executionInfo": {
     "elapsed": 181,
     "status": "ok",
     "timestamp": 1675915916440,
     "user": {
      "displayName": "gerardo antonio fuentes garcia",
      "userId": "11702168562164629048"
     },
     "user_tz": 360
    },
    "id": "43e33456-aa59-4429-99fa-1cf6ced5ad36",
    "outputId": "e21810f5-33d2-4b93-ba04-f1f63b95d615"
   },
   "outputs": [
    {
     "data": {
      "text/plain": [
       "(1095, 6)"
      ]
     },
     "execution_count": 24,
     "metadata": {},
     "output_type": "execute_result"
    }
   ],
   "source": [
    "bitcoin.shape"
   ]
  },
  {
   "cell_type": "code",
   "execution_count": 25,
   "id": "8r5psu1phEfz",
   "metadata": {
    "colab": {
     "base_uri": "https://localhost:8080/",
     "height": 237
    },
    "executionInfo": {
     "elapsed": 196,
     "status": "ok",
     "timestamp": 1675915918847,
     "user": {
      "displayName": "gerardo antonio fuentes garcia",
      "userId": "11702168562164629048"
     },
     "user_tz": 360
    },
    "id": "8r5psu1phEfz",
    "outputId": "ad6a1959-a368-453a-d441-fb1f6b93b002"
   },
   "outputs": [
    {
     "data": {
      "text/html": [
       "<div>\n",
       "<style scoped>\n",
       "    .dataframe tbody tr th:only-of-type {\n",
       "        vertical-align: middle;\n",
       "    }\n",
       "\n",
       "    .dataframe tbody tr th {\n",
       "        vertical-align: top;\n",
       "    }\n",
       "\n",
       "    .dataframe thead th {\n",
       "        text-align: right;\n",
       "    }\n",
       "</style>\n",
       "<table border=\"1\" class=\"dataframe\">\n",
       "  <thead>\n",
       "    <tr style=\"text-align: right;\">\n",
       "      <th></th>\n",
       "      <th>Open</th>\n",
       "      <th>High</th>\n",
       "      <th>Low</th>\n",
       "      <th>Close</th>\n",
       "      <th>Adj Close</th>\n",
       "      <th>Volume</th>\n",
       "    </tr>\n",
       "    <tr>\n",
       "      <th>Date</th>\n",
       "      <th></th>\n",
       "      <th></th>\n",
       "      <th></th>\n",
       "      <th></th>\n",
       "      <th></th>\n",
       "      <th></th>\n",
       "    </tr>\n",
       "  </thead>\n",
       "  <tbody>\n",
       "    <tr>\n",
       "      <th>2020-01-01 00:00:00+00:00</th>\n",
       "      <td>7194.892090</td>\n",
       "      <td>7254.330566</td>\n",
       "      <td>7174.944336</td>\n",
       "      <td>7200.174316</td>\n",
       "      <td>7200.174316</td>\n",
       "      <td>18565664997</td>\n",
       "    </tr>\n",
       "    <tr>\n",
       "      <th>2020-01-02 00:00:00+00:00</th>\n",
       "      <td>7202.551270</td>\n",
       "      <td>7212.155273</td>\n",
       "      <td>6935.270020</td>\n",
       "      <td>6985.470215</td>\n",
       "      <td>6985.470215</td>\n",
       "      <td>20802083465</td>\n",
       "    </tr>\n",
       "    <tr>\n",
       "      <th>2020-01-03 00:00:00+00:00</th>\n",
       "      <td>6984.428711</td>\n",
       "      <td>7413.715332</td>\n",
       "      <td>6914.996094</td>\n",
       "      <td>7344.884277</td>\n",
       "      <td>7344.884277</td>\n",
       "      <td>28111481032</td>\n",
       "    </tr>\n",
       "    <tr>\n",
       "      <th>2020-01-04 00:00:00+00:00</th>\n",
       "      <td>7345.375488</td>\n",
       "      <td>7427.385742</td>\n",
       "      <td>7309.514160</td>\n",
       "      <td>7410.656738</td>\n",
       "      <td>7410.656738</td>\n",
       "      <td>18444271275</td>\n",
       "    </tr>\n",
       "    <tr>\n",
       "      <th>2020-01-05 00:00:00+00:00</th>\n",
       "      <td>7410.451660</td>\n",
       "      <td>7544.497070</td>\n",
       "      <td>7400.535645</td>\n",
       "      <td>7411.317383</td>\n",
       "      <td>7411.317383</td>\n",
       "      <td>19725074095</td>\n",
       "    </tr>\n",
       "  </tbody>\n",
       "</table>\n",
       "</div>"
      ],
      "text/plain": [
       "                                  Open         High          Low        Close  \\\n",
       "Date                                                                            \n",
       "2020-01-01 00:00:00+00:00  7194.892090  7254.330566  7174.944336  7200.174316   \n",
       "2020-01-02 00:00:00+00:00  7202.551270  7212.155273  6935.270020  6985.470215   \n",
       "2020-01-03 00:00:00+00:00  6984.428711  7413.715332  6914.996094  7344.884277   \n",
       "2020-01-04 00:00:00+00:00  7345.375488  7427.385742  7309.514160  7410.656738   \n",
       "2020-01-05 00:00:00+00:00  7410.451660  7544.497070  7400.535645  7411.317383   \n",
       "\n",
       "                             Adj Close       Volume  \n",
       "Date                                                 \n",
       "2020-01-01 00:00:00+00:00  7200.174316  18565664997  \n",
       "2020-01-02 00:00:00+00:00  6985.470215  20802083465  \n",
       "2020-01-03 00:00:00+00:00  7344.884277  28111481032  \n",
       "2020-01-04 00:00:00+00:00  7410.656738  18444271275  \n",
       "2020-01-05 00:00:00+00:00  7411.317383  19725074095  "
      ]
     },
     "execution_count": 25,
     "metadata": {},
     "output_type": "execute_result"
    }
   ],
   "source": [
    "bitcoin.head()"
   ]
  },
  {
   "cell_type": "code",
   "execution_count": 26,
   "id": "20RFZAqrhEaa",
   "metadata": {
    "colab": {
     "base_uri": "https://localhost:8080/",
     "height": 237
    },
    "executionInfo": {
     "elapsed": 146,
     "status": "ok",
     "timestamp": 1675915921444,
     "user": {
      "displayName": "gerardo antonio fuentes garcia",
      "userId": "11702168562164629048"
     },
     "user_tz": 360
    },
    "id": "20RFZAqrhEaa",
    "outputId": "2e870def-879b-4f76-f9a1-246373b6dcc1"
   },
   "outputs": [
    {
     "data": {
      "text/html": [
       "<div>\n",
       "<style scoped>\n",
       "    .dataframe tbody tr th:only-of-type {\n",
       "        vertical-align: middle;\n",
       "    }\n",
       "\n",
       "    .dataframe tbody tr th {\n",
       "        vertical-align: top;\n",
       "    }\n",
       "\n",
       "    .dataframe thead th {\n",
       "        text-align: right;\n",
       "    }\n",
       "</style>\n",
       "<table border=\"1\" class=\"dataframe\">\n",
       "  <thead>\n",
       "    <tr style=\"text-align: right;\">\n",
       "      <th></th>\n",
       "      <th>Open</th>\n",
       "      <th>High</th>\n",
       "      <th>Low</th>\n",
       "      <th>Close</th>\n",
       "      <th>Adj Close</th>\n",
       "      <th>Volume</th>\n",
       "    </tr>\n",
       "    <tr>\n",
       "      <th>Date</th>\n",
       "      <th></th>\n",
       "      <th></th>\n",
       "      <th></th>\n",
       "      <th></th>\n",
       "      <th></th>\n",
       "      <th></th>\n",
       "    </tr>\n",
       "  </thead>\n",
       "  <tbody>\n",
       "    <tr>\n",
       "      <th>2022-12-26 00:00:00+00:00</th>\n",
       "      <td>16842.250000</td>\n",
       "      <td>16920.123047</td>\n",
       "      <td>16812.369141</td>\n",
       "      <td>16919.804688</td>\n",
       "      <td>16919.804688</td>\n",
       "      <td>11886957804</td>\n",
       "    </tr>\n",
       "    <tr>\n",
       "      <th>2022-12-27 00:00:00+00:00</th>\n",
       "      <td>16919.291016</td>\n",
       "      <td>16959.845703</td>\n",
       "      <td>16642.072266</td>\n",
       "      <td>16717.173828</td>\n",
       "      <td>16717.173828</td>\n",
       "      <td>15748580239</td>\n",
       "    </tr>\n",
       "    <tr>\n",
       "      <th>2022-12-28 00:00:00+00:00</th>\n",
       "      <td>16716.400391</td>\n",
       "      <td>16768.169922</td>\n",
       "      <td>16497.556641</td>\n",
       "      <td>16552.572266</td>\n",
       "      <td>16552.572266</td>\n",
       "      <td>17005713920</td>\n",
       "    </tr>\n",
       "    <tr>\n",
       "      <th>2022-12-29 00:00:00+00:00</th>\n",
       "      <td>16552.322266</td>\n",
       "      <td>16651.755859</td>\n",
       "      <td>16508.683594</td>\n",
       "      <td>16642.341797</td>\n",
       "      <td>16642.341797</td>\n",
       "      <td>14472237479</td>\n",
       "    </tr>\n",
       "    <tr>\n",
       "      <th>2022-12-30 00:00:00+00:00</th>\n",
       "      <td>16641.330078</td>\n",
       "      <td>16643.427734</td>\n",
       "      <td>16408.474609</td>\n",
       "      <td>16602.585938</td>\n",
       "      <td>16602.585938</td>\n",
       "      <td>15929162910</td>\n",
       "    </tr>\n",
       "  </tbody>\n",
       "</table>\n",
       "</div>"
      ],
      "text/plain": [
       "                                   Open          High           Low  \\\n",
       "Date                                                                  \n",
       "2022-12-26 00:00:00+00:00  16842.250000  16920.123047  16812.369141   \n",
       "2022-12-27 00:00:00+00:00  16919.291016  16959.845703  16642.072266   \n",
       "2022-12-28 00:00:00+00:00  16716.400391  16768.169922  16497.556641   \n",
       "2022-12-29 00:00:00+00:00  16552.322266  16651.755859  16508.683594   \n",
       "2022-12-30 00:00:00+00:00  16641.330078  16643.427734  16408.474609   \n",
       "\n",
       "                                  Close     Adj Close       Volume  \n",
       "Date                                                                \n",
       "2022-12-26 00:00:00+00:00  16919.804688  16919.804688  11886957804  \n",
       "2022-12-27 00:00:00+00:00  16717.173828  16717.173828  15748580239  \n",
       "2022-12-28 00:00:00+00:00  16552.572266  16552.572266  17005713920  \n",
       "2022-12-29 00:00:00+00:00  16642.341797  16642.341797  14472237479  \n",
       "2022-12-30 00:00:00+00:00  16602.585938  16602.585938  15929162910  "
      ]
     },
     "execution_count": 26,
     "metadata": {},
     "output_type": "execute_result"
    }
   ],
   "source": [
    "bitcoin.tail()"
   ]
  },
  {
   "cell_type": "code",
   "execution_count": 27,
   "id": "JdMVP5TzhEXQ",
   "metadata": {
    "colab": {
     "base_uri": "https://localhost:8080/"
    },
    "executionInfo": {
     "elapsed": 163,
     "status": "ok",
     "timestamp": 1675915924308,
     "user": {
      "displayName": "gerardo antonio fuentes garcia",
      "userId": "11702168562164629048"
     },
     "user_tz": 360
    },
    "id": "JdMVP5TzhEXQ",
    "outputId": "c6359a4d-fd16-4798-a61d-9119041a0c17"
   },
   "outputs": [
    {
     "data": {
      "text/plain": [
       "Open         float64\n",
       "High         float64\n",
       "Low          float64\n",
       "Close        float64\n",
       "Adj Close    float64\n",
       "Volume         int64\n",
       "dtype: object"
      ]
     },
     "execution_count": 27,
     "metadata": {},
     "output_type": "execute_result"
    }
   ],
   "source": [
    "bitcoin.dtypes"
   ]
  },
  {
   "cell_type": "code",
   "execution_count": 28,
   "id": "bV8PFTekhETI",
   "metadata": {
    "colab": {
     "base_uri": "https://localhost:8080/"
    },
    "executionInfo": {
     "elapsed": 185,
     "status": "ok",
     "timestamp": 1675915926935,
     "user": {
      "displayName": "gerardo antonio fuentes garcia",
      "userId": "11702168562164629048"
     },
     "user_tz": 360
    },
    "id": "bV8PFTekhETI",
    "outputId": "359862f7-c1e9-4f14-db55-332d9a6b6fcd"
   },
   "outputs": [
    {
     "name": "stdout",
     "output_type": "stream",
     "text": [
      "<class 'pandas.core.frame.DataFrame'>\n",
      "DatetimeIndex: 1095 entries, 2020-01-01 00:00:00+00:00 to 2022-12-30 00:00:00+00:00\n",
      "Data columns (total 6 columns):\n",
      " #   Column     Non-Null Count  Dtype  \n",
      "---  ------     --------------  -----  \n",
      " 0   Open       1095 non-null   float64\n",
      " 1   High       1095 non-null   float64\n",
      " 2   Low        1095 non-null   float64\n",
      " 3   Close      1095 non-null   float64\n",
      " 4   Adj Close  1095 non-null   float64\n",
      " 5   Volume     1095 non-null   int64  \n",
      "dtypes: float64(5), int64(1)\n",
      "memory usage: 59.9 KB\n"
     ]
    }
   ],
   "source": [
    "bitcoin.info()"
   ]
  },
  {
   "cell_type": "code",
   "execution_count": 29,
   "id": "wv2zHX4jhEPH",
   "metadata": {
    "colab": {
     "base_uri": "https://localhost:8080/"
    },
    "executionInfo": {
     "elapsed": 146,
     "status": "ok",
     "timestamp": 1675915929513,
     "user": {
      "displayName": "gerardo antonio fuentes garcia",
      "userId": "11702168562164629048"
     },
     "user_tz": 360
    },
    "id": "wv2zHX4jhEPH",
    "outputId": "ce693193-64ab-4632-8c48-804ab571ac35"
   },
   "outputs": [
    {
     "data": {
      "text/plain": [
       "Index(['Open', 'High', 'Low', 'Close', 'Adj Close', 'Volume'], dtype='object')"
      ]
     },
     "execution_count": 29,
     "metadata": {},
     "output_type": "execute_result"
    }
   ],
   "source": [
    "bitcoin.columns"
   ]
  },
  {
   "cell_type": "markdown",
   "id": "8pHQ1opphbEr",
   "metadata": {
    "id": "8pHQ1opphbEr"
   },
   "source": [
    "----\n",
    "----"
   ]
  },
  {
   "cell_type": "markdown",
   "id": "baa46d2d-3e40-4d54-9ccd-b891048348ba",
   "metadata": {
    "id": "baa46d2d-3e40-4d54-9ccd-b891048348ba"
   },
   "source": [
    "## **Limpieza de Datos**\n",
    "\n",
    "* **Identificación y eliminación de NaNs:** Se sustituyeron algunos NaNs de la columna COUNTRY_CODE del DataFrame _covid_countries_ (con fillna). En todos los casos se utilizó la eliminación por renglones (axis = 0) con al menos uno ('any'). \n",
    "* **Recasteo:** Las columnas con números de casos/recuperados/muertes deben ser enteros. Se transformaron de _float_ a _int_. Para las diferentes bases de datos fue necesario transformar la columna de la fecha de _object_ a _datetime_. \n",
    "* **Reindexación de los renglones:** Una vez terminado el recasteo, se procedió a la reindexación de los renglones. \n",
    "* **Eliminación de columnas innecesarias**\n",
    "* **Renombrar columnas**\n"
   ]
  },
  {
   "cell_type": "markdown",
   "id": "d2b9107d-1bda-4e3f-84ec-d8037ee4d93b",
   "metadata": {},
   "source": [
    "Podemos ver que la fecha (columna TIMESTAMP_UTC) está como _object_ asi que hay que cambiarla a _datetime_ y los numeros de casos/muertes/recuperados son _float_ y deben ser _int_\n",
    "\n",
    "13 de las 15 columnas tienen NaNs"
   ]
  },
  {
   "cell_type": "code",
   "execution_count": 30,
   "id": "349da39a-5222-4dd6-b7d9-a77b9422f17b",
   "metadata": {
    "colab": {
     "base_uri": "https://localhost:8080/"
    },
    "executionInfo": {
     "elapsed": 145,
     "status": "ok",
     "timestamp": 1675915935820,
     "user": {
      "displayName": "gerardo antonio fuentes garcia",
      "userId": "11702168562164629048"
     },
     "user_tz": 360
    },
    "id": "349da39a-5222-4dd6-b7d9-a77b9422f17b",
    "outputId": "b0d0c201-06b3-43c0-a5d7-3d2e32db0082"
   },
   "outputs": [
    {
     "name": "stdout",
     "output_type": "stream",
     "text": [
      "<class 'pandas.core.frame.DataFrame'>\n",
      "RangeIndex: 186835 entries, 0 to 186834\n",
      "Data columns (total 15 columns):\n",
      " #   Column                Non-Null Count   Dtype  \n",
      "---  ------                --------------   -----  \n",
      " 0   TIMESTAMP_UTC         186835 non-null  object \n",
      " 1   COUNTRY_CODE          185966 non-null  object \n",
      " 2   COUNTRY_NAME          186835 non-null  object \n",
      " 3   TOTAL_CASES           170084 non-null  float64\n",
      " 4   CASES_DAILY           170084 non-null  float64\n",
      " 5   TOTAL_RECOVERED       170084 non-null  float64\n",
      " 6   RECOVERED_DAILY       170084 non-null  float64\n",
      " 7   TOTAL_DEATHS          170084 non-null  float64\n",
      " 8   DEATHS_DAILY          170084 non-null  float64\n",
      " 9   PANIC_INDEX           144706 non-null  float64\n",
      " 10  MEDIA_HYPE_INDEX      178170 non-null  float64\n",
      " 11  FAKE_NEWS_INDEX       113853 non-null  float64\n",
      " 12  SENTIMENT_INDEX       165819 non-null  float64\n",
      " 13  INFODEMIC_INDEX       178170 non-null  float64\n",
      " 14  MEDIA_COVERAGE_INDEX  178170 non-null  float64\n",
      "dtypes: float64(12), object(3)\n",
      "memory usage: 21.4+ MB\n"
     ]
    }
   ],
   "source": [
    "covid_countries.info() "
   ]
  },
  {
   "cell_type": "markdown",
   "id": "Osp3JwfWhgTZ",
   "metadata": {
    "id": "Osp3JwfWhgTZ"
   },
   "source": [
    "1. Primero analizaremos el número de NaNs por columna:"
   ]
  },
  {
   "cell_type": "code",
   "execution_count": 31,
   "id": "0b4e7694-0a09-4d53-acb9-581d8485a550",
   "metadata": {
    "colab": {
     "base_uri": "https://localhost:8080/"
    },
    "executionInfo": {
     "elapsed": 174,
     "status": "ok",
     "timestamp": 1675915939775,
     "user": {
      "displayName": "gerardo antonio fuentes garcia",
      "userId": "11702168562164629048"
     },
     "user_tz": 360
    },
    "id": "0b4e7694-0a09-4d53-acb9-581d8485a550",
    "outputId": "540615d9-221f-4fae-b2dd-1d84506ec213"
   },
   "outputs": [
    {
     "data": {
      "text/plain": [
       "TIMESTAMP_UTC               0\n",
       "COUNTRY_CODE              869\n",
       "COUNTRY_NAME                0\n",
       "TOTAL_CASES             16751\n",
       "CASES_DAILY             16751\n",
       "TOTAL_RECOVERED         16751\n",
       "RECOVERED_DAILY         16751\n",
       "TOTAL_DEATHS            16751\n",
       "DEATHS_DAILY            16751\n",
       "PANIC_INDEX             42129\n",
       "MEDIA_HYPE_INDEX         8665\n",
       "FAKE_NEWS_INDEX         72982\n",
       "SENTIMENT_INDEX         21016\n",
       "INFODEMIC_INDEX          8665\n",
       "MEDIA_COVERAGE_INDEX     8665\n",
       "dtype: int64"
      ]
     },
     "execution_count": 31,
     "metadata": {},
     "output_type": "execute_result"
    }
   ],
   "source": [
    "covid_countries.isna().sum(axis=0) # numero de NaNs por columna"
   ]
  },
  {
   "cell_type": "code",
   "execution_count": 32,
   "id": "8c1024c0-afed-4617-b2a5-e50e34442b68",
   "metadata": {
    "id": "8c1024c0-afed-4617-b2a5-e50e34442b68"
   },
   "outputs": [],
   "source": [
    "# Solo como ejercicio se sustituyeron los NaNs por Unknown, pero mas adelande eliminamos esta columna\n",
    "covid_countries['COUNTRY_CODE'] = covid_countries['COUNTRY_CODE'].fillna('Unknown')\n",
    "# COUNTRY_CODE no es necesaria\n",
    "covid_countries = covid_countries.drop(['COUNTRY_CODE'], axis=1)"
   ]
  },
  {
   "cell_type": "code",
   "execution_count": 33,
   "id": "ee54ae9a-763a-414a-8456-2fba209bdde5",
   "metadata": {
    "colab": {
     "base_uri": "https://localhost:8080/"
    },
    "executionInfo": {
     "elapsed": 158,
     "status": "ok",
     "timestamp": 1675915947937,
     "user": {
      "displayName": "gerardo antonio fuentes garcia",
      "userId": "11702168562164629048"
     },
     "user_tz": 360
    },
    "id": "ee54ae9a-763a-414a-8456-2fba209bdde5",
    "outputId": "f9d00e16-e813-41d3-d61c-0d8031af4f4b"
   },
   "outputs": [
    {
     "data": {
      "text/plain": [
       "TIMESTAMP_UTC               0\n",
       "COUNTRY_NAME                0\n",
       "TOTAL_CASES             16751\n",
       "CASES_DAILY             16751\n",
       "TOTAL_RECOVERED         16751\n",
       "RECOVERED_DAILY         16751\n",
       "TOTAL_DEATHS            16751\n",
       "DEATHS_DAILY            16751\n",
       "PANIC_INDEX             42129\n",
       "MEDIA_HYPE_INDEX         8665\n",
       "FAKE_NEWS_INDEX         72982\n",
       "SENTIMENT_INDEX         21016\n",
       "INFODEMIC_INDEX          8665\n",
       "MEDIA_COVERAGE_INDEX     8665\n",
       "dtype: int64"
      ]
     },
     "execution_count": 33,
     "metadata": {},
     "output_type": "execute_result"
    }
   ],
   "source": [
    "covid_countries.isna().sum(axis=0)"
   ]
  },
  {
   "cell_type": "markdown",
   "id": "20xzfNR1iMgk",
   "metadata": {
    "id": "20xzfNR1iMgk"
   },
   "source": [
    "2. Se eliminarán todas las filas que contengan por lo menos un valor NaN"
   ]
  },
  {
   "cell_type": "code",
   "execution_count": 34,
   "id": "5cc833ab-5190-4c31-b0df-3f72e18b72b9",
   "metadata": {
    "colab": {
     "base_uri": "https://localhost:8080/"
    },
    "executionInfo": {
     "elapsed": 141,
     "status": "ok",
     "timestamp": 1675915955364,
     "user": {
      "displayName": "gerardo antonio fuentes garcia",
      "userId": "11702168562164629048"
     },
     "user_tz": 360
    },
    "id": "5cc833ab-5190-4c31-b0df-3f72e18b72b9",
    "outputId": "986e09c3-9576-45c0-83d8-88c8dff94304"
   },
   "outputs": [
    {
     "data": {
      "text/plain": [
       "TIMESTAMP_UTC           0\n",
       "COUNTRY_NAME            0\n",
       "TOTAL_CASES             0\n",
       "CASES_DAILY             0\n",
       "TOTAL_RECOVERED         0\n",
       "RECOVERED_DAILY         0\n",
       "TOTAL_DEATHS            0\n",
       "DEATHS_DAILY            0\n",
       "PANIC_INDEX             0\n",
       "MEDIA_HYPE_INDEX        0\n",
       "FAKE_NEWS_INDEX         0\n",
       "SENTIMENT_INDEX         0\n",
       "INFODEMIC_INDEX         0\n",
       "MEDIA_COVERAGE_INDEX    0\n",
       "dtype: int64"
      ]
     },
     "execution_count": 34,
     "metadata": {},
     "output_type": "execute_result"
    }
   ],
   "source": [
    "covid_countries_no_nan = covid_countries.dropna(axis=0, how='any')\n",
    "covid_countries_no_nan.isna().sum(axis=0) "
   ]
  },
  {
   "cell_type": "markdown",
   "id": "JQz8EZI6iaPj",
   "metadata": {
    "id": "JQz8EZI6iaPj"
   },
   "source": [
    "3. Validamos que los valores NaN de la base obtenida se hayan eliminado correctamente"
   ]
  },
  {
   "cell_type": "code",
   "execution_count": 35,
   "id": "567525f0-3c4c-40f9-aded-52a2824063fb",
   "metadata": {
    "colab": {
     "base_uri": "https://localhost:8080/"
    },
    "executionInfo": {
     "elapsed": 184,
     "status": "ok",
     "timestamp": 1675915962685,
     "user": {
      "displayName": "gerardo antonio fuentes garcia",
      "userId": "11702168562164629048"
     },
     "user_tz": 360
    },
    "id": "567525f0-3c4c-40f9-aded-52a2824063fb",
    "outputId": "3e13f864-a912-476b-f82d-3c0fa2d1e812"
   },
   "outputs": [
    {
     "name": "stdout",
     "output_type": "stream",
     "text": [
      "<class 'pandas.core.frame.DataFrame'>\n",
      "Int64Index: 102463 entries, 0 to 186620\n",
      "Data columns (total 14 columns):\n",
      " #   Column                Non-Null Count   Dtype  \n",
      "---  ------                --------------   -----  \n",
      " 0   TIMESTAMP_UTC         102463 non-null  object \n",
      " 1   COUNTRY_NAME          102463 non-null  object \n",
      " 2   TOTAL_CASES           102463 non-null  float64\n",
      " 3   CASES_DAILY           102463 non-null  float64\n",
      " 4   TOTAL_RECOVERED       102463 non-null  float64\n",
      " 5   RECOVERED_DAILY       102463 non-null  float64\n",
      " 6   TOTAL_DEATHS          102463 non-null  float64\n",
      " 7   DEATHS_DAILY          102463 non-null  float64\n",
      " 8   PANIC_INDEX           102463 non-null  float64\n",
      " 9   MEDIA_HYPE_INDEX      102463 non-null  float64\n",
      " 10  FAKE_NEWS_INDEX       102463 non-null  float64\n",
      " 11  SENTIMENT_INDEX       102463 non-null  float64\n",
      " 12  INFODEMIC_INDEX       102463 non-null  float64\n",
      " 13  MEDIA_COVERAGE_INDEX  102463 non-null  float64\n",
      "dtypes: float64(12), object(2)\n",
      "memory usage: 11.7+ MB\n"
     ]
    }
   ],
   "source": [
    "covid_countries_no_nan.info()"
   ]
  },
  {
   "cell_type": "markdown",
   "id": "BTwqZAnYio4P",
   "metadata": {
    "id": "BTwqZAnYio4P"
   },
   "source": [
    "4. Cambiamos el tipo de dato contenido en \"covid_countries\""
   ]
  },
  {
   "cell_type": "code",
   "execution_count": 36,
   "id": "9298fd06-75cf-4c4d-ac88-53905bce3b34",
   "metadata": {
    "id": "9298fd06-75cf-4c4d-ac88-53905bce3b34"
   },
   "outputs": [],
   "source": [
    "conversion_clase = {\n",
    "    'TIMESTAMP_UTC': 'datetime64',\n",
    "    'TOTAL_CASES': 'int64',\n",
    "    'CASES_DAILY': 'int64',\n",
    "    'TOTAL_RECOVERED': 'int64',\n",
    "    'RECOVERED_DAILY': 'int64',\n",
    "    'TOTAL_DEATHS': 'int64',\n",
    "    'DEATHS_DAILY': 'int64'\n",
    "}\n",
    "\n",
    "covid_countries_temp = covid_countries_no_nan.astype(conversion_clase)"
   ]
  },
  {
   "cell_type": "code",
   "execution_count": 37,
   "id": "2af2d1a2-ea49-43f6-9b30-892ed4eae1c5",
   "metadata": {
    "colab": {
     "base_uri": "https://localhost:8080/"
    },
    "executionInfo": {
     "elapsed": 180,
     "status": "ok",
     "timestamp": 1675916021453,
     "user": {
      "displayName": "gerardo antonio fuentes garcia",
      "userId": "11702168562164629048"
     },
     "user_tz": 360
    },
    "id": "2af2d1a2-ea49-43f6-9b30-892ed4eae1c5",
    "outputId": "265e0b52-a065-4c99-b22a-21f23b655730"
   },
   "outputs": [
    {
     "data": {
      "text/plain": [
       "TIMESTAMP_UTC           datetime64[ns]\n",
       "COUNTRY_NAME                    object\n",
       "TOTAL_CASES                      int64\n",
       "CASES_DAILY                      int64\n",
       "TOTAL_RECOVERED                  int64\n",
       "RECOVERED_DAILY                  int64\n",
       "TOTAL_DEATHS                     int64\n",
       "DEATHS_DAILY                     int64\n",
       "PANIC_INDEX                    float64\n",
       "MEDIA_HYPE_INDEX               float64\n",
       "FAKE_NEWS_INDEX                float64\n",
       "SENTIMENT_INDEX                float64\n",
       "INFODEMIC_INDEX                float64\n",
       "MEDIA_COVERAGE_INDEX           float64\n",
       "dtype: object"
      ]
     },
     "execution_count": 37,
     "metadata": {},
     "output_type": "execute_result"
    }
   ],
   "source": [
    "covid_countries_temp.dtypes"
   ]
  },
  {
   "cell_type": "code",
   "execution_count": 38,
   "id": "834c2694-3bc4-4c30-b42a-a5484fd9948e",
   "metadata": {
    "colab": {
     "base_uri": "https://localhost:8080/"
    },
    "executionInfo": {
     "elapsed": 183,
     "status": "ok",
     "timestamp": 1675916024976,
     "user": {
      "displayName": "gerardo antonio fuentes garcia",
      "userId": "11702168562164629048"
     },
     "user_tz": 360
    },
    "id": "834c2694-3bc4-4c30-b42a-a5484fd9948e",
    "outputId": "26d064a5-6a2f-4c60-cd59-94de24d17614"
   },
   "outputs": [
    {
     "data": {
      "text/plain": [
       "TIMESTAMP_UTC           datetime64[ns]\n",
       "COUNTRY_NAME                    object\n",
       "TOTAL_CASES                      int64\n",
       "CASES_DAILY                      int64\n",
       "TOTAL_RECOVERED                  int64\n",
       "RECOVERED_DAILY                  int64\n",
       "TOTAL_DEATHS                     int64\n",
       "DEATHS_DAILY                     int64\n",
       "PANIC_INDEX                    float64\n",
       "MEDIA_HYPE_INDEX               float64\n",
       "FAKE_NEWS_INDEX                float64\n",
       "SENTIMENT_INDEX                float64\n",
       "INFODEMIC_INDEX                float64\n",
       "MEDIA_COVERAGE_INDEX           float64\n",
       "dtype: object"
      ]
     },
     "execution_count": 38,
     "metadata": {},
     "output_type": "execute_result"
    }
   ],
   "source": [
    "# intentamos quitar las unidades [ns] del tipo de dato\n",
    "covid_countries_temp['TIMESTAMP_UTC'] = pd.to_datetime(covid_countries_temp['TIMESTAMP_UTC'], unit='ns')\n",
    "covid_countries_temp.dtypes"
   ]
  },
  {
   "cell_type": "markdown",
   "id": "ce3b3858-36fb-4236-9ccd-b451a0e03003",
   "metadata": {},
   "source": [
    "Vemos que hay 102463 filas pero los indices se encuentran entre 0 y 186620. Es necesario reindexar las lineas."
   ]
  },
  {
   "cell_type": "code",
   "execution_count": 39,
   "id": "0f389284-c60e-4745-b537-b59f81402f50",
   "metadata": {
    "colab": {
     "base_uri": "https://localhost:8080/"
    },
    "executionInfo": {
     "elapsed": 251,
     "status": "ok",
     "timestamp": 1675916028573,
     "user": {
      "displayName": "gerardo antonio fuentes garcia",
      "userId": "11702168562164629048"
     },
     "user_tz": 360
    },
    "id": "0f389284-c60e-4745-b537-b59f81402f50",
    "outputId": "9419845e-33be-43c2-ef8a-26be893a5c2e"
   },
   "outputs": [
    {
     "name": "stdout",
     "output_type": "stream",
     "text": [
      "<class 'pandas.core.frame.DataFrame'>\n",
      "Int64Index: 102463 entries, 0 to 186620\n",
      "Data columns (total 14 columns):\n",
      " #   Column                Non-Null Count   Dtype         \n",
      "---  ------                --------------   -----         \n",
      " 0   TIMESTAMP_UTC         102463 non-null  datetime64[ns]\n",
      " 1   COUNTRY_NAME          102463 non-null  object        \n",
      " 2   TOTAL_CASES           102463 non-null  int64         \n",
      " 3   CASES_DAILY           102463 non-null  int64         \n",
      " 4   TOTAL_RECOVERED       102463 non-null  int64         \n",
      " 5   RECOVERED_DAILY       102463 non-null  int64         \n",
      " 6   TOTAL_DEATHS          102463 non-null  int64         \n",
      " 7   DEATHS_DAILY          102463 non-null  int64         \n",
      " 8   PANIC_INDEX           102463 non-null  float64       \n",
      " 9   MEDIA_HYPE_INDEX      102463 non-null  float64       \n",
      " 10  FAKE_NEWS_INDEX       102463 non-null  float64       \n",
      " 11  SENTIMENT_INDEX       102463 non-null  float64       \n",
      " 12  INFODEMIC_INDEX       102463 non-null  float64       \n",
      " 13  MEDIA_COVERAGE_INDEX  102463 non-null  float64       \n",
      "dtypes: datetime64[ns](1), float64(6), int64(6), object(1)\n",
      "memory usage: 11.7+ MB\n"
     ]
    }
   ],
   "source": [
    "covid_countries_temp.info() "
   ]
  },
  {
   "cell_type": "markdown",
   "id": "yp1FKBcZjAoX",
   "metadata": {
    "id": "yp1FKBcZjAoX"
   },
   "source": [
    "5. Reindexamos la base obtener el consecutivo correctamente"
   ]
  },
  {
   "cell_type": "code",
   "execution_count": 40,
   "id": "343a7b63-713c-47a9-a79a-2e1b36d60e17",
   "metadata": {
    "colab": {
     "base_uri": "https://localhost:8080/"
    },
    "executionInfo": {
     "elapsed": 172,
     "status": "ok",
     "timestamp": 1675916031933,
     "user": {
      "displayName": "gerardo antonio fuentes garcia",
      "userId": "11702168562164629048"
     },
     "user_tz": 360
    },
    "id": "343a7b63-713c-47a9-a79a-2e1b36d60e17",
    "outputId": "4c9dcbe9-d79f-4763-bf9f-84486ec063eb"
   },
   "outputs": [
    {
     "name": "stdout",
     "output_type": "stream",
     "text": [
      "<class 'pandas.core.frame.DataFrame'>\n",
      "RangeIndex: 102463 entries, 0 to 102462\n",
      "Data columns (total 14 columns):\n",
      " #   Column                Non-Null Count   Dtype         \n",
      "---  ------                --------------   -----         \n",
      " 0   TIMESTAMP_UTC         102463 non-null  datetime64[ns]\n",
      " 1   COUNTRY_NAME          102463 non-null  object        \n",
      " 2   TOTAL_CASES           102463 non-null  int64         \n",
      " 3   CASES_DAILY           102463 non-null  int64         \n",
      " 4   TOTAL_RECOVERED       102463 non-null  int64         \n",
      " 5   RECOVERED_DAILY       102463 non-null  int64         \n",
      " 6   TOTAL_DEATHS          102463 non-null  int64         \n",
      " 7   DEATHS_DAILY          102463 non-null  int64         \n",
      " 8   PANIC_INDEX           102463 non-null  float64       \n",
      " 9   MEDIA_HYPE_INDEX      102463 non-null  float64       \n",
      " 10  FAKE_NEWS_INDEX       102463 non-null  float64       \n",
      " 11  SENTIMENT_INDEX       102463 non-null  float64       \n",
      " 12  INFODEMIC_INDEX       102463 non-null  float64       \n",
      " 13  MEDIA_COVERAGE_INDEX  102463 non-null  float64       \n",
      "dtypes: datetime64[ns](1), float64(6), int64(6), object(1)\n",
      "memory usage: 10.9+ MB\n"
     ]
    }
   ],
   "source": [
    "covid_countries_clean = covid_countries_temp.reset_index(drop=True) # resetear los indices\n",
    "\n",
    "covid_countries_clean.info() # DataFrame limpio"
   ]
  },
  {
   "cell_type": "markdown",
   "id": "af3b36d1-916b-4cd5-8326-7ddba6b18aac",
   "metadata": {},
   "source": [
    "Ejemplos aplicando agregaciones"
   ]
  },
  {
   "cell_type": "code",
   "execution_count": 41,
   "id": "e3546db2-047d-4f9c-a9b6-23f107e4ba56",
   "metadata": {
    "colab": {
     "base_uri": "https://localhost:8080/",
     "height": 455
    },
    "executionInfo": {
     "elapsed": 176,
     "status": "ok",
     "timestamp": 1675916057389,
     "user": {
      "displayName": "gerardo antonio fuentes garcia",
      "userId": "11702168562164629048"
     },
     "user_tz": 360
    },
    "id": "e3546db2-047d-4f9c-a9b6-23f107e4ba56",
    "outputId": "bcae842d-1c90-46f3-eb51-70fafe9156c2"
   },
   "outputs": [
    {
     "data": {
      "text/html": [
       "<div>\n",
       "<style scoped>\n",
       "    .dataframe tbody tr th:only-of-type {\n",
       "        vertical-align: middle;\n",
       "    }\n",
       "\n",
       "    .dataframe tbody tr th {\n",
       "        vertical-align: top;\n",
       "    }\n",
       "\n",
       "    .dataframe thead th {\n",
       "        text-align: right;\n",
       "    }\n",
       "</style>\n",
       "<table border=\"1\" class=\"dataframe\">\n",
       "  <thead>\n",
       "    <tr style=\"text-align: right;\">\n",
       "      <th></th>\n",
       "      <th>mean</th>\n",
       "      <th>median</th>\n",
       "      <th>std</th>\n",
       "      <th>max</th>\n",
       "    </tr>\n",
       "    <tr>\n",
       "      <th>COUNTRY_NAME</th>\n",
       "      <th></th>\n",
       "      <th></th>\n",
       "      <th></th>\n",
       "      <th></th>\n",
       "    </tr>\n",
       "  </thead>\n",
       "  <tbody>\n",
       "    <tr>\n",
       "      <th>Afghanistan</th>\n",
       "      <td>220.603936</td>\n",
       "      <td>71.0</td>\n",
       "      <td>379.112151</td>\n",
       "      <td>3243</td>\n",
       "    </tr>\n",
       "    <tr>\n",
       "      <th>Albania</th>\n",
       "      <td>293.255102</td>\n",
       "      <td>117.5</td>\n",
       "      <td>378.807560</td>\n",
       "      <td>2179</td>\n",
       "    </tr>\n",
       "    <tr>\n",
       "      <th>Algeria</th>\n",
       "      <td>322.100000</td>\n",
       "      <td>195.0</td>\n",
       "      <td>356.063717</td>\n",
       "      <td>2521</td>\n",
       "    </tr>\n",
       "    <tr>\n",
       "      <th>Andorra</th>\n",
       "      <td>19.520000</td>\n",
       "      <td>0.0</td>\n",
       "      <td>31.477664</td>\n",
       "      <td>98</td>\n",
       "    </tr>\n",
       "    <tr>\n",
       "      <th>Angola</th>\n",
       "      <td>140.294326</td>\n",
       "      <td>61.5</td>\n",
       "      <td>345.141760</td>\n",
       "      <td>5035</td>\n",
       "    </tr>\n",
       "    <tr>\n",
       "      <th>...</th>\n",
       "      <td>...</td>\n",
       "      <td>...</td>\n",
       "      <td>...</td>\n",
       "      <td>...</td>\n",
       "    </tr>\n",
       "    <tr>\n",
       "      <th>Vietnam</th>\n",
       "      <td>12546.783591</td>\n",
       "      <td>16.0</td>\n",
       "      <td>41856.221089</td>\n",
       "      <td>454212</td>\n",
       "    </tr>\n",
       "    <tr>\n",
       "      <th>Worldwide</th>\n",
       "      <td>602052.117376</td>\n",
       "      <td>461029.0</td>\n",
       "      <td>663210.001760</td>\n",
       "      <td>4114445</td>\n",
       "    </tr>\n",
       "    <tr>\n",
       "      <th>Yemen</th>\n",
       "      <td>15.630339</td>\n",
       "      <td>5.0</td>\n",
       "      <td>26.936236</td>\n",
       "      <td>287</td>\n",
       "    </tr>\n",
       "    <tr>\n",
       "      <th>Zambia</th>\n",
       "      <td>513.189744</td>\n",
       "      <td>153.5</td>\n",
       "      <td>833.093970</td>\n",
       "      <td>5555</td>\n",
       "    </tr>\n",
       "    <tr>\n",
       "      <th>Zimbabwe</th>\n",
       "      <td>342.376344</td>\n",
       "      <td>58.0</td>\n",
       "      <td>869.467588</td>\n",
       "      <td>9185</td>\n",
       "    </tr>\n",
       "  </tbody>\n",
       "</table>\n",
       "<p>208 rows × 4 columns</p>\n",
       "</div>"
      ],
      "text/plain": [
       "                       mean    median            std      max\n",
       "COUNTRY_NAME                                                 \n",
       "Afghanistan      220.603936      71.0     379.112151     3243\n",
       "Albania          293.255102     117.5     378.807560     2179\n",
       "Algeria          322.100000     195.0     356.063717     2521\n",
       "Andorra           19.520000       0.0      31.477664       98\n",
       "Angola           140.294326      61.5     345.141760     5035\n",
       "...                     ...       ...            ...      ...\n",
       "Vietnam        12546.783591      16.0   41856.221089   454212\n",
       "Worldwide     602052.117376  461029.0  663210.001760  4114445\n",
       "Yemen             15.630339       5.0      26.936236      287\n",
       "Zambia           513.189744     153.5     833.093970     5555\n",
       "Zimbabwe         342.376344      58.0     869.467588     9185\n",
       "\n",
       "[208 rows x 4 columns]"
      ]
     },
     "execution_count": 41,
     "metadata": {},
     "output_type": "execute_result"
    }
   ],
   "source": [
    "covid_countries_clean[covid_countries_clean['COUNTRY_NAME']=='Mexico']\n",
    "covid_countries_clean.groupby('COUNTRY_NAME')['CASES_DAILY'].max()\n",
    "covid_countries_clean.groupby('COUNTRY_NAME')['CASES_DAILY'].agg(['mean', 'median', 'std', 'max'])"
   ]
  },
  {
   "cell_type": "markdown",
   "id": "LFxpdHfWjfey",
   "metadata": {
    "id": "LFxpdHfWjfey"
   },
   "source": [
    "6. Haremos un filtro para obtener de nuestra base \"covid_countries\" todos los registros que correspondan a los índices del \"COUNTRY_NAME\"=\"Worldwide\", lo anterior debido a que queremos analizar el mercado de criptomonedas y no necesariamente esta fundamentado en algún valor o indicador de un país en específico y por lo tanto analizamos con un dato de nivel global. "
   ]
  },
  {
   "cell_type": "code",
   "execution_count": 42,
   "id": "_3OekfDDGux6",
   "metadata": {
    "id": "_3OekfDDGux6"
   },
   "outputs": [],
   "source": [
    "covid_world = covid_countries_clean[covid_countries_clean['COUNTRY_NAME']=='Worldwide']"
   ]
  },
  {
   "cell_type": "markdown",
   "id": "--sHCP62kH8_",
   "metadata": {
    "id": "--sHCP62kH8_"
   },
   "source": [
    "7. Eliminamos la columna \"COUNTRY_NAME\" ya que, al ser para todos los casos despues de nuestro filtro, es \"Worldwide\" para todos los casos"
   ]
  },
  {
   "cell_type": "code",
   "execution_count": 43,
   "id": "dvBW1KxmG3Td",
   "metadata": {
    "id": "dvBW1KxmG3Td"
   },
   "outputs": [],
   "source": [
    "covid_world = covid_world.drop(['COUNTRY_NAME'], axis=1) "
   ]
  },
  {
   "cell_type": "code",
   "execution_count": 44,
   "id": "rOvtqvkvHfhO",
   "metadata": {
    "colab": {
     "base_uri": "https://localhost:8080/"
    },
    "executionInfo": {
     "elapsed": 141,
     "status": "ok",
     "timestamp": 1675916085584,
     "user": {
      "displayName": "gerardo antonio fuentes garcia",
      "userId": "11702168562164629048"
     },
     "user_tz": 360
    },
    "id": "rOvtqvkvHfhO",
    "outputId": "ad5de5d8-4352-40bf-d06c-2f6c272ce52d"
   },
   "outputs": [
    {
     "name": "stdout",
     "output_type": "stream",
     "text": [
      "<class 'pandas.core.frame.DataFrame'>\n",
      "Int64Index: 869 entries, 0 to 102462\n",
      "Data columns (total 13 columns):\n",
      " #   Column                Non-Null Count  Dtype         \n",
      "---  ------                --------------  -----         \n",
      " 0   TIMESTAMP_UTC         869 non-null    datetime64[ns]\n",
      " 1   TOTAL_CASES           869 non-null    int64         \n",
      " 2   CASES_DAILY           869 non-null    int64         \n",
      " 3   TOTAL_RECOVERED       869 non-null    int64         \n",
      " 4   RECOVERED_DAILY       869 non-null    int64         \n",
      " 5   TOTAL_DEATHS          869 non-null    int64         \n",
      " 6   DEATHS_DAILY          869 non-null    int64         \n",
      " 7   PANIC_INDEX           869 non-null    float64       \n",
      " 8   MEDIA_HYPE_INDEX      869 non-null    float64       \n",
      " 9   FAKE_NEWS_INDEX       869 non-null    float64       \n",
      " 10  SENTIMENT_INDEX       869 non-null    float64       \n",
      " 11  INFODEMIC_INDEX       869 non-null    float64       \n",
      " 12  MEDIA_COVERAGE_INDEX  869 non-null    float64       \n",
      "dtypes: datetime64[ns](1), float64(6), int64(6)\n",
      "memory usage: 95.0 KB\n"
     ]
    }
   ],
   "source": [
    "covid_world.info()"
   ]
  },
  {
   "cell_type": "markdown",
   "id": "CK35QlHzH5ie",
   "metadata": {
    "id": "CK35QlHzH5ie"
   },
   "source": [
    "------------"
   ]
  },
  {
   "cell_type": "markdown",
   "id": "2qjAjH1qkalx",
   "metadata": {
    "id": "2qjAjH1qkalx"
   },
   "source": [
    "La base siguiente a limpiar seran las obtenidas por la OMS de muertes y casos reportados"
   ]
  },
  {
   "cell_type": "code",
   "execution_count": 45,
   "id": "OZ0dXm5RHvnA",
   "metadata": {
    "colab": {
     "base_uri": "https://localhost:8080/",
     "height": 299
    },
    "executionInfo": {
     "elapsed": 151,
     "status": "ok",
     "timestamp": 1675916092849,
     "user": {
      "displayName": "gerardo antonio fuentes garcia",
      "userId": "11702168562164629048"
     },
     "user_tz": 360
    },
    "id": "OZ0dXm5RHvnA",
    "outputId": "5b266114-1ac9-4942-8fee-9014cad2bb66"
   },
   "outputs": [
    {
     "data": {
      "text/html": [
       "<div>\n",
       "<style scoped>\n",
       "    .dataframe tbody tr th:only-of-type {\n",
       "        vertical-align: middle;\n",
       "    }\n",
       "\n",
       "    .dataframe tbody tr th {\n",
       "        vertical-align: top;\n",
       "    }\n",
       "\n",
       "    .dataframe thead th {\n",
       "        text-align: right;\n",
       "    }\n",
       "</style>\n",
       "<table border=\"1\" class=\"dataframe\">\n",
       "  <thead>\n",
       "    <tr style=\"text-align: right;\">\n",
       "      <th></th>\n",
       "      <th>Province/State</th>\n",
       "      <th>Country/Region</th>\n",
       "      <th>Lat</th>\n",
       "      <th>Long</th>\n",
       "      <th>1/22/20</th>\n",
       "      <th>1/23/20</th>\n",
       "      <th>1/24/20</th>\n",
       "      <th>1/25/20</th>\n",
       "      <th>1/26/20</th>\n",
       "      <th>1/27/20</th>\n",
       "      <th>...</th>\n",
       "      <th>3/17/22</th>\n",
       "      <th>3/18/22</th>\n",
       "      <th>3/19/22</th>\n",
       "      <th>3/20/22</th>\n",
       "      <th>3/21/22</th>\n",
       "      <th>3/22/22</th>\n",
       "      <th>3/23/22</th>\n",
       "      <th>3/24/22</th>\n",
       "      <th>3/25/22</th>\n",
       "      <th>3/26/22</th>\n",
       "    </tr>\n",
       "  </thead>\n",
       "  <tbody>\n",
       "    <tr>\n",
       "      <th>0</th>\n",
       "      <td>NaN</td>\n",
       "      <td>Afghanistan</td>\n",
       "      <td>33.93911</td>\n",
       "      <td>67.709953</td>\n",
       "      <td>0</td>\n",
       "      <td>0</td>\n",
       "      <td>0</td>\n",
       "      <td>0</td>\n",
       "      <td>0</td>\n",
       "      <td>0</td>\n",
       "      <td>...</td>\n",
       "      <td>7651</td>\n",
       "      <td>7651</td>\n",
       "      <td>7652</td>\n",
       "      <td>7654</td>\n",
       "      <td>7654</td>\n",
       "      <td>7656</td>\n",
       "      <td>7657</td>\n",
       "      <td>7657</td>\n",
       "      <td>7657</td>\n",
       "      <td>7657</td>\n",
       "    </tr>\n",
       "    <tr>\n",
       "      <th>1</th>\n",
       "      <td>NaN</td>\n",
       "      <td>Albania</td>\n",
       "      <td>41.15330</td>\n",
       "      <td>20.168300</td>\n",
       "      <td>0</td>\n",
       "      <td>0</td>\n",
       "      <td>0</td>\n",
       "      <td>0</td>\n",
       "      <td>0</td>\n",
       "      <td>0</td>\n",
       "      <td>...</td>\n",
       "      <td>3487</td>\n",
       "      <td>3487</td>\n",
       "      <td>3487</td>\n",
       "      <td>3487</td>\n",
       "      <td>3487</td>\n",
       "      <td>3489</td>\n",
       "      <td>3489</td>\n",
       "      <td>3489</td>\n",
       "      <td>3490</td>\n",
       "      <td>3491</td>\n",
       "    </tr>\n",
       "    <tr>\n",
       "      <th>2</th>\n",
       "      <td>NaN</td>\n",
       "      <td>Algeria</td>\n",
       "      <td>28.03390</td>\n",
       "      <td>1.659600</td>\n",
       "      <td>0</td>\n",
       "      <td>0</td>\n",
       "      <td>0</td>\n",
       "      <td>0</td>\n",
       "      <td>0</td>\n",
       "      <td>0</td>\n",
       "      <td>...</td>\n",
       "      <td>6870</td>\n",
       "      <td>6871</td>\n",
       "      <td>6871</td>\n",
       "      <td>6871</td>\n",
       "      <td>6872</td>\n",
       "      <td>6873</td>\n",
       "      <td>6873</td>\n",
       "      <td>6873</td>\n",
       "      <td>6873</td>\n",
       "      <td>6873</td>\n",
       "    </tr>\n",
       "    <tr>\n",
       "      <th>3</th>\n",
       "      <td>NaN</td>\n",
       "      <td>Andorra</td>\n",
       "      <td>42.50630</td>\n",
       "      <td>1.521800</td>\n",
       "      <td>0</td>\n",
       "      <td>0</td>\n",
       "      <td>0</td>\n",
       "      <td>0</td>\n",
       "      <td>0</td>\n",
       "      <td>0</td>\n",
       "      <td>...</td>\n",
       "      <td>153</td>\n",
       "      <td>153</td>\n",
       "      <td>153</td>\n",
       "      <td>153</td>\n",
       "      <td>153</td>\n",
       "      <td>153</td>\n",
       "      <td>153</td>\n",
       "      <td>155</td>\n",
       "      <td>153</td>\n",
       "      <td>153</td>\n",
       "    </tr>\n",
       "    <tr>\n",
       "      <th>4</th>\n",
       "      <td>NaN</td>\n",
       "      <td>Angola</td>\n",
       "      <td>-11.20270</td>\n",
       "      <td>17.873900</td>\n",
       "      <td>0</td>\n",
       "      <td>0</td>\n",
       "      <td>0</td>\n",
       "      <td>0</td>\n",
       "      <td>0</td>\n",
       "      <td>0</td>\n",
       "      <td>...</td>\n",
       "      <td>1900</td>\n",
       "      <td>1900</td>\n",
       "      <td>1900</td>\n",
       "      <td>1900</td>\n",
       "      <td>1900</td>\n",
       "      <td>1900</td>\n",
       "      <td>1900</td>\n",
       "      <td>1900</td>\n",
       "      <td>1900</td>\n",
       "      <td>1900</td>\n",
       "    </tr>\n",
       "  </tbody>\n",
       "</table>\n",
       "<p>5 rows × 799 columns</p>\n",
       "</div>"
      ],
      "text/plain": [
       "  Province/State Country/Region       Lat       Long  1/22/20  1/23/20  \\\n",
       "0            NaN    Afghanistan  33.93911  67.709953        0        0   \n",
       "1            NaN        Albania  41.15330  20.168300        0        0   \n",
       "2            NaN        Algeria  28.03390   1.659600        0        0   \n",
       "3            NaN        Andorra  42.50630   1.521800        0        0   \n",
       "4            NaN         Angola -11.20270  17.873900        0        0   \n",
       "\n",
       "   1/24/20  1/25/20  1/26/20  1/27/20  ...  3/17/22  3/18/22  3/19/22  \\\n",
       "0        0        0        0        0  ...     7651     7651     7652   \n",
       "1        0        0        0        0  ...     3487     3487     3487   \n",
       "2        0        0        0        0  ...     6870     6871     6871   \n",
       "3        0        0        0        0  ...      153      153      153   \n",
       "4        0        0        0        0  ...     1900     1900     1900   \n",
       "\n",
       "   3/20/22  3/21/22  3/22/22  3/23/22  3/24/22  3/25/22  3/26/22  \n",
       "0     7654     7654     7656     7657     7657     7657     7657  \n",
       "1     3487     3487     3489     3489     3489     3490     3491  \n",
       "2     6871     6872     6873     6873     6873     6873     6873  \n",
       "3      153      153      153      153      155      153      153  \n",
       "4     1900     1900     1900     1900     1900     1900     1900  \n",
       "\n",
       "[5 rows x 799 columns]"
      ]
     },
     "execution_count": 45,
     "metadata": {},
     "output_type": "execute_result"
    }
   ],
   "source": [
    "covid_deaths_global_ts.head()"
   ]
  },
  {
   "cell_type": "markdown",
   "id": "VfujW8OdknNI",
   "metadata": {
    "id": "VfujW8OdknNI"
   },
   "source": [
    "1. Eliminamos primeramente las columnas que estarían que no son necesarias:\n",
    "'Province/State', 'Country/Region', 'Lat', 'Long'"
   ]
  },
  {
   "cell_type": "code",
   "execution_count": 46,
   "id": "1mcnA3ktIqHc",
   "metadata": {
    "id": "1mcnA3ktIqHc"
   },
   "outputs": [],
   "source": [
    "covid_deaths = covid_deaths_global_ts.drop(['Province/State', 'Country/Region', 'Lat', 'Long'], axis=1) "
   ]
  },
  {
   "cell_type": "markdown",
   "id": "feCBFZEBky3g",
   "metadata": {
    "id": "feCBFZEBky3g"
   },
   "source": [
    "2. Buscamos valores NaNs"
   ]
  },
  {
   "cell_type": "code",
   "execution_count": 47,
   "id": "9WBG8CIDJUyG",
   "metadata": {
    "colab": {
     "base_uri": "https://localhost:8080/"
    },
    "executionInfo": {
     "elapsed": 8,
     "status": "ok",
     "timestamp": 1675916101886,
     "user": {
      "displayName": "gerardo antonio fuentes garcia",
      "userId": "11702168562164629048"
     },
     "user_tz": 360
    },
    "id": "9WBG8CIDJUyG",
    "outputId": "39ed22f8-5f0e-47b8-dc85-44a556230bab"
   },
   "outputs": [
    {
     "data": {
      "text/plain": [
       "1/22/20    0\n",
       "1/23/20    0\n",
       "1/24/20    0\n",
       "1/25/20    0\n",
       "1/26/20    0\n",
       "          ..\n",
       "3/22/22    0\n",
       "3/23/22    0\n",
       "3/24/22    0\n",
       "3/25/22    0\n",
       "3/26/22    0\n",
       "Length: 795, dtype: int64"
      ]
     },
     "execution_count": 47,
     "metadata": {},
     "output_type": "execute_result"
    }
   ],
   "source": [
    "covid_deaths.isna().sum(axis=0) # no NaNs"
   ]
  },
  {
   "cell_type": "code",
   "execution_count": 48,
   "id": "ZdmMUR8SJiPG",
   "metadata": {
    "colab": {
     "base_uri": "https://localhost:8080/"
    },
    "executionInfo": {
     "elapsed": 233,
     "status": "ok",
     "timestamp": 1675916104676,
     "user": {
      "displayName": "gerardo antonio fuentes garcia",
      "userId": "11702168562164629048"
     },
     "user_tz": 360
    },
    "id": "ZdmMUR8SJiPG",
    "outputId": "4e3161f8-5345-43c5-d65a-9efd292d9fd8"
   },
   "outputs": [
    {
     "data": {
      "text/plain": [
       "1/22/20    int64\n",
       "1/23/20    int64\n",
       "1/24/20    int64\n",
       "1/25/20    int64\n",
       "1/26/20    int64\n",
       "           ...  \n",
       "3/22/22    int64\n",
       "3/23/22    int64\n",
       "3/24/22    int64\n",
       "3/25/22    int64\n",
       "3/26/22    int64\n",
       "Length: 795, dtype: object"
      ]
     },
     "execution_count": 48,
     "metadata": {},
     "output_type": "execute_result"
    }
   ],
   "source": [
    "covid_deaths.dtypes"
   ]
  },
  {
   "cell_type": "markdown",
   "id": "JJE6q2V_o7cH",
   "metadata": {
    "id": "JJE6q2V_o7cH"
   },
   "source": [
    "3. Hacemos un agrupamiento por fecha sumando los valores de cada país y colapsando en uno solo que será el total"
   ]
  },
  {
   "cell_type": "code",
   "execution_count": 49,
   "id": "UmMjs_9vJqa8",
   "metadata": {
    "id": "UmMjs_9vJqa8"
   },
   "outputs": [],
   "source": [
    "covid_deaths_date = covid_deaths.sum() "
   ]
  },
  {
   "cell_type": "code",
   "execution_count": 50,
   "id": "6hTHTvMaP_SQ",
   "metadata": {
    "colab": {
     "base_uri": "https://localhost:8080/"
    },
    "executionInfo": {
     "elapsed": 12,
     "status": "ok",
     "timestamp": 1675916110334,
     "user": {
      "displayName": "gerardo antonio fuentes garcia",
      "userId": "11702168562164629048"
     },
     "user_tz": 360
    },
    "id": "6hTHTvMaP_SQ",
    "outputId": "aaf9bce5-27a7-401a-f7fa-2c3c5bba7a7a"
   },
   "outputs": [
    {
     "data": {
      "text/plain": [
       "pandas.core.series.Series"
      ]
     },
     "execution_count": 50,
     "metadata": {},
     "output_type": "execute_result"
    }
   ],
   "source": [
    "type(covid_deaths_date) # Serie con indices = fecha"
   ]
  },
  {
   "cell_type": "markdown",
   "id": "41GVrOm2pZYK",
   "metadata": {
    "id": "41GVrOm2pZYK"
   },
   "source": [
    "4. Convertimos a DataFrame"
   ]
  },
  {
   "cell_type": "code",
   "execution_count": 51,
   "id": "5tiv_7CFRizR",
   "metadata": {
    "id": "5tiv_7CFRizR"
   },
   "outputs": [],
   "source": [
    "# covid_deaths_date.index\n",
    "covid_deaths_date_df = pd.DataFrame(covid_deaths_date)"
   ]
  },
  {
   "cell_type": "markdown",
   "id": "-V8KYpfcp6qL",
   "metadata": {
    "id": "-V8KYpfcp6qL"
   },
   "source": [
    "5. Reindexamos la base"
   ]
  },
  {
   "cell_type": "code",
   "execution_count": 52,
   "id": "MtagMKMdH9om",
   "metadata": {
    "id": "MtagMKMdH9om"
   },
   "outputs": [],
   "source": [
    "covid_deaths_date_df = covid_deaths_date_df.reset_index()"
   ]
  },
  {
   "cell_type": "code",
   "execution_count": 53,
   "id": "cU_xBA8UY0PH",
   "metadata": {
    "colab": {
     "base_uri": "https://localhost:8080/",
     "height": 423
    },
    "executionInfo": {
     "elapsed": 167,
     "status": "ok",
     "timestamp": 1675916168593,
     "user": {
      "displayName": "gerardo antonio fuentes garcia",
      "userId": "11702168562164629048"
     },
     "user_tz": 360
    },
    "id": "cU_xBA8UY0PH",
    "outputId": "7889f0c8-89c1-492f-e1ef-d5e38b271b37"
   },
   "outputs": [
    {
     "data": {
      "text/html": [
       "<div>\n",
       "<style scoped>\n",
       "    .dataframe tbody tr th:only-of-type {\n",
       "        vertical-align: middle;\n",
       "    }\n",
       "\n",
       "    .dataframe tbody tr th {\n",
       "        vertical-align: top;\n",
       "    }\n",
       "\n",
       "    .dataframe thead th {\n",
       "        text-align: right;\n",
       "    }\n",
       "</style>\n",
       "<table border=\"1\" class=\"dataframe\">\n",
       "  <thead>\n",
       "    <tr style=\"text-align: right;\">\n",
       "      <th></th>\n",
       "      <th>index</th>\n",
       "      <th>0</th>\n",
       "    </tr>\n",
       "  </thead>\n",
       "  <tbody>\n",
       "    <tr>\n",
       "      <th>0</th>\n",
       "      <td>1/22/20</td>\n",
       "      <td>34</td>\n",
       "    </tr>\n",
       "    <tr>\n",
       "      <th>1</th>\n",
       "      <td>1/23/20</td>\n",
       "      <td>36</td>\n",
       "    </tr>\n",
       "    <tr>\n",
       "      <th>2</th>\n",
       "      <td>1/24/20</td>\n",
       "      <td>52</td>\n",
       "    </tr>\n",
       "    <tr>\n",
       "      <th>3</th>\n",
       "      <td>1/25/20</td>\n",
       "      <td>84</td>\n",
       "    </tr>\n",
       "    <tr>\n",
       "      <th>4</th>\n",
       "      <td>1/26/20</td>\n",
       "      <td>112</td>\n",
       "    </tr>\n",
       "    <tr>\n",
       "      <th>...</th>\n",
       "      <td>...</td>\n",
       "      <td>...</td>\n",
       "    </tr>\n",
       "    <tr>\n",
       "      <th>790</th>\n",
       "      <td>3/22/22</td>\n",
       "      <td>12197542</td>\n",
       "    </tr>\n",
       "    <tr>\n",
       "      <th>791</th>\n",
       "      <td>3/23/22</td>\n",
       "      <td>12208752</td>\n",
       "    </tr>\n",
       "    <tr>\n",
       "      <th>792</th>\n",
       "      <td>3/24/22</td>\n",
       "      <td>12219308</td>\n",
       "    </tr>\n",
       "    <tr>\n",
       "      <th>793</th>\n",
       "      <td>3/25/22</td>\n",
       "      <td>12237002</td>\n",
       "    </tr>\n",
       "    <tr>\n",
       "      <th>794</th>\n",
       "      <td>3/26/22</td>\n",
       "      <td>12242306</td>\n",
       "    </tr>\n",
       "  </tbody>\n",
       "</table>\n",
       "<p>795 rows × 2 columns</p>\n",
       "</div>"
      ],
      "text/plain": [
       "       index         0\n",
       "0    1/22/20        34\n",
       "1    1/23/20        36\n",
       "2    1/24/20        52\n",
       "3    1/25/20        84\n",
       "4    1/26/20       112\n",
       "..       ...       ...\n",
       "790  3/22/22  12197542\n",
       "791  3/23/22  12208752\n",
       "792  3/24/22  12219308\n",
       "793  3/25/22  12237002\n",
       "794  3/26/22  12242306\n",
       "\n",
       "[795 rows x 2 columns]"
      ]
     },
     "execution_count": 53,
     "metadata": {},
     "output_type": "execute_result"
    }
   ],
   "source": [
    "covid_deaths_date_df"
   ]
  },
  {
   "cell_type": "markdown",
   "id": "ftxmvIZiqGB4",
   "metadata": {
    "id": "ftxmvIZiqGB4"
   },
   "source": [
    "6. Renombramos las columnas"
   ]
  },
  {
   "cell_type": "code",
   "execution_count": 54,
   "id": "owhy8PXQSlEo",
   "metadata": {
    "id": "owhy8PXQSlEo"
   },
   "outputs": [],
   "source": [
    "covid_deaths_date_df = covid_deaths_date_df.rename(columns={'index':'Date', 0:'muertes_global'})"
   ]
  },
  {
   "cell_type": "code",
   "execution_count": 55,
   "id": "cb61233e-c645-492d-b50a-3286fbaaf29f",
   "metadata": {
    "colab": {
     "base_uri": "https://localhost:8080/",
     "height": 206
    },
    "executionInfo": {
     "elapsed": 153,
     "status": "ok",
     "timestamp": 1675916241877,
     "user": {
      "displayName": "gerardo antonio fuentes garcia",
      "userId": "11702168562164629048"
     },
     "user_tz": 360
    },
    "id": "cb61233e-c645-492d-b50a-3286fbaaf29f",
    "outputId": "27c27dc6-ac3b-41a1-e50e-73b826924385"
   },
   "outputs": [
    {
     "data": {
      "text/html": [
       "<div>\n",
       "<style scoped>\n",
       "    .dataframe tbody tr th:only-of-type {\n",
       "        vertical-align: middle;\n",
       "    }\n",
       "\n",
       "    .dataframe tbody tr th {\n",
       "        vertical-align: top;\n",
       "    }\n",
       "\n",
       "    .dataframe thead th {\n",
       "        text-align: right;\n",
       "    }\n",
       "</style>\n",
       "<table border=\"1\" class=\"dataframe\">\n",
       "  <thead>\n",
       "    <tr style=\"text-align: right;\">\n",
       "      <th></th>\n",
       "      <th>Date</th>\n",
       "      <th>muertes_global</th>\n",
       "    </tr>\n",
       "  </thead>\n",
       "  <tbody>\n",
       "    <tr>\n",
       "      <th>0</th>\n",
       "      <td>1/22/20</td>\n",
       "      <td>34</td>\n",
       "    </tr>\n",
       "    <tr>\n",
       "      <th>1</th>\n",
       "      <td>1/23/20</td>\n",
       "      <td>36</td>\n",
       "    </tr>\n",
       "    <tr>\n",
       "      <th>2</th>\n",
       "      <td>1/24/20</td>\n",
       "      <td>52</td>\n",
       "    </tr>\n",
       "    <tr>\n",
       "      <th>3</th>\n",
       "      <td>1/25/20</td>\n",
       "      <td>84</td>\n",
       "    </tr>\n",
       "    <tr>\n",
       "      <th>4</th>\n",
       "      <td>1/26/20</td>\n",
       "      <td>112</td>\n",
       "    </tr>\n",
       "  </tbody>\n",
       "</table>\n",
       "</div>"
      ],
      "text/plain": [
       "      Date  muertes_global\n",
       "0  1/22/20              34\n",
       "1  1/23/20              36\n",
       "2  1/24/20              52\n",
       "3  1/25/20              84\n",
       "4  1/26/20             112"
      ]
     },
     "execution_count": 55,
     "metadata": {},
     "output_type": "execute_result"
    }
   ],
   "source": [
    "covid_deaths_date_df.head()"
   ]
  },
  {
   "cell_type": "markdown",
   "id": "415ae95e-c875-4259-abee-040fa973f606",
   "metadata": {
    "id": "415ae95e-c875-4259-abee-040fa973f606"
   },
   "source": [
    "------------"
   ]
  },
  {
   "cell_type": "markdown",
   "id": "WDNSCe5VqzYo",
   "metadata": {
    "id": "WDNSCe5VqzYo"
   },
   "source": [
    "Realizamos el mismo proceso de muertes para la base de casos confirmados"
   ]
  },
  {
   "cell_type": "code",
   "execution_count": 56,
   "id": "dac148ae-2da0-412e-8780-3e3dd9aac74a",
   "metadata": {
    "colab": {
     "base_uri": "https://localhost:8080/",
     "height": 237
    },
    "executionInfo": {
     "elapsed": 186,
     "status": "ok",
     "timestamp": 1675916252759,
     "user": {
      "displayName": "gerardo antonio fuentes garcia",
      "userId": "11702168562164629048"
     },
     "user_tz": 360
    },
    "id": "dac148ae-2da0-412e-8780-3e3dd9aac74a",
    "outputId": "f81f6606-748d-4bfc-8aa3-dc8ddf169ec1"
   },
   "outputs": [
    {
     "data": {
      "text/html": [
       "<div>\n",
       "<style scoped>\n",
       "    .dataframe tbody tr th:only-of-type {\n",
       "        vertical-align: middle;\n",
       "    }\n",
       "\n",
       "    .dataframe tbody tr th {\n",
       "        vertical-align: top;\n",
       "    }\n",
       "\n",
       "    .dataframe thead th {\n",
       "        text-align: right;\n",
       "    }\n",
       "</style>\n",
       "<table border=\"1\" class=\"dataframe\">\n",
       "  <thead>\n",
       "    <tr style=\"text-align: right;\">\n",
       "      <th></th>\n",
       "      <th>Province/State</th>\n",
       "      <th>Country/Region</th>\n",
       "      <th>Lat</th>\n",
       "      <th>Long</th>\n",
       "      <th>1/22/20</th>\n",
       "      <th>1/23/20</th>\n",
       "      <th>1/24/20</th>\n",
       "      <th>1/25/20</th>\n",
       "      <th>1/26/20</th>\n",
       "      <th>1/27/20</th>\n",
       "      <th>...</th>\n",
       "      <th>3/17/22</th>\n",
       "      <th>3/18/22</th>\n",
       "      <th>3/19/22</th>\n",
       "      <th>3/20/22</th>\n",
       "      <th>3/21/22</th>\n",
       "      <th>3/22/22</th>\n",
       "      <th>3/23/22</th>\n",
       "      <th>3/24/22</th>\n",
       "      <th>3/25/22</th>\n",
       "      <th>3/26/22</th>\n",
       "    </tr>\n",
       "  </thead>\n",
       "  <tbody>\n",
       "    <tr>\n",
       "      <th>0</th>\n",
       "      <td>NaN</td>\n",
       "      <td>Afghanistan</td>\n",
       "      <td>33.93911</td>\n",
       "      <td>67.709953</td>\n",
       "      <td>0</td>\n",
       "      <td>0</td>\n",
       "      <td>0</td>\n",
       "      <td>0</td>\n",
       "      <td>0</td>\n",
       "      <td>0</td>\n",
       "      <td>...</td>\n",
       "      <td>176918</td>\n",
       "      <td>176983</td>\n",
       "      <td>177039</td>\n",
       "      <td>177093</td>\n",
       "      <td>177191</td>\n",
       "      <td>177255</td>\n",
       "      <td>177321</td>\n",
       "      <td>177321</td>\n",
       "      <td>177321</td>\n",
       "      <td>177321</td>\n",
       "    </tr>\n",
       "    <tr>\n",
       "      <th>1</th>\n",
       "      <td>NaN</td>\n",
       "      <td>Albania</td>\n",
       "      <td>41.15330</td>\n",
       "      <td>20.168300</td>\n",
       "      <td>0</td>\n",
       "      <td>0</td>\n",
       "      <td>0</td>\n",
       "      <td>0</td>\n",
       "      <td>0</td>\n",
       "      <td>0</td>\n",
       "      <td>...</td>\n",
       "      <td>272885</td>\n",
       "      <td>272961</td>\n",
       "      <td>273040</td>\n",
       "      <td>273088</td>\n",
       "      <td>273088</td>\n",
       "      <td>273146</td>\n",
       "      <td>273164</td>\n",
       "      <td>273257</td>\n",
       "      <td>273318</td>\n",
       "      <td>273387</td>\n",
       "    </tr>\n",
       "    <tr>\n",
       "      <th>2</th>\n",
       "      <td>NaN</td>\n",
       "      <td>Algeria</td>\n",
       "      <td>28.03390</td>\n",
       "      <td>1.659600</td>\n",
       "      <td>0</td>\n",
       "      <td>0</td>\n",
       "      <td>0</td>\n",
       "      <td>0</td>\n",
       "      <td>0</td>\n",
       "      <td>0</td>\n",
       "      <td>...</td>\n",
       "      <td>265511</td>\n",
       "      <td>265524</td>\n",
       "      <td>265539</td>\n",
       "      <td>265550</td>\n",
       "      <td>265562</td>\n",
       "      <td>265573</td>\n",
       "      <td>265585</td>\n",
       "      <td>265599</td>\n",
       "      <td>265612</td>\n",
       "      <td>265621</td>\n",
       "    </tr>\n",
       "  </tbody>\n",
       "</table>\n",
       "<p>3 rows × 799 columns</p>\n",
       "</div>"
      ],
      "text/plain": [
       "  Province/State Country/Region       Lat       Long  1/22/20  1/23/20  \\\n",
       "0            NaN    Afghanistan  33.93911  67.709953        0        0   \n",
       "1            NaN        Albania  41.15330  20.168300        0        0   \n",
       "2            NaN        Algeria  28.03390   1.659600        0        0   \n",
       "\n",
       "   1/24/20  1/25/20  1/26/20  1/27/20  ...  3/17/22  3/18/22  3/19/22  \\\n",
       "0        0        0        0        0  ...   176918   176983   177039   \n",
       "1        0        0        0        0  ...   272885   272961   273040   \n",
       "2        0        0        0        0  ...   265511   265524   265539   \n",
       "\n",
       "   3/20/22  3/21/22  3/22/22  3/23/22  3/24/22  3/25/22  3/26/22  \n",
       "0   177093   177191   177255   177321   177321   177321   177321  \n",
       "1   273088   273088   273146   273164   273257   273318   273387  \n",
       "2   265550   265562   265573   265585   265599   265612   265621  \n",
       "\n",
       "[3 rows x 799 columns]"
      ]
     },
     "execution_count": 56,
     "metadata": {},
     "output_type": "execute_result"
    }
   ],
   "source": [
    "covid_confirmed_global_ts.head(3)"
   ]
  },
  {
   "cell_type": "code",
   "execution_count": 57,
   "id": "d2175b41-e610-4158-a742-1f7a51ec8185",
   "metadata": {
    "id": "d2175b41-e610-4158-a742-1f7a51ec8185"
   },
   "outputs": [],
   "source": [
    "covid_confirmed = covid_confirmed_global_ts.drop(['Province/State', 'Country/Region', 'Lat', 'Long'], axis=1)"
   ]
  },
  {
   "cell_type": "code",
   "execution_count": 58,
   "id": "b9ad79ba-b999-4c16-bf72-03058006756b",
   "metadata": {
    "colab": {
     "base_uri": "https://localhost:8080/"
    },
    "executionInfo": {
     "elapsed": 141,
     "status": "ok",
     "timestamp": 1675916257590,
     "user": {
      "displayName": "gerardo antonio fuentes garcia",
      "userId": "11702168562164629048"
     },
     "user_tz": 360
    },
    "id": "b9ad79ba-b999-4c16-bf72-03058006756b",
    "outputId": "9de43638-d38a-47b6-8734-b6a39adf510c"
   },
   "outputs": [
    {
     "data": {
      "text/plain": [
       "1/22/20    0\n",
       "1/23/20    0\n",
       "1/24/20    0\n",
       "1/25/20    0\n",
       "1/26/20    0\n",
       "          ..\n",
       "3/22/22    0\n",
       "3/23/22    0\n",
       "3/24/22    0\n",
       "3/25/22    0\n",
       "3/26/22    0\n",
       "Length: 795, dtype: int64"
      ]
     },
     "execution_count": 58,
     "metadata": {},
     "output_type": "execute_result"
    }
   ],
   "source": [
    "covid_confirmed.isna().sum(axis=0) # no NaNs\n"
   ]
  },
  {
   "cell_type": "code",
   "execution_count": 59,
   "id": "f0f39f58-e411-4a32-a20f-fba9f37fad81",
   "metadata": {
    "id": "f0f39f58-e411-4a32-a20f-fba9f37fad81"
   },
   "outputs": [],
   "source": [
    "covid_confirmed_date = covid_confirmed.sum()"
   ]
  },
  {
   "cell_type": "code",
   "execution_count": 60,
   "id": "5afe8213-9637-4b96-8530-8fe2420cf4f8",
   "metadata": {
    "id": "5afe8213-9637-4b96-8530-8fe2420cf4f8"
   },
   "outputs": [],
   "source": [
    "covid_confirmed_date_df = pd.DataFrame(covid_confirmed_date)"
   ]
  },
  {
   "cell_type": "code",
   "execution_count": 61,
   "id": "272fa3d5-e42f-4b52-b5b3-dc9558d71942",
   "metadata": {
    "id": "272fa3d5-e42f-4b52-b5b3-dc9558d71942"
   },
   "outputs": [],
   "source": [
    "covid_confirmed_date_df = covid_confirmed_date_df.reset_index()"
   ]
  },
  {
   "cell_type": "code",
   "execution_count": 62,
   "id": "59e5d47e-a3f4-4354-910b-9c4cde3a99bc",
   "metadata": {
    "id": "59e5d47e-a3f4-4354-910b-9c4cde3a99bc"
   },
   "outputs": [],
   "source": [
    "covid_confirmed_date_df = covid_confirmed_date_df.rename(columns={'index':'Date', 0:'casos_confirmados_global'})"
   ]
  },
  {
   "cell_type": "code",
   "execution_count": 63,
   "id": "0fbd3e54-f5f5-4bc9-8643-073ae09244d0",
   "metadata": {
    "id": "0fbd3e54-f5f5-4bc9-8643-073ae09244d0"
   },
   "outputs": [],
   "source": [
    "covid_confirmed_date_df['Date'] = pd.to_datetime(covid_confirmed_date_df['Date'], unit='ns')\n",
    "\n",
    "covid_deaths_date_df['Date'] = pd.to_datetime(covid_deaths_date_df['Date'], unit='ns')"
   ]
  },
  {
   "cell_type": "code",
   "execution_count": 64,
   "id": "5ba72b3f-cc11-4a18-9876-8630a8f37234",
   "metadata": {
    "colab": {
     "base_uri": "https://localhost:8080/",
     "height": 308
    },
    "executionInfo": {
     "elapsed": 200,
     "status": "ok",
     "timestamp": 1675916274777,
     "user": {
      "displayName": "gerardo antonio fuentes garcia",
      "userId": "11702168562164629048"
     },
     "user_tz": 360
    },
    "id": "5ba72b3f-cc11-4a18-9876-8630a8f37234",
    "outputId": "9696f520-9876-4ae5-ed83-4f0a7ff3b98f"
   },
   "outputs": [
    {
     "name": "stdout",
     "output_type": "stream",
     "text": [
      "<class 'pandas.core.frame.DataFrame'>\n",
      "RangeIndex: 795 entries, 0 to 794\n",
      "Data columns (total 2 columns):\n",
      " #   Column                    Non-Null Count  Dtype         \n",
      "---  ------                    --------------  -----         \n",
      " 0   Date                      795 non-null    datetime64[ns]\n",
      " 1   casos_confirmados_global  795 non-null    int64         \n",
      "dtypes: datetime64[ns](1), int64(1)\n",
      "memory usage: 12.5 KB\n"
     ]
    },
    {
     "data": {
      "text/html": [
       "<div>\n",
       "<style scoped>\n",
       "    .dataframe tbody tr th:only-of-type {\n",
       "        vertical-align: middle;\n",
       "    }\n",
       "\n",
       "    .dataframe tbody tr th {\n",
       "        vertical-align: top;\n",
       "    }\n",
       "\n",
       "    .dataframe thead th {\n",
       "        text-align: right;\n",
       "    }\n",
       "</style>\n",
       "<table border=\"1\" class=\"dataframe\">\n",
       "  <thead>\n",
       "    <tr style=\"text-align: right;\">\n",
       "      <th></th>\n",
       "      <th>Date</th>\n",
       "      <th>casos_confirmados_global</th>\n",
       "    </tr>\n",
       "  </thead>\n",
       "  <tbody>\n",
       "    <tr>\n",
       "      <th>0</th>\n",
       "      <td>2020-01-22</td>\n",
       "      <td>1114</td>\n",
       "    </tr>\n",
       "    <tr>\n",
       "      <th>1</th>\n",
       "      <td>2020-01-23</td>\n",
       "      <td>1314</td>\n",
       "    </tr>\n",
       "    <tr>\n",
       "      <th>2</th>\n",
       "      <td>2020-01-24</td>\n",
       "      <td>1888</td>\n",
       "    </tr>\n",
       "  </tbody>\n",
       "</table>\n",
       "</div>"
      ],
      "text/plain": [
       "        Date  casos_confirmados_global\n",
       "0 2020-01-22                      1114\n",
       "1 2020-01-23                      1314\n",
       "2 2020-01-24                      1888"
      ]
     },
     "execution_count": 64,
     "metadata": {},
     "output_type": "execute_result"
    }
   ],
   "source": [
    "covid_confirmed_date_df.info()\n",
    "covid_confirmed_date_df.head(3)"
   ]
  },
  {
   "cell_type": "code",
   "execution_count": 65,
   "id": "c4199dab-b68a-40ff-858a-a6705e86c1c3",
   "metadata": {
    "colab": {
     "base_uri": "https://localhost:8080/",
     "height": 308
    },
    "executionInfo": {
     "elapsed": 191,
     "status": "ok",
     "timestamp": 1675916279748,
     "user": {
      "displayName": "gerardo antonio fuentes garcia",
      "userId": "11702168562164629048"
     },
     "user_tz": 360
    },
    "id": "c4199dab-b68a-40ff-858a-a6705e86c1c3",
    "outputId": "f855da76-490a-42d6-d595-7e71531d6a36"
   },
   "outputs": [
    {
     "name": "stdout",
     "output_type": "stream",
     "text": [
      "<class 'pandas.core.frame.DataFrame'>\n",
      "RangeIndex: 795 entries, 0 to 794\n",
      "Data columns (total 2 columns):\n",
      " #   Column          Non-Null Count  Dtype         \n",
      "---  ------          --------------  -----         \n",
      " 0   Date            795 non-null    datetime64[ns]\n",
      " 1   muertes_global  795 non-null    int64         \n",
      "dtypes: datetime64[ns](1), int64(1)\n",
      "memory usage: 12.5 KB\n"
     ]
    },
    {
     "data": {
      "text/html": [
       "<div>\n",
       "<style scoped>\n",
       "    .dataframe tbody tr th:only-of-type {\n",
       "        vertical-align: middle;\n",
       "    }\n",
       "\n",
       "    .dataframe tbody tr th {\n",
       "        vertical-align: top;\n",
       "    }\n",
       "\n",
       "    .dataframe thead th {\n",
       "        text-align: right;\n",
       "    }\n",
       "</style>\n",
       "<table border=\"1\" class=\"dataframe\">\n",
       "  <thead>\n",
       "    <tr style=\"text-align: right;\">\n",
       "      <th></th>\n",
       "      <th>Date</th>\n",
       "      <th>muertes_global</th>\n",
       "    </tr>\n",
       "  </thead>\n",
       "  <tbody>\n",
       "    <tr>\n",
       "      <th>0</th>\n",
       "      <td>2020-01-22</td>\n",
       "      <td>34</td>\n",
       "    </tr>\n",
       "    <tr>\n",
       "      <th>1</th>\n",
       "      <td>2020-01-23</td>\n",
       "      <td>36</td>\n",
       "    </tr>\n",
       "    <tr>\n",
       "      <th>2</th>\n",
       "      <td>2020-01-24</td>\n",
       "      <td>52</td>\n",
       "    </tr>\n",
       "  </tbody>\n",
       "</table>\n",
       "</div>"
      ],
      "text/plain": [
       "        Date  muertes_global\n",
       "0 2020-01-22              34\n",
       "1 2020-01-23              36\n",
       "2 2020-01-24              52"
      ]
     },
     "execution_count": 65,
     "metadata": {},
     "output_type": "execute_result"
    }
   ],
   "source": [
    "covid_deaths_date_df.info()\n",
    "covid_deaths_date_df.head(3)"
   ]
  },
  {
   "cell_type": "markdown",
   "id": "hFUUe2kerNKQ",
   "metadata": {
    "id": "hFUUe2kerNKQ"
   },
   "source": [
    "Uniremos ahora ambas bases de muertes y casos reportados con el tipo \"left join\" "
   ]
  },
  {
   "cell_type": "code",
   "execution_count": 66,
   "id": "66e35f99-ce03-4c0e-be93-59fd728fc271",
   "metadata": {
    "id": "66e35f99-ce03-4c0e-be93-59fd728fc271"
   },
   "outputs": [],
   "source": [
    "covid_confirmedCases_deaths = pd.merge(covid_confirmed_date_df, covid_deaths_date_df, left_on='Date', right_on='Date').sort_index()"
   ]
  },
  {
   "cell_type": "code",
   "execution_count": 67,
   "id": "0c0c4526-44dc-49e0-9b80-5f4739ede94b",
   "metadata": {
    "colab": {
     "base_uri": "https://localhost:8080/",
     "height": 206
    },
    "executionInfo": {
     "elapsed": 171,
     "status": "ok",
     "timestamp": 1675916285783,
     "user": {
      "displayName": "gerardo antonio fuentes garcia",
      "userId": "11702168562164629048"
     },
     "user_tz": 360
    },
    "id": "0c0c4526-44dc-49e0-9b80-5f4739ede94b",
    "outputId": "924244a3-c32b-4762-a72c-913100cd1cf6"
   },
   "outputs": [
    {
     "data": {
      "text/html": [
       "<div>\n",
       "<style scoped>\n",
       "    .dataframe tbody tr th:only-of-type {\n",
       "        vertical-align: middle;\n",
       "    }\n",
       "\n",
       "    .dataframe tbody tr th {\n",
       "        vertical-align: top;\n",
       "    }\n",
       "\n",
       "    .dataframe thead th {\n",
       "        text-align: right;\n",
       "    }\n",
       "</style>\n",
       "<table border=\"1\" class=\"dataframe\">\n",
       "  <thead>\n",
       "    <tr style=\"text-align: right;\">\n",
       "      <th></th>\n",
       "      <th>Date</th>\n",
       "      <th>casos_confirmados_global</th>\n",
       "      <th>muertes_global</th>\n",
       "    </tr>\n",
       "  </thead>\n",
       "  <tbody>\n",
       "    <tr>\n",
       "      <th>0</th>\n",
       "      <td>2020-01-22</td>\n",
       "      <td>1114</td>\n",
       "      <td>34</td>\n",
       "    </tr>\n",
       "    <tr>\n",
       "      <th>1</th>\n",
       "      <td>2020-01-23</td>\n",
       "      <td>1314</td>\n",
       "      <td>36</td>\n",
       "    </tr>\n",
       "    <tr>\n",
       "      <th>2</th>\n",
       "      <td>2020-01-24</td>\n",
       "      <td>1888</td>\n",
       "      <td>52</td>\n",
       "    </tr>\n",
       "    <tr>\n",
       "      <th>3</th>\n",
       "      <td>2020-01-25</td>\n",
       "      <td>2874</td>\n",
       "      <td>84</td>\n",
       "    </tr>\n",
       "    <tr>\n",
       "      <th>4</th>\n",
       "      <td>2020-01-26</td>\n",
       "      <td>4240</td>\n",
       "      <td>112</td>\n",
       "    </tr>\n",
       "  </tbody>\n",
       "</table>\n",
       "</div>"
      ],
      "text/plain": [
       "        Date  casos_confirmados_global  muertes_global\n",
       "0 2020-01-22                      1114              34\n",
       "1 2020-01-23                      1314              36\n",
       "2 2020-01-24                      1888              52\n",
       "3 2020-01-25                      2874              84\n",
       "4 2020-01-26                      4240             112"
      ]
     },
     "execution_count": 67,
     "metadata": {},
     "output_type": "execute_result"
    }
   ],
   "source": [
    "covid_confirmedCases_deaths.head()"
   ]
  },
  {
   "cell_type": "markdown",
   "id": "c24e13ac-19c6-434a-a9a0-7d519b574667",
   "metadata": {
    "id": "c24e13ac-19c6-434a-a9a0-7d519b574667"
   },
   "source": [
    "--------"
   ]
  },
  {
   "cell_type": "markdown",
   "id": "faad61d1-a891-4bf1-93b7-ddf9c0cfa640",
   "metadata": {
    "id": "faad61d1-a891-4bf1-93b7-ddf9c0cfa640"
   },
   "source": [
    "La base creada de muertes y casos (\"covid_confirmedCases_deaths\") será unida con la base \"covid_countries\" con el filtro de solo registros globales (\"covid_world\") para tener nuestra base \"covid_final\"."
   ]
  },
  {
   "cell_type": "code",
   "execution_count": 68,
   "id": "b3090104-c110-497f-aa9b-4a8934210d89",
   "metadata": {
    "id": "b3090104-c110-497f-aa9b-4a8934210d89"
   },
   "outputs": [],
   "source": [
    "covid_final = pd.merge(covid_confirmedCases_deaths, covid_world, left_on='Date', right_on='TIMESTAMP_UTC').sort_index()"
   ]
  },
  {
   "cell_type": "code",
   "execution_count": 69,
   "id": "7639fe66-094b-42f6-ac8d-44b8dcb9625b",
   "metadata": {
    "colab": {
     "base_uri": "https://localhost:8080/",
     "height": 357
    },
    "executionInfo": {
     "elapsed": 165,
     "status": "ok",
     "timestamp": 1675916295150,
     "user": {
      "displayName": "gerardo antonio fuentes garcia",
      "userId": "11702168562164629048"
     },
     "user_tz": 360
    },
    "id": "7639fe66-094b-42f6-ac8d-44b8dcb9625b",
    "outputId": "d3447141-039c-42bc-f7ab-69b3baadfcc7"
   },
   "outputs": [
    {
     "data": {
      "text/html": [
       "<div>\n",
       "<style scoped>\n",
       "    .dataframe tbody tr th:only-of-type {\n",
       "        vertical-align: middle;\n",
       "    }\n",
       "\n",
       "    .dataframe tbody tr th {\n",
       "        vertical-align: top;\n",
       "    }\n",
       "\n",
       "    .dataframe thead th {\n",
       "        text-align: right;\n",
       "    }\n",
       "</style>\n",
       "<table border=\"1\" class=\"dataframe\">\n",
       "  <thead>\n",
       "    <tr style=\"text-align: right;\">\n",
       "      <th></th>\n",
       "      <th>Date</th>\n",
       "      <th>casos_confirmados_global</th>\n",
       "      <th>muertes_global</th>\n",
       "      <th>TIMESTAMP_UTC</th>\n",
       "      <th>TOTAL_CASES</th>\n",
       "      <th>CASES_DAILY</th>\n",
       "      <th>TOTAL_RECOVERED</th>\n",
       "      <th>RECOVERED_DAILY</th>\n",
       "      <th>TOTAL_DEATHS</th>\n",
       "      <th>DEATHS_DAILY</th>\n",
       "      <th>PANIC_INDEX</th>\n",
       "      <th>MEDIA_HYPE_INDEX</th>\n",
       "      <th>FAKE_NEWS_INDEX</th>\n",
       "      <th>SENTIMENT_INDEX</th>\n",
       "      <th>INFODEMIC_INDEX</th>\n",
       "      <th>MEDIA_COVERAGE_INDEX</th>\n",
       "    </tr>\n",
       "  </thead>\n",
       "  <tbody>\n",
       "    <tr>\n",
       "      <th>0</th>\n",
       "      <td>2020-01-22</td>\n",
       "      <td>1114</td>\n",
       "      <td>34</td>\n",
       "      <td>2020-01-22</td>\n",
       "      <td>0</td>\n",
       "      <td>0</td>\n",
       "      <td>0</td>\n",
       "      <td>0</td>\n",
       "      <td>0</td>\n",
       "      <td>0</td>\n",
       "      <td>0.59</td>\n",
       "      <td>3.27</td>\n",
       "      <td>0.01</td>\n",
       "      <td>-50.65</td>\n",
       "      <td>7.93</td>\n",
       "      <td>19.85</td>\n",
       "    </tr>\n",
       "    <tr>\n",
       "      <th>1</th>\n",
       "      <td>2020-01-23</td>\n",
       "      <td>1314</td>\n",
       "      <td>36</td>\n",
       "      <td>2020-01-23</td>\n",
       "      <td>1097</td>\n",
       "      <td>540</td>\n",
       "      <td>60</td>\n",
       "      <td>30</td>\n",
       "      <td>34</td>\n",
       "      <td>17</td>\n",
       "      <td>0.71</td>\n",
       "      <td>4.27</td>\n",
       "      <td>0.07</td>\n",
       "      <td>-46.36</td>\n",
       "      <td>9.79</td>\n",
       "      <td>21.91</td>\n",
       "    </tr>\n",
       "    <tr>\n",
       "      <th>2</th>\n",
       "      <td>2020-01-24</td>\n",
       "      <td>1888</td>\n",
       "      <td>52</td>\n",
       "      <td>2020-01-24</td>\n",
       "      <td>941</td>\n",
       "      <td>-156</td>\n",
       "      <td>39</td>\n",
       "      <td>-21</td>\n",
       "      <td>26</td>\n",
       "      <td>-8</td>\n",
       "      <td>0.79</td>\n",
       "      <td>5.36</td>\n",
       "      <td>0.05</td>\n",
       "      <td>-53.81</td>\n",
       "      <td>11.64</td>\n",
       "      <td>24.70</td>\n",
       "    </tr>\n",
       "    <tr>\n",
       "      <th>3</th>\n",
       "      <td>2020-01-25</td>\n",
       "      <td>2874</td>\n",
       "      <td>84</td>\n",
       "      <td>2020-01-25</td>\n",
       "      <td>1434</td>\n",
       "      <td>493</td>\n",
       "      <td>42</td>\n",
       "      <td>3</td>\n",
       "      <td>42</td>\n",
       "      <td>16</td>\n",
       "      <td>1.06</td>\n",
       "      <td>6.21</td>\n",
       "      <td>0.08</td>\n",
       "      <td>-49.36</td>\n",
       "      <td>12.47</td>\n",
       "      <td>28.89</td>\n",
       "    </tr>\n",
       "    <tr>\n",
       "      <th>4</th>\n",
       "      <td>2020-01-26</td>\n",
       "      <td>4240</td>\n",
       "      <td>112</td>\n",
       "      <td>2020-01-26</td>\n",
       "      <td>2116</td>\n",
       "      <td>682</td>\n",
       "      <td>56</td>\n",
       "      <td>14</td>\n",
       "      <td>56</td>\n",
       "      <td>14</td>\n",
       "      <td>1.44</td>\n",
       "      <td>7.91</td>\n",
       "      <td>0.08</td>\n",
       "      <td>-46.65</td>\n",
       "      <td>11.92</td>\n",
       "      <td>31.91</td>\n",
       "    </tr>\n",
       "  </tbody>\n",
       "</table>\n",
       "</div>"
      ],
      "text/plain": [
       "        Date  casos_confirmados_global  muertes_global TIMESTAMP_UTC  \\\n",
       "0 2020-01-22                      1114              34    2020-01-22   \n",
       "1 2020-01-23                      1314              36    2020-01-23   \n",
       "2 2020-01-24                      1888              52    2020-01-24   \n",
       "3 2020-01-25                      2874              84    2020-01-25   \n",
       "4 2020-01-26                      4240             112    2020-01-26   \n",
       "\n",
       "   TOTAL_CASES  CASES_DAILY  TOTAL_RECOVERED  RECOVERED_DAILY  TOTAL_DEATHS  \\\n",
       "0            0            0                0                0             0   \n",
       "1         1097          540               60               30            34   \n",
       "2          941         -156               39              -21            26   \n",
       "3         1434          493               42                3            42   \n",
       "4         2116          682               56               14            56   \n",
       "\n",
       "   DEATHS_DAILY  PANIC_INDEX  MEDIA_HYPE_INDEX  FAKE_NEWS_INDEX  \\\n",
       "0             0         0.59              3.27             0.01   \n",
       "1            17         0.71              4.27             0.07   \n",
       "2            -8         0.79              5.36             0.05   \n",
       "3            16         1.06              6.21             0.08   \n",
       "4            14         1.44              7.91             0.08   \n",
       "\n",
       "   SENTIMENT_INDEX  INFODEMIC_INDEX  MEDIA_COVERAGE_INDEX  \n",
       "0           -50.65             7.93                 19.85  \n",
       "1           -46.36             9.79                 21.91  \n",
       "2           -53.81            11.64                 24.70  \n",
       "3           -49.36            12.47                 28.89  \n",
       "4           -46.65            11.92                 31.91  "
      ]
     },
     "execution_count": 69,
     "metadata": {},
     "output_type": "execute_result"
    }
   ],
   "source": [
    "covid_final.head()\n",
    "\n",
    "## despues de verificar podemos eliminar TIMESTAMP..."
   ]
  },
  {
   "cell_type": "markdown",
   "id": "fdb035b8-570e-4331-875f-bd802747932e",
   "metadata": {
    "id": "fdb035b8-570e-4331-875f-bd802747932e"
   },
   "source": [
    "-------------"
   ]
  },
  {
   "cell_type": "markdown",
   "id": "SkQuKDrRtVuL",
   "metadata": {
    "id": "SkQuKDrRtVuL"
   },
   "source": [
    "Finalmente, limpiaremos la serie correspondiente al BTC"
   ]
  },
  {
   "cell_type": "code",
   "execution_count": 70,
   "id": "fe118e78-59d7-41a9-9224-49a48ae8dc18",
   "metadata": {
    "colab": {
     "base_uri": "https://localhost:8080/"
    },
    "executionInfo": {
     "elapsed": 144,
     "status": "ok",
     "timestamp": 1675916303442,
     "user": {
      "displayName": "gerardo antonio fuentes garcia",
      "userId": "11702168562164629048"
     },
     "user_tz": 360
    },
    "id": "fe118e78-59d7-41a9-9224-49a48ae8dc18",
    "outputId": "f875fe57-7215-4eec-9c45-7e9fa580d26d"
   },
   "outputs": [
    {
     "data": {
      "text/plain": [
       "Open         0\n",
       "High         0\n",
       "Low          0\n",
       "Close        0\n",
       "Adj Close    0\n",
       "Volume       0\n",
       "dtype: int64"
      ]
     },
     "execution_count": 70,
     "metadata": {},
     "output_type": "execute_result"
    }
   ],
   "source": [
    "bitcoin.isna().sum(axis=0)"
   ]
  },
  {
   "cell_type": "code",
   "execution_count": 71,
   "id": "8a9fcc92-9117-4241-9c1e-1395abf403b9",
   "metadata": {
    "colab": {
     "base_uri": "https://localhost:8080/"
    },
    "executionInfo": {
     "elapsed": 131,
     "status": "ok",
     "timestamp": 1675916308839,
     "user": {
      "displayName": "gerardo antonio fuentes garcia",
      "userId": "11702168562164629048"
     },
     "user_tz": 360
    },
    "id": "8a9fcc92-9117-4241-9c1e-1395abf403b9",
    "outputId": "5721ddc2-2d37-4436-a7cb-354d59a1f3e5"
   },
   "outputs": [
    {
     "name": "stdout",
     "output_type": "stream",
     "text": [
      "<class 'pandas.core.frame.DataFrame'>\n",
      "DatetimeIndex: 1095 entries, 2020-01-01 00:00:00+00:00 to 2022-12-30 00:00:00+00:00\n",
      "Data columns (total 6 columns):\n",
      " #   Column     Non-Null Count  Dtype  \n",
      "---  ------     --------------  -----  \n",
      " 0   Open       1095 non-null   float64\n",
      " 1   High       1095 non-null   float64\n",
      " 2   Low        1095 non-null   float64\n",
      " 3   Close      1095 non-null   float64\n",
      " 4   Adj Close  1095 non-null   float64\n",
      " 5   Volume     1095 non-null   int64  \n",
      "dtypes: float64(5), int64(1)\n",
      "memory usage: 59.9 KB\n"
     ]
    }
   ],
   "source": [
    "bitcoin.info()"
   ]
  },
  {
   "cell_type": "code",
   "execution_count": 72,
   "id": "11df51e0-fb20-41b1-95a7-c50f124c2d11",
   "metadata": {
    "id": "11df51e0-fb20-41b1-95a7-c50f124c2d11"
   },
   "outputs": [],
   "source": [
    "bitcoin = bitcoin.reset_index() # hacer el index Date como columna para cambiar el tipo"
   ]
  },
  {
   "cell_type": "code",
   "execution_count": 73,
   "id": "92b0383d-6279-4714-96cf-1953017244e0",
   "metadata": {
    "id": "92b0383d-6279-4714-96cf-1953017244e0"
   },
   "outputs": [],
   "source": [
    "bitcoin['Date'] = pd.to_datetime(bitcoin['Date']).dt.tz_localize(None) # borrar horas-zona horaria"
   ]
  },
  {
   "cell_type": "code",
   "execution_count": 74,
   "id": "50a069b9-c51d-4787-b7ef-08c8762e0304",
   "metadata": {
    "colab": {
     "base_uri": "https://localhost:8080/",
     "height": 206
    },
    "executionInfo": {
     "elapsed": 172,
     "status": "ok",
     "timestamp": 1675916319705,
     "user": {
      "displayName": "gerardo antonio fuentes garcia",
      "userId": "11702168562164629048"
     },
     "user_tz": 360
    },
    "id": "50a069b9-c51d-4787-b7ef-08c8762e0304",
    "outputId": "79a5041f-95e2-4fd9-83af-f94cf5f52f7b"
   },
   "outputs": [
    {
     "data": {
      "text/html": [
       "<div>\n",
       "<style scoped>\n",
       "    .dataframe tbody tr th:only-of-type {\n",
       "        vertical-align: middle;\n",
       "    }\n",
       "\n",
       "    .dataframe tbody tr th {\n",
       "        vertical-align: top;\n",
       "    }\n",
       "\n",
       "    .dataframe thead th {\n",
       "        text-align: right;\n",
       "    }\n",
       "</style>\n",
       "<table border=\"1\" class=\"dataframe\">\n",
       "  <thead>\n",
       "    <tr style=\"text-align: right;\">\n",
       "      <th></th>\n",
       "      <th>Date</th>\n",
       "      <th>Open</th>\n",
       "      <th>High</th>\n",
       "      <th>Low</th>\n",
       "      <th>Close</th>\n",
       "      <th>Adj Close</th>\n",
       "      <th>Volume</th>\n",
       "    </tr>\n",
       "  </thead>\n",
       "  <tbody>\n",
       "    <tr>\n",
       "      <th>0</th>\n",
       "      <td>2020-01-01</td>\n",
       "      <td>7194.892090</td>\n",
       "      <td>7254.330566</td>\n",
       "      <td>7174.944336</td>\n",
       "      <td>7200.174316</td>\n",
       "      <td>7200.174316</td>\n",
       "      <td>18565664997</td>\n",
       "    </tr>\n",
       "    <tr>\n",
       "      <th>1</th>\n",
       "      <td>2020-01-02</td>\n",
       "      <td>7202.551270</td>\n",
       "      <td>7212.155273</td>\n",
       "      <td>6935.270020</td>\n",
       "      <td>6985.470215</td>\n",
       "      <td>6985.470215</td>\n",
       "      <td>20802083465</td>\n",
       "    </tr>\n",
       "    <tr>\n",
       "      <th>2</th>\n",
       "      <td>2020-01-03</td>\n",
       "      <td>6984.428711</td>\n",
       "      <td>7413.715332</td>\n",
       "      <td>6914.996094</td>\n",
       "      <td>7344.884277</td>\n",
       "      <td>7344.884277</td>\n",
       "      <td>28111481032</td>\n",
       "    </tr>\n",
       "    <tr>\n",
       "      <th>3</th>\n",
       "      <td>2020-01-04</td>\n",
       "      <td>7345.375488</td>\n",
       "      <td>7427.385742</td>\n",
       "      <td>7309.514160</td>\n",
       "      <td>7410.656738</td>\n",
       "      <td>7410.656738</td>\n",
       "      <td>18444271275</td>\n",
       "    </tr>\n",
       "    <tr>\n",
       "      <th>4</th>\n",
       "      <td>2020-01-05</td>\n",
       "      <td>7410.451660</td>\n",
       "      <td>7544.497070</td>\n",
       "      <td>7400.535645</td>\n",
       "      <td>7411.317383</td>\n",
       "      <td>7411.317383</td>\n",
       "      <td>19725074095</td>\n",
       "    </tr>\n",
       "  </tbody>\n",
       "</table>\n",
       "</div>"
      ],
      "text/plain": [
       "        Date         Open         High          Low        Close    Adj Close  \\\n",
       "0 2020-01-01  7194.892090  7254.330566  7174.944336  7200.174316  7200.174316   \n",
       "1 2020-01-02  7202.551270  7212.155273  6935.270020  6985.470215  6985.470215   \n",
       "2 2020-01-03  6984.428711  7413.715332  6914.996094  7344.884277  7344.884277   \n",
       "3 2020-01-04  7345.375488  7427.385742  7309.514160  7410.656738  7410.656738   \n",
       "4 2020-01-05  7410.451660  7544.497070  7400.535645  7411.317383  7411.317383   \n",
       "\n",
       "        Volume  \n",
       "0  18565664997  \n",
       "1  20802083465  \n",
       "2  28111481032  \n",
       "3  18444271275  \n",
       "4  19725074095  "
      ]
     },
     "execution_count": 74,
     "metadata": {},
     "output_type": "execute_result"
    }
   ],
   "source": [
    "bitcoin.head()"
   ]
  },
  {
   "cell_type": "code",
   "execution_count": 75,
   "id": "79e123a4-f1ac-46eb-807d-02d5e72b7ec7",
   "metadata": {
    "id": "79e123a4-f1ac-46eb-807d-02d5e72b7ec7"
   },
   "outputs": [],
   "source": [
    "bitcoin = bitcoin.rename(columns={'Date':'Date_bitcoin'}) # Renombrar columna para verificar que el merge este correcto"
   ]
  },
  {
   "cell_type": "markdown",
   "id": "5WxA21Qmt32N",
   "metadata": {
    "id": "5WxA21Qmt32N"
   },
   "source": [
    "Unimos las bases \"covid_final\" con la serie \"bitcoin\""
   ]
  },
  {
   "cell_type": "code",
   "execution_count": 76,
   "id": "c8a811ac-2f0d-43f0-956d-dcfdf2bc82de",
   "metadata": {
    "id": "c8a811ac-2f0d-43f0-956d-dcfdf2bc82de"
   },
   "outputs": [],
   "source": [
    "df_final = pd.merge(covid_final, bitcoin, left_on='Date', right_on='Date_bitcoin').sort_index()"
   ]
  },
  {
   "cell_type": "code",
   "execution_count": 77,
   "id": "758a222b-4768-4750-b5c7-31256591fdcb",
   "metadata": {
    "colab": {
     "base_uri": "https://localhost:8080/"
    },
    "executionInfo": {
     "elapsed": 166,
     "status": "ok",
     "timestamp": 1675916328104,
     "user": {
      "displayName": "gerardo antonio fuentes garcia",
      "userId": "11702168562164629048"
     },
     "user_tz": 360
    },
    "id": "758a222b-4768-4750-b5c7-31256591fdcb",
    "outputId": "6bb35bec-4d04-47e9-f7ae-3326e7a3bb39"
   },
   "outputs": [
    {
     "data": {
      "text/plain": [
       "Index(['Date', 'casos_confirmados_global', 'muertes_global', 'TIMESTAMP_UTC',\n",
       "       'TOTAL_CASES', 'CASES_DAILY', 'TOTAL_RECOVERED', 'RECOVERED_DAILY',\n",
       "       'TOTAL_DEATHS', 'DEATHS_DAILY', 'PANIC_INDEX', 'MEDIA_HYPE_INDEX',\n",
       "       'FAKE_NEWS_INDEX', 'SENTIMENT_INDEX', 'INFODEMIC_INDEX',\n",
       "       'MEDIA_COVERAGE_INDEX', 'Date_bitcoin', 'Open', 'High', 'Low', 'Close',\n",
       "       'Adj Close', 'Volume'],\n",
       "      dtype='object')"
      ]
     },
     "execution_count": 77,
     "metadata": {},
     "output_type": "execute_result"
    }
   ],
   "source": [
    "df_final.columns"
   ]
  },
  {
   "cell_type": "code",
   "execution_count": 78,
   "id": "b84246d3-faa3-4975-a934-0c764dec4a7c",
   "metadata": {
    "id": "b84246d3-faa3-4975-a934-0c764dec4a7c"
   },
   "outputs": [],
   "source": [
    "df_final = df_final.drop(['TIMESTAMP_UTC', 'Date_bitcoin'], axis=1) # agregamos las que no usemos"
   ]
  },
  {
   "cell_type": "code",
   "execution_count": 79,
   "id": "5f0f4230-8a51-4cd3-bc02-1dae935701c7",
   "metadata": {
    "colab": {
     "base_uri": "https://localhost:8080/",
     "height": 289
    },
    "executionInfo": {
     "elapsed": 215,
     "status": "ok",
     "timestamp": 1675916354991,
     "user": {
      "displayName": "gerardo antonio fuentes garcia",
      "userId": "11702168562164629048"
     },
     "user_tz": 360
    },
    "id": "5f0f4230-8a51-4cd3-bc02-1dae935701c7",
    "outputId": "ddd565a7-e1d7-4ddf-aebc-4d74dc5267e6"
   },
   "outputs": [
    {
     "data": {
      "text/html": [
       "<div>\n",
       "<style scoped>\n",
       "    .dataframe tbody tr th:only-of-type {\n",
       "        vertical-align: middle;\n",
       "    }\n",
       "\n",
       "    .dataframe tbody tr th {\n",
       "        vertical-align: top;\n",
       "    }\n",
       "\n",
       "    .dataframe thead th {\n",
       "        text-align: right;\n",
       "    }\n",
       "</style>\n",
       "<table border=\"1\" class=\"dataframe\">\n",
       "  <thead>\n",
       "    <tr style=\"text-align: right;\">\n",
       "      <th></th>\n",
       "      <th>Date</th>\n",
       "      <th>casos_confirmados_global</th>\n",
       "      <th>muertes_global</th>\n",
       "      <th>TOTAL_CASES</th>\n",
       "      <th>CASES_DAILY</th>\n",
       "      <th>TOTAL_RECOVERED</th>\n",
       "      <th>RECOVERED_DAILY</th>\n",
       "      <th>TOTAL_DEATHS</th>\n",
       "      <th>DEATHS_DAILY</th>\n",
       "      <th>PANIC_INDEX</th>\n",
       "      <th>...</th>\n",
       "      <th>FAKE_NEWS_INDEX</th>\n",
       "      <th>SENTIMENT_INDEX</th>\n",
       "      <th>INFODEMIC_INDEX</th>\n",
       "      <th>MEDIA_COVERAGE_INDEX</th>\n",
       "      <th>Open</th>\n",
       "      <th>High</th>\n",
       "      <th>Low</th>\n",
       "      <th>Close</th>\n",
       "      <th>Adj Close</th>\n",
       "      <th>Volume</th>\n",
       "    </tr>\n",
       "  </thead>\n",
       "  <tbody>\n",
       "    <tr>\n",
       "      <th>0</th>\n",
       "      <td>2020-01-22</td>\n",
       "      <td>1114</td>\n",
       "      <td>34</td>\n",
       "      <td>0</td>\n",
       "      <td>0</td>\n",
       "      <td>0</td>\n",
       "      <td>0</td>\n",
       "      <td>0</td>\n",
       "      <td>0</td>\n",
       "      <td>0.59</td>\n",
       "      <td>...</td>\n",
       "      <td>0.01</td>\n",
       "      <td>-50.65</td>\n",
       "      <td>7.93</td>\n",
       "      <td>19.85</td>\n",
       "      <td>8744.210938</td>\n",
       "      <td>8792.994141</td>\n",
       "      <td>8636.747070</td>\n",
       "      <td>8680.875977</td>\n",
       "      <td>8680.875977</td>\n",
       "      <td>22600204051</td>\n",
       "    </tr>\n",
       "    <tr>\n",
       "      <th>1</th>\n",
       "      <td>2020-01-23</td>\n",
       "      <td>1314</td>\n",
       "      <td>36</td>\n",
       "      <td>1097</td>\n",
       "      <td>540</td>\n",
       "      <td>60</td>\n",
       "      <td>30</td>\n",
       "      <td>34</td>\n",
       "      <td>17</td>\n",
       "      <td>0.71</td>\n",
       "      <td>...</td>\n",
       "      <td>0.07</td>\n",
       "      <td>-46.36</td>\n",
       "      <td>9.79</td>\n",
       "      <td>21.91</td>\n",
       "      <td>8680.650391</td>\n",
       "      <td>8687.747070</td>\n",
       "      <td>8333.637695</td>\n",
       "      <td>8406.515625</td>\n",
       "      <td>8406.515625</td>\n",
       "      <td>25770680779</td>\n",
       "    </tr>\n",
       "    <tr>\n",
       "      <th>2</th>\n",
       "      <td>2020-01-24</td>\n",
       "      <td>1888</td>\n",
       "      <td>52</td>\n",
       "      <td>941</td>\n",
       "      <td>-156</td>\n",
       "      <td>39</td>\n",
       "      <td>-21</td>\n",
       "      <td>26</td>\n",
       "      <td>-8</td>\n",
       "      <td>0.79</td>\n",
       "      <td>...</td>\n",
       "      <td>0.05</td>\n",
       "      <td>-53.81</td>\n",
       "      <td>11.64</td>\n",
       "      <td>24.70</td>\n",
       "      <td>8405.567383</td>\n",
       "      <td>8514.666992</td>\n",
       "      <td>8266.840820</td>\n",
       "      <td>8445.434570</td>\n",
       "      <td>8445.434570</td>\n",
       "      <td>24397913026</td>\n",
       "    </tr>\n",
       "  </tbody>\n",
       "</table>\n",
       "<p>3 rows × 21 columns</p>\n",
       "</div>"
      ],
      "text/plain": [
       "        Date  casos_confirmados_global  muertes_global  TOTAL_CASES  \\\n",
       "0 2020-01-22                      1114              34            0   \n",
       "1 2020-01-23                      1314              36         1097   \n",
       "2 2020-01-24                      1888              52          941   \n",
       "\n",
       "   CASES_DAILY  TOTAL_RECOVERED  RECOVERED_DAILY  TOTAL_DEATHS  DEATHS_DAILY  \\\n",
       "0            0                0                0             0             0   \n",
       "1          540               60               30            34            17   \n",
       "2         -156               39              -21            26            -8   \n",
       "\n",
       "   PANIC_INDEX  ...  FAKE_NEWS_INDEX  SENTIMENT_INDEX  INFODEMIC_INDEX  \\\n",
       "0         0.59  ...             0.01           -50.65             7.93   \n",
       "1         0.71  ...             0.07           -46.36             9.79   \n",
       "2         0.79  ...             0.05           -53.81            11.64   \n",
       "\n",
       "   MEDIA_COVERAGE_INDEX         Open         High          Low        Close  \\\n",
       "0                 19.85  8744.210938  8792.994141  8636.747070  8680.875977   \n",
       "1                 21.91  8680.650391  8687.747070  8333.637695  8406.515625   \n",
       "2                 24.70  8405.567383  8514.666992  8266.840820  8445.434570   \n",
       "\n",
       "     Adj Close       Volume  \n",
       "0  8680.875977  22600204051  \n",
       "1  8406.515625  25770680779  \n",
       "2  8445.434570  24397913026  \n",
       "\n",
       "[3 rows x 21 columns]"
      ]
     },
     "execution_count": 79,
     "metadata": {},
     "output_type": "execute_result"
    }
   ],
   "source": [
    "df_final.head(3)"
   ]
  },
  {
   "cell_type": "code",
   "execution_count": 80,
   "id": "505c4f61-d98f-4623-b27a-bcac98b44884",
   "metadata": {
    "colab": {
     "base_uri": "https://localhost:8080/"
    },
    "executionInfo": {
     "elapsed": 148,
     "status": "ok",
     "timestamp": 1675916364678,
     "user": {
      "displayName": "gerardo antonio fuentes garcia",
      "userId": "11702168562164629048"
     },
     "user_tz": 360
    },
    "id": "505c4f61-d98f-4623-b27a-bcac98b44884",
    "outputId": "cd456197-58a8-4838-c8e0-d4253775df74"
   },
   "outputs": [
    {
     "name": "stdout",
     "output_type": "stream",
     "text": [
      "<class 'pandas.core.frame.DataFrame'>\n",
      "Int64Index: 795 entries, 0 to 794\n",
      "Data columns (total 21 columns):\n",
      " #   Column                    Non-Null Count  Dtype         \n",
      "---  ------                    --------------  -----         \n",
      " 0   Date                      795 non-null    datetime64[ns]\n",
      " 1   casos_confirmados_global  795 non-null    int64         \n",
      " 2   muertes_global            795 non-null    int64         \n",
      " 3   TOTAL_CASES               795 non-null    int64         \n",
      " 4   CASES_DAILY               795 non-null    int64         \n",
      " 5   TOTAL_RECOVERED           795 non-null    int64         \n",
      " 6   RECOVERED_DAILY           795 non-null    int64         \n",
      " 7   TOTAL_DEATHS              795 non-null    int64         \n",
      " 8   DEATHS_DAILY              795 non-null    int64         \n",
      " 9   PANIC_INDEX               795 non-null    float64       \n",
      " 10  MEDIA_HYPE_INDEX          795 non-null    float64       \n",
      " 11  FAKE_NEWS_INDEX           795 non-null    float64       \n",
      " 12  SENTIMENT_INDEX           795 non-null    float64       \n",
      " 13  INFODEMIC_INDEX           795 non-null    float64       \n",
      " 14  MEDIA_COVERAGE_INDEX      795 non-null    float64       \n",
      " 15  Open                      795 non-null    float64       \n",
      " 16  High                      795 non-null    float64       \n",
      " 17  Low                       795 non-null    float64       \n",
      " 18  Close                     795 non-null    float64       \n",
      " 19  Adj Close                 795 non-null    float64       \n",
      " 20  Volume                    795 non-null    int64         \n",
      "dtypes: datetime64[ns](1), float64(11), int64(9)\n",
      "memory usage: 136.6 KB\n"
     ]
    }
   ],
   "source": [
    "#DataFrame final con tipo correcto de datos, sin NaNs y con indices continuos\n",
    "df_final.info() "
   ]
  },
  {
   "cell_type": "code",
   "execution_count": 81,
   "id": "fb0265ef-88b2-4cb5-9eb5-99c2d1960832",
   "metadata": {
    "id": "fb0265ef-88b2-4cb5-9eb5-99c2d1960832"
   },
   "outputs": [],
   "source": [
    "df_final.to_csv('covid_bitcoin_final.csv') # guardar en archivo"
   ]
  },
  {
   "cell_type": "markdown",
   "id": "d0402398-e43f-4435-a951-4adc06e80e25",
   "metadata": {
    "id": "d0402398-e43f-4435-a951-4adc06e80e25"
   },
   "source": [
    "-------------"
   ]
  },
  {
   "cell_type": "markdown",
   "id": "bcb7ba43-b510-4e22-8cc6-0b4b4040af83",
   "metadata": {
    "id": "bcb7ba43-b510-4e22-8cc6-0b4b4040af83"
   },
   "source": [
    "-------------"
   ]
  },
  {
   "cell_type": "markdown",
   "id": "70fcb84b-2f3d-44b7-8bdb-f0ddbadd4da8",
   "metadata": {
    "id": "70fcb84b-2f3d-44b7-8bdb-f0ddbadd4da8"
   },
   "source": [
    "## **Transformación de Datos**\n",
    "\n",
    "- Quitar columnas que no se van a usar\n",
    "- Calcular los retornos (a partir de los precios ajustados de cierre del BTC)\n",
    "- Construir GFI\n",
    "- Matrices de correlación"
   ]
  },
  {
   "cell_type": "code",
   "execution_count": 82,
   "id": "872cc72b-8fdb-4153-9f59-673981738de5",
   "metadata": {
    "colab": {
     "base_uri": "https://localhost:8080/"
    },
    "executionInfo": {
     "elapsed": 188,
     "status": "ok",
     "timestamp": 1675916372760,
     "user": {
      "displayName": "gerardo antonio fuentes garcia",
      "userId": "11702168562164629048"
     },
     "user_tz": 360
    },
    "id": "872cc72b-8fdb-4153-9f59-673981738de5",
    "outputId": "a6c5a545-ac45-408e-92dd-25d18dea733a"
   },
   "outputs": [
    {
     "data": {
      "text/plain": [
       "Index(['Date', 'casos_confirmados_global', 'muertes_global', 'TOTAL_CASES',\n",
       "       'CASES_DAILY', 'TOTAL_RECOVERED', 'RECOVERED_DAILY', 'TOTAL_DEATHS',\n",
       "       'DEATHS_DAILY', 'PANIC_INDEX', 'MEDIA_HYPE_INDEX', 'FAKE_NEWS_INDEX',\n",
       "       'SENTIMENT_INDEX', 'INFODEMIC_INDEX', 'MEDIA_COVERAGE_INDEX', 'Open',\n",
       "       'High', 'Low', 'Close', 'Adj Close', 'Volume'],\n",
       "      dtype='object')"
      ]
     },
     "execution_count": 82,
     "metadata": {},
     "output_type": "execute_result"
    }
   ],
   "source": [
    "df_final.columns"
   ]
  },
  {
   "cell_type": "markdown",
   "id": "9g4kIE_eudAs",
   "metadata": {
    "id": "9g4kIE_eudAs"
   },
   "source": [
    "Conservaremos solo las columnas que utilizaremos de la base de datos final"
   ]
  },
  {
   "cell_type": "code",
   "execution_count": 83,
   "id": "LDwDk87juaz7",
   "metadata": {
    "id": "LDwDk87juaz7"
   },
   "outputs": [],
   "source": [
    "df_final = df_final.drop(['TOTAL_CASES',\n",
    "       'CASES_DAILY', 'TOTAL_RECOVERED', 'RECOVERED_DAILY', 'TOTAL_DEATHS',\n",
    "       'DEATHS_DAILY','Open', 'High', 'Low', 'Close','Volume'], axis=1)"
   ]
  },
  {
   "cell_type": "code",
   "execution_count": 84,
   "id": "mHk7E5m9wRYO",
   "metadata": {
    "colab": {
     "base_uri": "https://localhost:8080/",
     "height": 357
    },
    "executionInfo": {
     "elapsed": 159,
     "status": "ok",
     "timestamp": 1675916378276,
     "user": {
      "displayName": "gerardo antonio fuentes garcia",
      "userId": "11702168562164629048"
     },
     "user_tz": 360
    },
    "id": "mHk7E5m9wRYO",
    "outputId": "be06048a-3d63-406b-ee3b-7e28d1a76dd2"
   },
   "outputs": [
    {
     "data": {
      "text/html": [
       "<div>\n",
       "<style scoped>\n",
       "    .dataframe tbody tr th:only-of-type {\n",
       "        vertical-align: middle;\n",
       "    }\n",
       "\n",
       "    .dataframe tbody tr th {\n",
       "        vertical-align: top;\n",
       "    }\n",
       "\n",
       "    .dataframe thead th {\n",
       "        text-align: right;\n",
       "    }\n",
       "</style>\n",
       "<table border=\"1\" class=\"dataframe\">\n",
       "  <thead>\n",
       "    <tr style=\"text-align: right;\">\n",
       "      <th></th>\n",
       "      <th>Date</th>\n",
       "      <th>casos_confirmados_global</th>\n",
       "      <th>muertes_global</th>\n",
       "      <th>PANIC_INDEX</th>\n",
       "      <th>MEDIA_HYPE_INDEX</th>\n",
       "      <th>FAKE_NEWS_INDEX</th>\n",
       "      <th>SENTIMENT_INDEX</th>\n",
       "      <th>INFODEMIC_INDEX</th>\n",
       "      <th>MEDIA_COVERAGE_INDEX</th>\n",
       "      <th>Adj Close</th>\n",
       "    </tr>\n",
       "  </thead>\n",
       "  <tbody>\n",
       "    <tr>\n",
       "      <th>0</th>\n",
       "      <td>2020-01-22</td>\n",
       "      <td>1114</td>\n",
       "      <td>34</td>\n",
       "      <td>0.59</td>\n",
       "      <td>3.27</td>\n",
       "      <td>0.01</td>\n",
       "      <td>-50.65</td>\n",
       "      <td>7.93</td>\n",
       "      <td>19.85</td>\n",
       "      <td>8680.875977</td>\n",
       "    </tr>\n",
       "    <tr>\n",
       "      <th>1</th>\n",
       "      <td>2020-01-23</td>\n",
       "      <td>1314</td>\n",
       "      <td>36</td>\n",
       "      <td>0.71</td>\n",
       "      <td>4.27</td>\n",
       "      <td>0.07</td>\n",
       "      <td>-46.36</td>\n",
       "      <td>9.79</td>\n",
       "      <td>21.91</td>\n",
       "      <td>8406.515625</td>\n",
       "    </tr>\n",
       "    <tr>\n",
       "      <th>2</th>\n",
       "      <td>2020-01-24</td>\n",
       "      <td>1888</td>\n",
       "      <td>52</td>\n",
       "      <td>0.79</td>\n",
       "      <td>5.36</td>\n",
       "      <td>0.05</td>\n",
       "      <td>-53.81</td>\n",
       "      <td>11.64</td>\n",
       "      <td>24.70</td>\n",
       "      <td>8445.434570</td>\n",
       "    </tr>\n",
       "    <tr>\n",
       "      <th>3</th>\n",
       "      <td>2020-01-25</td>\n",
       "      <td>2874</td>\n",
       "      <td>84</td>\n",
       "      <td>1.06</td>\n",
       "      <td>6.21</td>\n",
       "      <td>0.08</td>\n",
       "      <td>-49.36</td>\n",
       "      <td>12.47</td>\n",
       "      <td>28.89</td>\n",
       "      <td>8367.847656</td>\n",
       "    </tr>\n",
       "    <tr>\n",
       "      <th>4</th>\n",
       "      <td>2020-01-26</td>\n",
       "      <td>4240</td>\n",
       "      <td>112</td>\n",
       "      <td>1.44</td>\n",
       "      <td>7.91</td>\n",
       "      <td>0.08</td>\n",
       "      <td>-46.65</td>\n",
       "      <td>11.92</td>\n",
       "      <td>31.91</td>\n",
       "      <td>8596.830078</td>\n",
       "    </tr>\n",
       "  </tbody>\n",
       "</table>\n",
       "</div>"
      ],
      "text/plain": [
       "        Date  casos_confirmados_global  muertes_global  PANIC_INDEX  \\\n",
       "0 2020-01-22                      1114              34         0.59   \n",
       "1 2020-01-23                      1314              36         0.71   \n",
       "2 2020-01-24                      1888              52         0.79   \n",
       "3 2020-01-25                      2874              84         1.06   \n",
       "4 2020-01-26                      4240             112         1.44   \n",
       "\n",
       "   MEDIA_HYPE_INDEX  FAKE_NEWS_INDEX  SENTIMENT_INDEX  INFODEMIC_INDEX  \\\n",
       "0              3.27             0.01           -50.65             7.93   \n",
       "1              4.27             0.07           -46.36             9.79   \n",
       "2              5.36             0.05           -53.81            11.64   \n",
       "3              6.21             0.08           -49.36            12.47   \n",
       "4              7.91             0.08           -46.65            11.92   \n",
       "\n",
       "   MEDIA_COVERAGE_INDEX    Adj Close  \n",
       "0                 19.85  8680.875977  \n",
       "1                 21.91  8406.515625  \n",
       "2                 24.70  8445.434570  \n",
       "3                 28.89  8367.847656  \n",
       "4                 31.91  8596.830078  "
      ]
     },
     "execution_count": 84,
     "metadata": {},
     "output_type": "execute_result"
    }
   ],
   "source": [
    "df_final.head()"
   ]
  },
  {
   "cell_type": "markdown",
   "id": "_t_dHNE0weLu",
   "metadata": {
    "id": "_t_dHNE0weLu"
   },
   "source": [
    "Modificaremos la variable de precio de cierre ajustado del BTC para calcular y utilizar la variable en retornos."
   ]
  },
  {
   "cell_type": "code",
   "execution_count": 85,
   "id": "0QMS_lr_w0lD",
   "metadata": {
    "id": "0QMS_lr_w0lD"
   },
   "outputs": [],
   "source": [
    "n = len(df_final['Adj Close'])\n",
    "rbtc = [np.NaN]\n",
    "for i in range(1,n,1):\n",
    "  rbtc.append(100*math.log(df_final['Adj Close'][i]/df_final['Adj Close'][i-1]))\n",
    "rbtc = pd.DataFrame(rbtc)"
   ]
  },
  {
   "cell_type": "markdown",
   "id": "bYtJnFUY2YB2",
   "metadata": {
    "id": "bYtJnFUY2YB2"
   },
   "source": [
    "Modificamos la base \"df_final\" cambiando el precio ajustado por esta nueva serie de retornos"
   ]
  },
  {
   "cell_type": "code",
   "execution_count": 86,
   "id": "exolAWlr2hXN",
   "metadata": {
    "colab": {
     "base_uri": "https://localhost:8080/",
     "height": 357
    },
    "executionInfo": {
     "elapsed": 159,
     "status": "ok",
     "timestamp": 1675916590558,
     "user": {
      "displayName": "gerardo antonio fuentes garcia",
      "userId": "11702168562164629048"
     },
     "user_tz": 360
    },
    "id": "exolAWlr2hXN",
    "outputId": "3af1d14f-4fc7-431d-9c88-aaa42354088d"
   },
   "outputs": [
    {
     "data": {
      "text/html": [
       "<div>\n",
       "<style scoped>\n",
       "    .dataframe tbody tr th:only-of-type {\n",
       "        vertical-align: middle;\n",
       "    }\n",
       "\n",
       "    .dataframe tbody tr th {\n",
       "        vertical-align: top;\n",
       "    }\n",
       "\n",
       "    .dataframe thead th {\n",
       "        text-align: right;\n",
       "    }\n",
       "</style>\n",
       "<table border=\"1\" class=\"dataframe\">\n",
       "  <thead>\n",
       "    <tr style=\"text-align: right;\">\n",
       "      <th></th>\n",
       "      <th>Date</th>\n",
       "      <th>casos_confirmados_global</th>\n",
       "      <th>muertes_global</th>\n",
       "      <th>PANIC_INDEX</th>\n",
       "      <th>MEDIA_HYPE_INDEX</th>\n",
       "      <th>FAKE_NEWS_INDEX</th>\n",
       "      <th>SENTIMENT_INDEX</th>\n",
       "      <th>INFODEMIC_INDEX</th>\n",
       "      <th>MEDIA_COVERAGE_INDEX</th>\n",
       "      <th>Retornos_BTC</th>\n",
       "    </tr>\n",
       "  </thead>\n",
       "  <tbody>\n",
       "    <tr>\n",
       "      <th>0</th>\n",
       "      <td>2020-01-22</td>\n",
       "      <td>1114</td>\n",
       "      <td>34</td>\n",
       "      <td>0.59</td>\n",
       "      <td>3.27</td>\n",
       "      <td>0.01</td>\n",
       "      <td>-50.65</td>\n",
       "      <td>7.93</td>\n",
       "      <td>19.85</td>\n",
       "      <td>NaN</td>\n",
       "    </tr>\n",
       "    <tr>\n",
       "      <th>1</th>\n",
       "      <td>2020-01-23</td>\n",
       "      <td>1314</td>\n",
       "      <td>36</td>\n",
       "      <td>0.71</td>\n",
       "      <td>4.27</td>\n",
       "      <td>0.07</td>\n",
       "      <td>-46.36</td>\n",
       "      <td>9.79</td>\n",
       "      <td>21.91</td>\n",
       "      <td>-3.211537</td>\n",
       "    </tr>\n",
       "    <tr>\n",
       "      <th>2</th>\n",
       "      <td>2020-01-24</td>\n",
       "      <td>1888</td>\n",
       "      <td>52</td>\n",
       "      <td>0.79</td>\n",
       "      <td>5.36</td>\n",
       "      <td>0.05</td>\n",
       "      <td>-53.81</td>\n",
       "      <td>11.64</td>\n",
       "      <td>24.70</td>\n",
       "      <td>0.461893</td>\n",
       "    </tr>\n",
       "    <tr>\n",
       "      <th>3</th>\n",
       "      <td>2020-01-25</td>\n",
       "      <td>2874</td>\n",
       "      <td>84</td>\n",
       "      <td>1.06</td>\n",
       "      <td>6.21</td>\n",
       "      <td>0.08</td>\n",
       "      <td>-49.36</td>\n",
       "      <td>12.47</td>\n",
       "      <td>28.89</td>\n",
       "      <td>-0.922931</td>\n",
       "    </tr>\n",
       "    <tr>\n",
       "      <th>4</th>\n",
       "      <td>2020-01-26</td>\n",
       "      <td>4240</td>\n",
       "      <td>112</td>\n",
       "      <td>1.44</td>\n",
       "      <td>7.91</td>\n",
       "      <td>0.08</td>\n",
       "      <td>-46.65</td>\n",
       "      <td>11.92</td>\n",
       "      <td>31.91</td>\n",
       "      <td>2.699684</td>\n",
       "    </tr>\n",
       "  </tbody>\n",
       "</table>\n",
       "</div>"
      ],
      "text/plain": [
       "        Date  casos_confirmados_global  muertes_global  PANIC_INDEX  \\\n",
       "0 2020-01-22                      1114              34         0.59   \n",
       "1 2020-01-23                      1314              36         0.71   \n",
       "2 2020-01-24                      1888              52         0.79   \n",
       "3 2020-01-25                      2874              84         1.06   \n",
       "4 2020-01-26                      4240             112         1.44   \n",
       "\n",
       "   MEDIA_HYPE_INDEX  FAKE_NEWS_INDEX  SENTIMENT_INDEX  INFODEMIC_INDEX  \\\n",
       "0              3.27             0.01           -50.65             7.93   \n",
       "1              4.27             0.07           -46.36             9.79   \n",
       "2              5.36             0.05           -53.81            11.64   \n",
       "3              6.21             0.08           -49.36            12.47   \n",
       "4              7.91             0.08           -46.65            11.92   \n",
       "\n",
       "   MEDIA_COVERAGE_INDEX  Retornos_BTC  \n",
       "0                 19.85           NaN  \n",
       "1                 21.91     -3.211537  \n",
       "2                 24.70      0.461893  \n",
       "3                 28.89     -0.922931  \n",
       "4                 31.91      2.699684  "
      ]
     },
     "execution_count": 86,
     "metadata": {},
     "output_type": "execute_result"
    }
   ],
   "source": [
    "df_final['Adj Close'] = rbtc\n",
    "df_final = df_final.rename(columns={'Adj Close':'Retornos_BTC'})\n",
    "df_final.head()"
   ]
  },
  {
   "cell_type": "markdown",
   "id": "ONIePlk53Rah",
   "metadata": {
    "id": "ONIePlk53Rah"
   },
   "source": [
    "Construimos el índice global de miedo (GFI) con las fórmulas propuestas en la descripción de datos:"
   ]
  },
  {
   "cell_type": "code",
   "execution_count": 87,
   "id": "BA5uTQW63quX",
   "metadata": {
    "id": "BA5uTQW63quX"
   },
   "outputs": [],
   "source": [
    "#ICR\n",
    "n = len(df_final['casos_confirmados_global'])\n",
    "icr = []\n",
    "for i in range(5,n):\n",
    "  icr.append((df_final['casos_confirmados_global'][i])/(sum([df_final['casos_confirmados_global'][i],df_final['casos_confirmados_global'][i-5]])))\n",
    "#IMR\n",
    "n2 = len(df_final['muertes_global'])\n",
    "imr = []\n",
    "for i in range(5,n2):\n",
    "  imr.append((df_final['muertes_global'][i])/(sum([df_final['muertes_global'][i],df_final['muertes_global'][i-5]])))\n",
    "#GFI\n",
    "gfi = [np.NaN]*5\n",
    "for i in range(0,n-5):\n",
    "  gfi.append(0.5*(icr[i]+imr[i]))"
   ]
  },
  {
   "cell_type": "code",
   "execution_count": 88,
   "id": "CnYqoU35csIR",
   "metadata": {
    "colab": {
     "base_uri": "https://localhost:8080/",
     "height": 405
    },
    "executionInfo": {
     "elapsed": 150,
     "status": "ok",
     "timestamp": 1675917311027,
     "user": {
      "displayName": "gerardo antonio fuentes garcia",
      "userId": "11702168562164629048"
     },
     "user_tz": 360
    },
    "id": "CnYqoU35csIR",
    "outputId": "6d1eda21-7b6e-42ff-b6e5-cf82bc438141"
   },
   "outputs": [
    {
     "data": {
      "text/html": [
       "<div>\n",
       "<style scoped>\n",
       "    .dataframe tbody tr th:only-of-type {\n",
       "        vertical-align: middle;\n",
       "    }\n",
       "\n",
       "    .dataframe tbody tr th {\n",
       "        vertical-align: top;\n",
       "    }\n",
       "\n",
       "    .dataframe thead th {\n",
       "        text-align: right;\n",
       "    }\n",
       "</style>\n",
       "<table border=\"1\" class=\"dataframe\">\n",
       "  <thead>\n",
       "    <tr style=\"text-align: right;\">\n",
       "      <th></th>\n",
       "      <th>Date</th>\n",
       "      <th>casos_confirmados_global</th>\n",
       "      <th>muertes_global</th>\n",
       "      <th>PANIC_INDEX</th>\n",
       "      <th>MEDIA_HYPE_INDEX</th>\n",
       "      <th>FAKE_NEWS_INDEX</th>\n",
       "      <th>SENTIMENT_INDEX</th>\n",
       "      <th>INFODEMIC_INDEX</th>\n",
       "      <th>MEDIA_COVERAGE_INDEX</th>\n",
       "      <th>Retornos_BTC</th>\n",
       "      <th>gfi</th>\n",
       "    </tr>\n",
       "  </thead>\n",
       "  <tbody>\n",
       "    <tr>\n",
       "      <th>0</th>\n",
       "      <td>2020-01-22</td>\n",
       "      <td>1114</td>\n",
       "      <td>34</td>\n",
       "      <td>0.59</td>\n",
       "      <td>3.27</td>\n",
       "      <td>0.01</td>\n",
       "      <td>-50.65</td>\n",
       "      <td>7.93</td>\n",
       "      <td>19.85</td>\n",
       "      <td>NaN</td>\n",
       "      <td>NaN</td>\n",
       "    </tr>\n",
       "    <tr>\n",
       "      <th>1</th>\n",
       "      <td>2020-01-23</td>\n",
       "      <td>1314</td>\n",
       "      <td>36</td>\n",
       "      <td>0.71</td>\n",
       "      <td>4.27</td>\n",
       "      <td>0.07</td>\n",
       "      <td>-46.36</td>\n",
       "      <td>9.79</td>\n",
       "      <td>21.91</td>\n",
       "      <td>-3.211537</td>\n",
       "      <td>NaN</td>\n",
       "    </tr>\n",
       "    <tr>\n",
       "      <th>2</th>\n",
       "      <td>2020-01-24</td>\n",
       "      <td>1888</td>\n",
       "      <td>52</td>\n",
       "      <td>0.79</td>\n",
       "      <td>5.36</td>\n",
       "      <td>0.05</td>\n",
       "      <td>-53.81</td>\n",
       "      <td>11.64</td>\n",
       "      <td>24.70</td>\n",
       "      <td>0.461893</td>\n",
       "      <td>NaN</td>\n",
       "    </tr>\n",
       "    <tr>\n",
       "      <th>3</th>\n",
       "      <td>2020-01-25</td>\n",
       "      <td>2874</td>\n",
       "      <td>84</td>\n",
       "      <td>1.06</td>\n",
       "      <td>6.21</td>\n",
       "      <td>0.08</td>\n",
       "      <td>-49.36</td>\n",
       "      <td>12.47</td>\n",
       "      <td>28.89</td>\n",
       "      <td>-0.922931</td>\n",
       "      <td>NaN</td>\n",
       "    </tr>\n",
       "    <tr>\n",
       "      <th>4</th>\n",
       "      <td>2020-01-26</td>\n",
       "      <td>4240</td>\n",
       "      <td>112</td>\n",
       "      <td>1.44</td>\n",
       "      <td>7.91</td>\n",
       "      <td>0.08</td>\n",
       "      <td>-46.65</td>\n",
       "      <td>11.92</td>\n",
       "      <td>31.91</td>\n",
       "      <td>2.699684</td>\n",
       "      <td>NaN</td>\n",
       "    </tr>\n",
       "    <tr>\n",
       "      <th>5</th>\n",
       "      <td>2020-01-27</td>\n",
       "      <td>5858</td>\n",
       "      <td>164</td>\n",
       "      <td>1.34</td>\n",
       "      <td>8.93</td>\n",
       "      <td>0.10</td>\n",
       "      <td>-53.16</td>\n",
       "      <td>14.81</td>\n",
       "      <td>37.63</td>\n",
       "      <td>3.576042</td>\n",
       "      <td>0.83425</td>\n",
       "    </tr>\n",
       "  </tbody>\n",
       "</table>\n",
       "</div>"
      ],
      "text/plain": [
       "        Date  casos_confirmados_global  muertes_global  PANIC_INDEX  \\\n",
       "0 2020-01-22                      1114              34         0.59   \n",
       "1 2020-01-23                      1314              36         0.71   \n",
       "2 2020-01-24                      1888              52         0.79   \n",
       "3 2020-01-25                      2874              84         1.06   \n",
       "4 2020-01-26                      4240             112         1.44   \n",
       "5 2020-01-27                      5858             164         1.34   \n",
       "\n",
       "   MEDIA_HYPE_INDEX  FAKE_NEWS_INDEX  SENTIMENT_INDEX  INFODEMIC_INDEX  \\\n",
       "0              3.27             0.01           -50.65             7.93   \n",
       "1              4.27             0.07           -46.36             9.79   \n",
       "2              5.36             0.05           -53.81            11.64   \n",
       "3              6.21             0.08           -49.36            12.47   \n",
       "4              7.91             0.08           -46.65            11.92   \n",
       "5              8.93             0.10           -53.16            14.81   \n",
       "\n",
       "   MEDIA_COVERAGE_INDEX  Retornos_BTC      gfi  \n",
       "0                 19.85           NaN      NaN  \n",
       "1                 21.91     -3.211537      NaN  \n",
       "2                 24.70      0.461893      NaN  \n",
       "3                 28.89     -0.922931      NaN  \n",
       "4                 31.91      2.699684      NaN  \n",
       "5                 37.63      3.576042  0.83425  "
      ]
     },
     "execution_count": 88,
     "metadata": {},
     "output_type": "execute_result"
    }
   ],
   "source": [
    "df_final['gfi'] = gfi\n",
    "df_final.head(6)"
   ]
  },
  {
   "cell_type": "code",
   "execution_count": 89,
   "id": "0JpUV7G8djVf",
   "metadata": {
    "colab": {
     "base_uri": "https://localhost:8080/"
    },
    "executionInfo": {
     "elapsed": 138,
     "status": "ok",
     "timestamp": 1675917450033,
     "user": {
      "displayName": "gerardo antonio fuentes garcia",
      "userId": "11702168562164629048"
     },
     "user_tz": 360
    },
    "id": "0JpUV7G8djVf",
    "outputId": "79066b44-0c58-4eef-fc61-14b742a16ebc"
   },
   "outputs": [
    {
     "data": {
      "text/plain": [
       "Date                        0\n",
       "casos_confirmados_global    0\n",
       "muertes_global              0\n",
       "PANIC_INDEX                 0\n",
       "MEDIA_HYPE_INDEX            0\n",
       "FAKE_NEWS_INDEX             0\n",
       "SENTIMENT_INDEX             0\n",
       "INFODEMIC_INDEX             0\n",
       "MEDIA_COVERAGE_INDEX        0\n",
       "Retornos_BTC                1\n",
       "gfi                         5\n",
       "dtype: int64"
      ]
     },
     "execution_count": 89,
     "metadata": {},
     "output_type": "execute_result"
    }
   ],
   "source": [
    "#Analizaremos el total de NaN en nuestra base final\n",
    "df_final.isna().sum(axis=0)"
   ]
  },
  {
   "cell_type": "code",
   "execution_count": 90,
   "id": "OcSkzcRZd4Q_",
   "metadata": {
    "colab": {
     "base_uri": "https://localhost:8080/",
     "height": 405
    },
    "executionInfo": {
     "elapsed": 169,
     "status": "ok",
     "timestamp": 1675918251217,
     "user": {
      "displayName": "gerardo antonio fuentes garcia",
      "userId": "11702168562164629048"
     },
     "user_tz": 360
    },
    "id": "OcSkzcRZd4Q_",
    "outputId": "48b0c611-dc7c-4862-98be-c682b9bdff97"
   },
   "outputs": [
    {
     "data": {
      "text/html": [
       "<div>\n",
       "<style scoped>\n",
       "    .dataframe tbody tr th:only-of-type {\n",
       "        vertical-align: middle;\n",
       "    }\n",
       "\n",
       "    .dataframe tbody tr th {\n",
       "        vertical-align: top;\n",
       "    }\n",
       "\n",
       "    .dataframe thead th {\n",
       "        text-align: right;\n",
       "    }\n",
       "</style>\n",
       "<table border=\"1\" class=\"dataframe\">\n",
       "  <thead>\n",
       "    <tr style=\"text-align: right;\">\n",
       "      <th></th>\n",
       "      <th>Date</th>\n",
       "      <th>casos_confirmados_global</th>\n",
       "      <th>muertes_global</th>\n",
       "      <th>PANIC_INDEX</th>\n",
       "      <th>MEDIA_HYPE_INDEX</th>\n",
       "      <th>FAKE_NEWS_INDEX</th>\n",
       "      <th>SENTIMENT_INDEX</th>\n",
       "      <th>INFODEMIC_INDEX</th>\n",
       "      <th>MEDIA_COVERAGE_INDEX</th>\n",
       "      <th>Retornos_BTC</th>\n",
       "      <th>gfi</th>\n",
       "    </tr>\n",
       "  </thead>\n",
       "  <tbody>\n",
       "    <tr>\n",
       "      <th>5</th>\n",
       "      <td>2020-01-27</td>\n",
       "      <td>5858</td>\n",
       "      <td>164</td>\n",
       "      <td>1.34</td>\n",
       "      <td>8.93</td>\n",
       "      <td>0.10</td>\n",
       "      <td>-53.16</td>\n",
       "      <td>14.81</td>\n",
       "      <td>37.63</td>\n",
       "      <td>3.576042</td>\n",
       "      <td>0.834250</td>\n",
       "    </tr>\n",
       "    <tr>\n",
       "      <th>6</th>\n",
       "      <td>2020-01-28</td>\n",
       "      <td>11160</td>\n",
       "      <td>262</td>\n",
       "      <td>0.99</td>\n",
       "      <td>7.79</td>\n",
       "      <td>0.18</td>\n",
       "      <td>-61.93</td>\n",
       "      <td>15.25</td>\n",
       "      <td>31.94</td>\n",
       "      <td>4.914066</td>\n",
       "      <td>0.886928</td>\n",
       "    </tr>\n",
       "    <tr>\n",
       "      <th>7</th>\n",
       "      <td>2020-01-29</td>\n",
       "      <td>12338</td>\n",
       "      <td>266</td>\n",
       "      <td>1.07</td>\n",
       "      <td>9.06</td>\n",
       "      <td>0.19</td>\n",
       "      <td>-57.25</td>\n",
       "      <td>17.16</td>\n",
       "      <td>34.20</td>\n",
       "      <td>-0.449366</td>\n",
       "      <td>0.851882</td>\n",
       "    </tr>\n",
       "    <tr>\n",
       "      <th>8</th>\n",
       "      <td>2020-01-30</td>\n",
       "      <td>16474</td>\n",
       "      <td>342</td>\n",
       "      <td>1.22</td>\n",
       "      <td>9.82</td>\n",
       "      <td>0.26</td>\n",
       "      <td>-51.85</td>\n",
       "      <td>17.69</td>\n",
       "      <td>36.28</td>\n",
       "      <td>2.043704</td>\n",
       "      <td>0.827137</td>\n",
       "    </tr>\n",
       "    <tr>\n",
       "      <th>9</th>\n",
       "      <td>2020-01-31</td>\n",
       "      <td>19854</td>\n",
       "      <td>426</td>\n",
       "      <td>1.34</td>\n",
       "      <td>9.85</td>\n",
       "      <td>0.38</td>\n",
       "      <td>-52.19</td>\n",
       "      <td>19.05</td>\n",
       "      <td>37.71</td>\n",
       "      <td>-1.680505</td>\n",
       "      <td>0.807922</td>\n",
       "    </tr>\n",
       "    <tr>\n",
       "      <th>10</th>\n",
       "      <td>2020-02-01</td>\n",
       "      <td>24076</td>\n",
       "      <td>518</td>\n",
       "      <td>1.48</td>\n",
       "      <td>11.27</td>\n",
       "      <td>0.51</td>\n",
       "      <td>-49.37</td>\n",
       "      <td>19.86</td>\n",
       "      <td>40.39</td>\n",
       "      <td>0.451847</td>\n",
       "      <td>0.781917</td>\n",
       "    </tr>\n",
       "  </tbody>\n",
       "</table>\n",
       "</div>"
      ],
      "text/plain": [
       "         Date  casos_confirmados_global  muertes_global  PANIC_INDEX  \\\n",
       "5  2020-01-27                      5858             164         1.34   \n",
       "6  2020-01-28                     11160             262         0.99   \n",
       "7  2020-01-29                     12338             266         1.07   \n",
       "8  2020-01-30                     16474             342         1.22   \n",
       "9  2020-01-31                     19854             426         1.34   \n",
       "10 2020-02-01                     24076             518         1.48   \n",
       "\n",
       "    MEDIA_HYPE_INDEX  FAKE_NEWS_INDEX  SENTIMENT_INDEX  INFODEMIC_INDEX  \\\n",
       "5               8.93             0.10           -53.16            14.81   \n",
       "6               7.79             0.18           -61.93            15.25   \n",
       "7               9.06             0.19           -57.25            17.16   \n",
       "8               9.82             0.26           -51.85            17.69   \n",
       "9               9.85             0.38           -52.19            19.05   \n",
       "10             11.27             0.51           -49.37            19.86   \n",
       "\n",
       "    MEDIA_COVERAGE_INDEX  Retornos_BTC       gfi  \n",
       "5                  37.63      3.576042  0.834250  \n",
       "6                  31.94      4.914066  0.886928  \n",
       "7                  34.20     -0.449366  0.851882  \n",
       "8                  36.28      2.043704  0.827137  \n",
       "9                  37.71     -1.680505  0.807922  \n",
       "10                 40.39      0.451847  0.781917  "
      ]
     },
     "execution_count": 90,
     "metadata": {},
     "output_type": "execute_result"
    }
   ],
   "source": [
    "df_final = df_final.dropna(axis=0, how='any')\n",
    "df_final.head(6)"
   ]
  },
  {
   "cell_type": "markdown",
   "id": "0xOFGiLZexCZ",
   "metadata": {
    "id": "0xOFGiLZexCZ"
   },
   "source": [
    "**Analisis de correlación**"
   ]
  },
  {
   "cell_type": "code",
   "execution_count": 91,
   "id": "wtZpLSZ8g5rY",
   "metadata": {
    "colab": {
     "base_uri": "https://localhost:8080/"
    },
    "executionInfo": {
     "elapsed": 152,
     "status": "ok",
     "timestamp": 1675918787827,
     "user": {
      "displayName": "gerardo antonio fuentes garcia",
      "userId": "11702168562164629048"
     },
     "user_tz": 360
    },
    "id": "wtZpLSZ8g5rY",
    "outputId": "63bbe54a-5773-4f7d-b435-a1d2661dac2e"
   },
   "outputs": [
    {
     "data": {
      "text/plain": [
       "Index(['Date', 'casos_confirmados_global', 'muertes_global', 'PANIC_INDEX',\n",
       "       'MEDIA_HYPE_INDEX', 'FAKE_NEWS_INDEX', 'SENTIMENT_INDEX',\n",
       "       'INFODEMIC_INDEX', 'MEDIA_COVERAGE_INDEX', 'Retornos_BTC', 'gfi'],\n",
       "      dtype='object')"
      ]
     },
     "execution_count": 91,
     "metadata": {},
     "output_type": "execute_result"
    }
   ],
   "source": [
    "df_final.columns"
   ]
  },
  {
   "cell_type": "code",
   "execution_count": 92,
   "id": "sKQQo1jOg4va",
   "metadata": {
    "colab": {
     "base_uri": "https://localhost:8080/",
     "height": 250
    },
    "executionInfo": {
     "elapsed": 249,
     "status": "ok",
     "timestamp": 1675918846673,
     "user": {
      "displayName": "gerardo antonio fuentes garcia",
      "userId": "11702168562164629048"
     },
     "user_tz": 360
    },
    "id": "sKQQo1jOg4va",
    "outputId": "c28976af-c5af-4653-fe7a-060871780893"
   },
   "outputs": [
    {
     "data": {
      "text/html": [
       "<div>\n",
       "<style scoped>\n",
       "    .dataframe tbody tr th:only-of-type {\n",
       "        vertical-align: middle;\n",
       "    }\n",
       "\n",
       "    .dataframe tbody tr th {\n",
       "        vertical-align: top;\n",
       "    }\n",
       "\n",
       "    .dataframe thead th {\n",
       "        text-align: right;\n",
       "    }\n",
       "</style>\n",
       "<table border=\"1\" class=\"dataframe\">\n",
       "  <thead>\n",
       "    <tr style=\"text-align: right;\">\n",
       "      <th></th>\n",
       "      <th>Date</th>\n",
       "      <th>casos</th>\n",
       "      <th>muertes</th>\n",
       "      <th>panic</th>\n",
       "      <th>mhy</th>\n",
       "      <th>fake_news</th>\n",
       "      <th>si</th>\n",
       "      <th>infodemic</th>\n",
       "      <th>mcoverage</th>\n",
       "      <th>Retornos_BTC</th>\n",
       "      <th>gfi</th>\n",
       "    </tr>\n",
       "  </thead>\n",
       "  <tbody>\n",
       "    <tr>\n",
       "      <th>5</th>\n",
       "      <td>2020-01-27</td>\n",
       "      <td>5858</td>\n",
       "      <td>164</td>\n",
       "      <td>1.34</td>\n",
       "      <td>8.93</td>\n",
       "      <td>0.10</td>\n",
       "      <td>-53.16</td>\n",
       "      <td>14.81</td>\n",
       "      <td>37.63</td>\n",
       "      <td>3.576042</td>\n",
       "      <td>0.834250</td>\n",
       "    </tr>\n",
       "    <tr>\n",
       "      <th>6</th>\n",
       "      <td>2020-01-28</td>\n",
       "      <td>11160</td>\n",
       "      <td>262</td>\n",
       "      <td>0.99</td>\n",
       "      <td>7.79</td>\n",
       "      <td>0.18</td>\n",
       "      <td>-61.93</td>\n",
       "      <td>15.25</td>\n",
       "      <td>31.94</td>\n",
       "      <td>4.914066</td>\n",
       "      <td>0.886928</td>\n",
       "    </tr>\n",
       "    <tr>\n",
       "      <th>7</th>\n",
       "      <td>2020-01-29</td>\n",
       "      <td>12338</td>\n",
       "      <td>266</td>\n",
       "      <td>1.07</td>\n",
       "      <td>9.06</td>\n",
       "      <td>0.19</td>\n",
       "      <td>-57.25</td>\n",
       "      <td>17.16</td>\n",
       "      <td>34.20</td>\n",
       "      <td>-0.449366</td>\n",
       "      <td>0.851882</td>\n",
       "    </tr>\n",
       "    <tr>\n",
       "      <th>8</th>\n",
       "      <td>2020-01-30</td>\n",
       "      <td>16474</td>\n",
       "      <td>342</td>\n",
       "      <td>1.22</td>\n",
       "      <td>9.82</td>\n",
       "      <td>0.26</td>\n",
       "      <td>-51.85</td>\n",
       "      <td>17.69</td>\n",
       "      <td>36.28</td>\n",
       "      <td>2.043704</td>\n",
       "      <td>0.827137</td>\n",
       "    </tr>\n",
       "    <tr>\n",
       "      <th>9</th>\n",
       "      <td>2020-01-31</td>\n",
       "      <td>19854</td>\n",
       "      <td>426</td>\n",
       "      <td>1.34</td>\n",
       "      <td>9.85</td>\n",
       "      <td>0.38</td>\n",
       "      <td>-52.19</td>\n",
       "      <td>19.05</td>\n",
       "      <td>37.71</td>\n",
       "      <td>-1.680505</td>\n",
       "      <td>0.807922</td>\n",
       "    </tr>\n",
       "  </tbody>\n",
       "</table>\n",
       "</div>"
      ],
      "text/plain": [
       "        Date  casos  muertes  panic   mhy  fake_news     si  infodemic  \\\n",
       "5 2020-01-27   5858      164   1.34  8.93       0.10 -53.16      14.81   \n",
       "6 2020-01-28  11160      262   0.99  7.79       0.18 -61.93      15.25   \n",
       "7 2020-01-29  12338      266   1.07  9.06       0.19 -57.25      17.16   \n",
       "8 2020-01-30  16474      342   1.22  9.82       0.26 -51.85      17.69   \n",
       "9 2020-01-31  19854      426   1.34  9.85       0.38 -52.19      19.05   \n",
       "\n",
       "   mcoverage  Retornos_BTC       gfi  \n",
       "5      37.63      3.576042  0.834250  \n",
       "6      31.94      4.914066  0.886928  \n",
       "7      34.20     -0.449366  0.851882  \n",
       "8      36.28      2.043704  0.827137  \n",
       "9      37.71     -1.680505  0.807922  "
      ]
     },
     "execution_count": 92,
     "metadata": {},
     "output_type": "execute_result"
    }
   ],
   "source": [
    "df_final = df_final.rename(columns={'casos_confirmados_global': 'casos', 'muertes_global': 'muertes',\n",
    "                                    'PANIC_INDEX':'panic','MEDIA_HYPE_INDEX': 'mhy', \n",
    "                                    'FAKE_NEWS_INDEX':'fake_news', 'SENTIMENT_INDEX':'si',\n",
    "                                    'INFODEMIC_INDEX': 'infodemic', 'MEDIA_COVERAGE_INDEX':'mcoverage'})\n",
    "df_final.head()"
   ]
  },
  {
   "cell_type": "markdown",
   "id": "cf2ca5d2-6666-4dfe-a686-f96c88fceb98",
   "metadata": {},
   "source": [
    "Matriz de correlaciones"
   ]
  },
  {
   "cell_type": "code",
   "execution_count": 93,
   "id": "7YFVuItVeviI",
   "metadata": {
    "colab": {
     "base_uri": "https://localhost:8080/",
     "height": 363
    },
    "executionInfo": {
     "elapsed": 204,
     "status": "ok",
     "timestamp": 1675918856444,
     "user": {
      "displayName": "gerardo antonio fuentes garcia",
      "userId": "11702168562164629048"
     },
     "user_tz": 360
    },
    "id": "7YFVuItVeviI",
    "outputId": "09ba789f-e6a1-4622-b454-820be9ee38db"
   },
   "outputs": [
    {
     "name": "stderr",
     "output_type": "stream",
     "text": [
      "<ipython-input-93-e436a17caf31>:1: FutureWarning: The default value of numeric_only in DataFrame.corr is deprecated. In a future version, it will default to False. Select only valid columns or specify the value of numeric_only to silence this warning.\n",
      "  corr = round(df_final.corr(method='pearson'),2)\n"
     ]
    },
    {
     "data": {
      "text/html": [
       "<div>\n",
       "<style scoped>\n",
       "    .dataframe tbody tr th:only-of-type {\n",
       "        vertical-align: middle;\n",
       "    }\n",
       "\n",
       "    .dataframe tbody tr th {\n",
       "        vertical-align: top;\n",
       "    }\n",
       "\n",
       "    .dataframe thead th {\n",
       "        text-align: right;\n",
       "    }\n",
       "</style>\n",
       "<table border=\"1\" class=\"dataframe\">\n",
       "  <thead>\n",
       "    <tr style=\"text-align: right;\">\n",
       "      <th></th>\n",
       "      <th>casos</th>\n",
       "      <th>muertes</th>\n",
       "      <th>panic</th>\n",
       "      <th>mhy</th>\n",
       "      <th>fake_news</th>\n",
       "      <th>si</th>\n",
       "      <th>infodemic</th>\n",
       "      <th>mcoverage</th>\n",
       "      <th>Retornos_BTC</th>\n",
       "      <th>gfi</th>\n",
       "    </tr>\n",
       "  </thead>\n",
       "  <tbody>\n",
       "    <tr>\n",
       "      <th>casos</th>\n",
       "      <td>1.00</td>\n",
       "      <td>0.96</td>\n",
       "      <td>-0.64</td>\n",
       "      <td>-0.69</td>\n",
       "      <td>-0.37</td>\n",
       "      <td>0.21</td>\n",
       "      <td>-0.56</td>\n",
       "      <td>-0.49</td>\n",
       "      <td>-0.03</td>\n",
       "      <td>-0.38</td>\n",
       "    </tr>\n",
       "    <tr>\n",
       "      <th>muertes</th>\n",
       "      <td>0.96</td>\n",
       "      <td>1.00</td>\n",
       "      <td>-0.67</td>\n",
       "      <td>-0.71</td>\n",
       "      <td>-0.39</td>\n",
       "      <td>0.27</td>\n",
       "      <td>-0.56</td>\n",
       "      <td>-0.43</td>\n",
       "      <td>-0.03</td>\n",
       "      <td>-0.46</td>\n",
       "    </tr>\n",
       "    <tr>\n",
       "      <th>panic</th>\n",
       "      <td>-0.64</td>\n",
       "      <td>-0.67</td>\n",
       "      <td>1.00</td>\n",
       "      <td>0.87</td>\n",
       "      <td>0.63</td>\n",
       "      <td>-0.43</td>\n",
       "      <td>0.66</td>\n",
       "      <td>0.65</td>\n",
       "      <td>0.04</td>\n",
       "      <td>0.31</td>\n",
       "    </tr>\n",
       "    <tr>\n",
       "      <th>mhy</th>\n",
       "      <td>-0.69</td>\n",
       "      <td>-0.71</td>\n",
       "      <td>0.87</td>\n",
       "      <td>1.00</td>\n",
       "      <td>0.61</td>\n",
       "      <td>-0.29</td>\n",
       "      <td>0.90</td>\n",
       "      <td>0.84</td>\n",
       "      <td>0.06</td>\n",
       "      <td>0.17</td>\n",
       "    </tr>\n",
       "    <tr>\n",
       "      <th>fake_news</th>\n",
       "      <td>-0.37</td>\n",
       "      <td>-0.39</td>\n",
       "      <td>0.63</td>\n",
       "      <td>0.61</td>\n",
       "      <td>1.00</td>\n",
       "      <td>-0.31</td>\n",
       "      <td>0.47</td>\n",
       "      <td>0.48</td>\n",
       "      <td>0.10</td>\n",
       "      <td>0.17</td>\n",
       "    </tr>\n",
       "    <tr>\n",
       "      <th>si</th>\n",
       "      <td>0.21</td>\n",
       "      <td>0.27</td>\n",
       "      <td>-0.43</td>\n",
       "      <td>-0.29</td>\n",
       "      <td>-0.31</td>\n",
       "      <td>1.00</td>\n",
       "      <td>-0.01</td>\n",
       "      <td>0.05</td>\n",
       "      <td>0.01</td>\n",
       "      <td>-0.56</td>\n",
       "    </tr>\n",
       "    <tr>\n",
       "      <th>infodemic</th>\n",
       "      <td>-0.56</td>\n",
       "      <td>-0.56</td>\n",
       "      <td>0.66</td>\n",
       "      <td>0.90</td>\n",
       "      <td>0.47</td>\n",
       "      <td>-0.01</td>\n",
       "      <td>1.00</td>\n",
       "      <td>0.93</td>\n",
       "      <td>0.06</td>\n",
       "      <td>-0.12</td>\n",
       "    </tr>\n",
       "    <tr>\n",
       "      <th>mcoverage</th>\n",
       "      <td>-0.49</td>\n",
       "      <td>-0.43</td>\n",
       "      <td>0.65</td>\n",
       "      <td>0.84</td>\n",
       "      <td>0.48</td>\n",
       "      <td>0.05</td>\n",
       "      <td>0.93</td>\n",
       "      <td>1.00</td>\n",
       "      <td>0.07</td>\n",
       "      <td>-0.24</td>\n",
       "    </tr>\n",
       "    <tr>\n",
       "      <th>Retornos_BTC</th>\n",
       "      <td>-0.03</td>\n",
       "      <td>-0.03</td>\n",
       "      <td>0.04</td>\n",
       "      <td>0.06</td>\n",
       "      <td>0.10</td>\n",
       "      <td>0.01</td>\n",
       "      <td>0.06</td>\n",
       "      <td>0.07</td>\n",
       "      <td>1.00</td>\n",
       "      <td>0.02</td>\n",
       "    </tr>\n",
       "    <tr>\n",
       "      <th>gfi</th>\n",
       "      <td>-0.38</td>\n",
       "      <td>-0.46</td>\n",
       "      <td>0.31</td>\n",
       "      <td>0.17</td>\n",
       "      <td>0.17</td>\n",
       "      <td>-0.56</td>\n",
       "      <td>-0.12</td>\n",
       "      <td>-0.24</td>\n",
       "      <td>0.02</td>\n",
       "      <td>1.00</td>\n",
       "    </tr>\n",
       "  </tbody>\n",
       "</table>\n",
       "</div>"
      ],
      "text/plain": [
       "              casos  muertes  panic   mhy  fake_news    si  infodemic  \\\n",
       "casos          1.00     0.96  -0.64 -0.69      -0.37  0.21      -0.56   \n",
       "muertes        0.96     1.00  -0.67 -0.71      -0.39  0.27      -0.56   \n",
       "panic         -0.64    -0.67   1.00  0.87       0.63 -0.43       0.66   \n",
       "mhy           -0.69    -0.71   0.87  1.00       0.61 -0.29       0.90   \n",
       "fake_news     -0.37    -0.39   0.63  0.61       1.00 -0.31       0.47   \n",
       "si             0.21     0.27  -0.43 -0.29      -0.31  1.00      -0.01   \n",
       "infodemic     -0.56    -0.56   0.66  0.90       0.47 -0.01       1.00   \n",
       "mcoverage     -0.49    -0.43   0.65  0.84       0.48  0.05       0.93   \n",
       "Retornos_BTC  -0.03    -0.03   0.04  0.06       0.10  0.01       0.06   \n",
       "gfi           -0.38    -0.46   0.31  0.17       0.17 -0.56      -0.12   \n",
       "\n",
       "              mcoverage  Retornos_BTC   gfi  \n",
       "casos             -0.49         -0.03 -0.38  \n",
       "muertes           -0.43         -0.03 -0.46  \n",
       "panic              0.65          0.04  0.31  \n",
       "mhy                0.84          0.06  0.17  \n",
       "fake_news          0.48          0.10  0.17  \n",
       "si                 0.05          0.01 -0.56  \n",
       "infodemic          0.93          0.06 -0.12  \n",
       "mcoverage          1.00          0.07 -0.24  \n",
       "Retornos_BTC       0.07          1.00  0.02  \n",
       "gfi               -0.24          0.02  1.00  "
      ]
     },
     "execution_count": 93,
     "metadata": {},
     "output_type": "execute_result"
    }
   ],
   "source": [
    "corr = round(df_final.corr(method='pearson'),2)\n",
    "corr"
   ]
  },
  {
   "cell_type": "code",
   "execution_count": 94,
   "id": "UEHx2CCJfvBL",
   "metadata": {
    "colab": {
     "base_uri": "https://localhost:8080/",
     "height": 345
    },
    "executionInfo": {
     "elapsed": 937,
     "status": "ok",
     "timestamp": 1675918876449,
     "user": {
      "displayName": "gerardo antonio fuentes garcia",
      "userId": "11702168562164629048"
     },
     "user_tz": 360
    },
    "id": "UEHx2CCJfvBL",
    "outputId": "1cc66178-8093-4f73-c347-ea50ce0c920e"
   },
   "outputs": [
    {
     "data": {
      "text/plain": [
       "<AxesSubplot:>"
      ]
     },
     "execution_count": 94,
     "metadata": {},
     "output_type": "execute_result"
    },
    {
     "data": {
      "image/png": "[encoded data removed]",
      "text/plain": [
       "<Figure size 720x576 with 2 Axes>"
      ]
     },
     "metadata": {
      "needs_background": "light"
     },
     "output_type": "display_data"
    }
   ],
   "source": [
    "plt.figure(figsize=(10,8))\n",
    "sb.heatmap(corr, cmap=\"bwr\", annot=True)"
   ]
  },
  {
   "cell_type": "markdown",
   "id": "rWfbqgodjNtf",
   "metadata": {
    "id": "rWfbqgodjNtf"
   },
   "source": [
    "Para el periodo completo de nuestra muestra (2020 - 2022), la correlación entre los retornos btc y nuestros indicadores parece no ser relevante, ya que la correlación más fuerte es con el índice de Fake news, sin embargo es apenas del 10%."
   ]
  },
  {
   "cell_type": "markdown",
   "id": "cUm-RW5EjdMA",
   "metadata": {
    "id": "cUm-RW5EjdMA"
   },
   "source": [
    "Vamos a analizar la correlación sobre periodos para poder visualizar la ventana de tiempo cuando la pandemia tenia su pico más alto."
   ]
  },
  {
   "cell_type": "code",
   "execution_count": 95,
   "id": "XLlEvDitt9iP",
   "metadata": {
    "colab": {
     "base_uri": "https://localhost:8080/",
     "height": 692
    },
    "executionInfo": {
     "elapsed": 724,
     "status": "ok",
     "timestamp": 1675921753567,
     "user": {
      "displayName": "gerardo antonio fuentes garcia",
      "userId": "11702168562164629048"
     },
     "user_tz": 360
    },
    "id": "XLlEvDitt9iP",
    "outputId": "8f33722c-5a58-4daf-c579-a181c3e48a64"
   },
   "outputs": [
    {
     "data": {
      "text/plain": [
       "Text(0, 0.5, 'Cobertura')"
      ]
     },
     "execution_count": 95,
     "metadata": {},
     "output_type": "execute_result"
    },
    {
     "data": {
      "image/png": "[encoded data removed]",
      "text/plain": [
       "<Figure size 864x432 with 1 Axes>"
      ]
     },
     "metadata": {
      "needs_background": "light"
     },
     "output_type": "display_data"
    }
   ],
   "source": [
    "#GRAFICA Media coverage COVID\n",
    "parameters = {'axes.labelsize': 20,\n",
    "          'axes.titlesize': 22,\n",
    "          'xtick.labelsize': 13,\n",
    "          'ytick.labelsize': 13}\n",
    "plt.rcParams.update(parameters)\n",
    "\n",
    "plt.figure(figsize=(12,6))\n",
    "plt.plot(df_final['Date'], df_final['mcoverage'], lw=2, c='b')\n",
    "plt.title('Cobertura de medios sobre Covid 04-2020:04-2022')\n",
    "plt.xlabel('Fechas')\n",
    "plt.ylabel('Cobertura')"
   ]
  },
  {
   "cell_type": "code",
   "execution_count": 96,
   "id": "_QrMQlOLn5fa",
   "metadata": {
    "colab": {
     "base_uri": "https://localhost:8080/",
     "height": 616
    },
    "executionInfo": {
     "elapsed": 720,
     "status": "ok",
     "timestamp": 1675921774284,
     "user": {
      "displayName": "gerardo antonio fuentes garcia",
      "userId": "11702168562164629048"
     },
     "user_tz": 360
    },
    "id": "_QrMQlOLn5fa",
    "outputId": "bea0785e-6fdf-4ec0-d8ca-5344ee5711d3"
   },
   "outputs": [
    {
     "data": {
      "text/plain": [
       "Text(0, 0.5, 'Muertes acumuladas')"
      ]
     },
     "execution_count": 96,
     "metadata": {},
     "output_type": "execute_result"
    },
    {
     "data": {
      "image/png": "[encoded data removed]",
      "text/plain": [
       "<Figure size 864x432 with 1 Axes>"
      ]
     },
     "metadata": {
      "needs_background": "light"
     },
     "output_type": "display_data"
    }
   ],
   "source": [
    "#GRAFICA MUERTES COVID\n",
    "plt.figure(figsize=(12,6))\n",
    "plt.plot(df_final['Date'], df_final['muertes'], lw=3, color='purple')\n",
    "plt.title('Muertes acumuladas por Covid 04-2020:04-2022')\n",
    "plt.xlabel('Fechas')\n",
    "plt.ylabel('Muertes acumuladas')"
   ]
  },
  {
   "cell_type": "code",
   "execution_count": 97,
   "id": "b0170e10-e769-436b-b4e6-9ed616da0bb2",
   "metadata": {
    "colab": {
     "base_uri": "https://localhost:8080/",
     "height": 611
    },
    "executionInfo": {
     "elapsed": 730,
     "status": "ok",
     "timestamp": 1675919923148,
     "user": {
      "displayName": "gerardo antonio fuentes garcia",
      "userId": "11702168562164629048"
     },
     "user_tz": 360
    },
    "id": "b0170e10-e769-436b-b4e6-9ed616da0bb2",
    "outputId": "6cc86e05-78e4-4ad4-b673-021a04323620"
   },
   "outputs": [
    {
     "data": {
      "text/plain": [
       "Text(0, 0.5, 'Retornos')"
      ]
     },
     "execution_count": 97,
     "metadata": {},
     "output_type": "execute_result"
    },
    {
     "data": {
      "image/png": "[encoded data removed]",
      "text/plain": [
       "<Figure size 864x432 with 1 Axes>"
      ]
     },
     "metadata": {
      "needs_background": "light"
     },
     "output_type": "display_data"
    }
   ],
   "source": [
    "#GRAFICA RETORNOS BTC\n",
    "plt.figure(figsize=(12,6))\n",
    "plt.plot(df_final['Date'], df_final['Retornos_BTC'], lw=2, color='g')\n",
    "plt.title('Retorno BTC 04-2020:04-2022')\n",
    "plt.xlabel('Fecha')\n",
    "plt.ylabel('Retornos')"
   ]
  },
  {
   "cell_type": "markdown",
   "id": "sVWIoOfPncWh",
   "metadata": {
    "id": "sVWIoOfPncWh"
   },
   "source": [
    "Con base en la gráficas anteriores podemos considerar nuestro período crítico entre marzo y mayo del 2020, periodo en el cual se declaro como pandemia global el covid-19."
   ]
  },
  {
   "cell_type": "code",
   "execution_count": 98,
   "id": "k__7D45AnWO7",
   "metadata": {
    "colab": {
     "base_uri": "https://localhost:8080/",
     "height": 337
    },
    "executionInfo": {
     "elapsed": 174,
     "status": "ok",
     "timestamp": 1675922284781,
     "user": {
      "displayName": "gerardo antonio fuentes garcia",
      "userId": "11702168562164629048"
     },
     "user_tz": 360
    },
    "id": "k__7D45AnWO7",
    "outputId": "a115398a-7bab-4b54-a239-52c38b9c35ed"
   },
   "outputs": [
    {
     "data": {
      "text/html": [
       "<div>\n",
       "<style scoped>\n",
       "    .dataframe tbody tr th:only-of-type {\n",
       "        vertical-align: middle;\n",
       "    }\n",
       "\n",
       "    .dataframe tbody tr th {\n",
       "        vertical-align: top;\n",
       "    }\n",
       "\n",
       "    .dataframe thead th {\n",
       "        text-align: right;\n",
       "    }\n",
       "</style>\n",
       "<table border=\"1\" class=\"dataframe\">\n",
       "  <thead>\n",
       "    <tr style=\"text-align: right;\">\n",
       "      <th></th>\n",
       "      <th>Date</th>\n",
       "      <th>casos</th>\n",
       "      <th>muertes</th>\n",
       "      <th>panic</th>\n",
       "      <th>mhy</th>\n",
       "      <th>fake_news</th>\n",
       "      <th>si</th>\n",
       "      <th>infodemic</th>\n",
       "      <th>mcoverage</th>\n",
       "      <th>Retornos_BTC</th>\n",
       "      <th>gfi</th>\n",
       "    </tr>\n",
       "  </thead>\n",
       "  <tbody>\n",
       "    <tr>\n",
       "      <th>124</th>\n",
       "      <td>2020-05-25</td>\n",
       "      <td>11007506</td>\n",
       "      <td>727628</td>\n",
       "      <td>4.20</td>\n",
       "      <td>52.75</td>\n",
       "      <td>0.74</td>\n",
       "      <td>-15.93</td>\n",
       "      <td>58.59</td>\n",
       "      <td>75.54</td>\n",
       "      <td>1.317354</td>\n",
       "      <td>0.518925</td>\n",
       "    </tr>\n",
       "    <tr>\n",
       "      <th>125</th>\n",
       "      <td>2020-05-26</td>\n",
       "      <td>11193392</td>\n",
       "      <td>736908</td>\n",
       "      <td>3.39</td>\n",
       "      <td>49.93</td>\n",
       "      <td>0.62</td>\n",
       "      <td>-15.04</td>\n",
       "      <td>62.47</td>\n",
       "      <td>72.73</td>\n",
       "      <td>-0.810306</td>\n",
       "      <td>0.518205</td>\n",
       "    </tr>\n",
       "    <tr>\n",
       "      <th>126</th>\n",
       "      <td>2020-05-27</td>\n",
       "      <td>11398264</td>\n",
       "      <td>747646</td>\n",
       "      <td>3.11</td>\n",
       "      <td>45.54</td>\n",
       "      <td>0.88</td>\n",
       "      <td>-14.18</td>\n",
       "      <td>63.97</td>\n",
       "      <td>75.54</td>\n",
       "      <td>3.841097</td>\n",
       "      <td>0.517658</td>\n",
       "    </tr>\n",
       "    <tr>\n",
       "      <th>127</th>\n",
       "      <td>2020-05-28</td>\n",
       "      <td>11638190</td>\n",
       "      <td>757706</td>\n",
       "      <td>3.08</td>\n",
       "      <td>44.25</td>\n",
       "      <td>0.88</td>\n",
       "      <td>-13.54</td>\n",
       "      <td>63.96</td>\n",
       "      <td>76.82</td>\n",
       "      <td>3.686071</td>\n",
       "      <td>0.517933</td>\n",
       "    </tr>\n",
       "    <tr>\n",
       "      <th>128</th>\n",
       "      <td>2020-05-29</td>\n",
       "      <td>11881420</td>\n",
       "      <td>768018</td>\n",
       "      <td>2.85</td>\n",
       "      <td>44.14</td>\n",
       "      <td>0.84</td>\n",
       "      <td>-13.31</td>\n",
       "      <td>62.39</td>\n",
       "      <td>75.71</td>\n",
       "      <td>-0.913558</td>\n",
       "      <td>0.518833</td>\n",
       "    </tr>\n",
       "  </tbody>\n",
       "</table>\n",
       "</div>"
      ],
      "text/plain": [
       "          Date     casos  muertes  panic    mhy  fake_news     si  infodemic  \\\n",
       "124 2020-05-25  11007506   727628   4.20  52.75       0.74 -15.93      58.59   \n",
       "125 2020-05-26  11193392   736908   3.39  49.93       0.62 -15.04      62.47   \n",
       "126 2020-05-27  11398264   747646   3.11  45.54       0.88 -14.18      63.97   \n",
       "127 2020-05-28  11638190   757706   3.08  44.25       0.88 -13.54      63.96   \n",
       "128 2020-05-29  11881420   768018   2.85  44.14       0.84 -13.31      62.39   \n",
       "\n",
       "     mcoverage  Retornos_BTC       gfi  \n",
       "124      75.54      1.317354  0.518925  \n",
       "125      72.73     -0.810306  0.518205  \n",
       "126      75.54      3.841097  0.517658  \n",
       "127      76.82      3.686071  0.517933  \n",
       "128      75.71     -0.913558  0.518833  "
      ]
     },
     "execution_count": 98,
     "metadata": {},
     "output_type": "execute_result"
    }
   ],
   "source": [
    "periodo_critico = df_final.loc[(df_final['Date'] >= '2020-03-10') & (df_final['Date'] < '2020-05-30')]\n",
    "periodo_critico.tail()"
   ]
  },
  {
   "cell_type": "code",
   "execution_count": 99,
   "id": "vFyXT061nbT6",
   "metadata": {
    "colab": {
     "base_uri": "https://localhost:8080/",
     "height": 363
    },
    "executionInfo": {
     "elapsed": 177,
     "status": "ok",
     "timestamp": 1675922287803,
     "user": {
      "displayName": "gerardo antonio fuentes garcia",
      "userId": "11702168562164629048"
     },
     "user_tz": 360
    },
    "id": "vFyXT061nbT6",
    "outputId": "c1b082be-c8a1-4dd4-fd15-bd33697528ce"
   },
   "outputs": [
    {
     "name": "stderr",
     "output_type": "stream",
     "text": [
      "<ipython-input-99-4c3b77cc7bef>:2: FutureWarning: The default value of numeric_only in DataFrame.corr is deprecated. In a future version, it will default to False. Select only valid columns or specify the value of numeric_only to silence this warning.\n",
      "  corr_critico = round(periodo_critico.corr(method='pearson'),2)\n"
     ]
    },
    {
     "data": {
      "text/html": [
       "<div>\n",
       "<style scoped>\n",
       "    .dataframe tbody tr th:only-of-type {\n",
       "        vertical-align: middle;\n",
       "    }\n",
       "\n",
       "    .dataframe tbody tr th {\n",
       "        vertical-align: top;\n",
       "    }\n",
       "\n",
       "    .dataframe thead th {\n",
       "        text-align: right;\n",
       "    }\n",
       "</style>\n",
       "<table border=\"1\" class=\"dataframe\">\n",
       "  <thead>\n",
       "    <tr style=\"text-align: right;\">\n",
       "      <th></th>\n",
       "      <th>casos</th>\n",
       "      <th>muertes</th>\n",
       "      <th>panic</th>\n",
       "      <th>mhy</th>\n",
       "      <th>fake_news</th>\n",
       "      <th>si</th>\n",
       "      <th>infodemic</th>\n",
       "      <th>mcoverage</th>\n",
       "      <th>Retornos_BTC</th>\n",
       "      <th>gfi</th>\n",
       "    </tr>\n",
       "  </thead>\n",
       "  <tbody>\n",
       "    <tr>\n",
       "      <th>casos</th>\n",
       "      <td>1.00</td>\n",
       "      <td>1.00</td>\n",
       "      <td>-0.76</td>\n",
       "      <td>-0.35</td>\n",
       "      <td>-0.59</td>\n",
       "      <td>0.90</td>\n",
       "      <td>0.52</td>\n",
       "      <td>-0.05</td>\n",
       "      <td>0.06</td>\n",
       "      <td>-0.87</td>\n",
       "    </tr>\n",
       "    <tr>\n",
       "      <th>muertes</th>\n",
       "      <td>1.00</td>\n",
       "      <td>1.00</td>\n",
       "      <td>-0.77</td>\n",
       "      <td>-0.36</td>\n",
       "      <td>-0.60</td>\n",
       "      <td>0.90</td>\n",
       "      <td>0.53</td>\n",
       "      <td>-0.05</td>\n",
       "      <td>0.07</td>\n",
       "      <td>-0.89</td>\n",
       "    </tr>\n",
       "    <tr>\n",
       "      <th>panic</th>\n",
       "      <td>-0.76</td>\n",
       "      <td>-0.77</td>\n",
       "      <td>1.00</td>\n",
       "      <td>0.65</td>\n",
       "      <td>0.70</td>\n",
       "      <td>-0.73</td>\n",
       "      <td>-0.32</td>\n",
       "      <td>0.14</td>\n",
       "      <td>0.03</td>\n",
       "      <td>0.79</td>\n",
       "    </tr>\n",
       "    <tr>\n",
       "      <th>mhy</th>\n",
       "      <td>-0.35</td>\n",
       "      <td>-0.36</td>\n",
       "      <td>0.65</td>\n",
       "      <td>1.00</td>\n",
       "      <td>0.70</td>\n",
       "      <td>-0.53</td>\n",
       "      <td>0.43</td>\n",
       "      <td>0.74</td>\n",
       "      <td>0.20</td>\n",
       "      <td>0.56</td>\n",
       "    </tr>\n",
       "    <tr>\n",
       "      <th>fake_news</th>\n",
       "      <td>-0.59</td>\n",
       "      <td>-0.60</td>\n",
       "      <td>0.70</td>\n",
       "      <td>0.70</td>\n",
       "      <td>1.00</td>\n",
       "      <td>-0.61</td>\n",
       "      <td>-0.02</td>\n",
       "      <td>0.39</td>\n",
       "      <td>0.13</td>\n",
       "      <td>0.66</td>\n",
       "    </tr>\n",
       "    <tr>\n",
       "      <th>si</th>\n",
       "      <td>0.90</td>\n",
       "      <td>0.90</td>\n",
       "      <td>-0.73</td>\n",
       "      <td>-0.53</td>\n",
       "      <td>-0.61</td>\n",
       "      <td>1.00</td>\n",
       "      <td>0.29</td>\n",
       "      <td>-0.27</td>\n",
       "      <td>0.00</td>\n",
       "      <td>-0.81</td>\n",
       "    </tr>\n",
       "    <tr>\n",
       "      <th>infodemic</th>\n",
       "      <td>0.52</td>\n",
       "      <td>0.53</td>\n",
       "      <td>-0.32</td>\n",
       "      <td>0.43</td>\n",
       "      <td>-0.02</td>\n",
       "      <td>0.29</td>\n",
       "      <td>1.00</td>\n",
       "      <td>0.75</td>\n",
       "      <td>0.26</td>\n",
       "      <td>-0.28</td>\n",
       "    </tr>\n",
       "    <tr>\n",
       "      <th>mcoverage</th>\n",
       "      <td>-0.05</td>\n",
       "      <td>-0.05</td>\n",
       "      <td>0.14</td>\n",
       "      <td>0.74</td>\n",
       "      <td>0.39</td>\n",
       "      <td>-0.27</td>\n",
       "      <td>0.75</td>\n",
       "      <td>1.00</td>\n",
       "      <td>0.28</td>\n",
       "      <td>0.32</td>\n",
       "    </tr>\n",
       "    <tr>\n",
       "      <th>Retornos_BTC</th>\n",
       "      <td>0.06</td>\n",
       "      <td>0.07</td>\n",
       "      <td>0.03</td>\n",
       "      <td>0.20</td>\n",
       "      <td>0.13</td>\n",
       "      <td>0.00</td>\n",
       "      <td>0.26</td>\n",
       "      <td>0.28</td>\n",
       "      <td>1.00</td>\n",
       "      <td>0.02</td>\n",
       "    </tr>\n",
       "    <tr>\n",
       "      <th>gfi</th>\n",
       "      <td>-0.87</td>\n",
       "      <td>-0.89</td>\n",
       "      <td>0.79</td>\n",
       "      <td>0.56</td>\n",
       "      <td>0.66</td>\n",
       "      <td>-0.81</td>\n",
       "      <td>-0.28</td>\n",
       "      <td>0.32</td>\n",
       "      <td>0.02</td>\n",
       "      <td>1.00</td>\n",
       "    </tr>\n",
       "  </tbody>\n",
       "</table>\n",
       "</div>"
      ],
      "text/plain": [
       "              casos  muertes  panic   mhy  fake_news    si  infodemic  \\\n",
       "casos          1.00     1.00  -0.76 -0.35      -0.59  0.90       0.52   \n",
       "muertes        1.00     1.00  -0.77 -0.36      -0.60  0.90       0.53   \n",
       "panic         -0.76    -0.77   1.00  0.65       0.70 -0.73      -0.32   \n",
       "mhy           -0.35    -0.36   0.65  1.00       0.70 -0.53       0.43   \n",
       "fake_news     -0.59    -0.60   0.70  0.70       1.00 -0.61      -0.02   \n",
       "si             0.90     0.90  -0.73 -0.53      -0.61  1.00       0.29   \n",
       "infodemic      0.52     0.53  -0.32  0.43      -0.02  0.29       1.00   \n",
       "mcoverage     -0.05    -0.05   0.14  0.74       0.39 -0.27       0.75   \n",
       "Retornos_BTC   0.06     0.07   0.03  0.20       0.13  0.00       0.26   \n",
       "gfi           -0.87    -0.89   0.79  0.56       0.66 -0.81      -0.28   \n",
       "\n",
       "              mcoverage  Retornos_BTC   gfi  \n",
       "casos             -0.05          0.06 -0.87  \n",
       "muertes           -0.05          0.07 -0.89  \n",
       "panic              0.14          0.03  0.79  \n",
       "mhy                0.74          0.20  0.56  \n",
       "fake_news          0.39          0.13  0.66  \n",
       "si                -0.27          0.00 -0.81  \n",
       "infodemic          0.75          0.26 -0.28  \n",
       "mcoverage          1.00          0.28  0.32  \n",
       "Retornos_BTC       0.28          1.00  0.02  \n",
       "gfi                0.32          0.02  1.00  "
      ]
     },
     "execution_count": 99,
     "metadata": {},
     "output_type": "execute_result"
    }
   ],
   "source": [
    "#Probamos correlación en periodo crítico\n",
    "corr_critico = round(periodo_critico.corr(method='pearson'),2)\n",
    "corr_critico"
   ]
  },
  {
   "cell_type": "markdown",
   "id": "ja7PNEJOjhAH",
   "metadata": {
    "id": "ja7PNEJOjhAH"
   },
   "source": [
    "----\n",
    "----"
   ]
  },
  {
   "cell_type": "code",
   "execution_count": 100,
   "id": "Bfe4m-A-v8xA",
   "metadata": {
    "colab": {
     "base_uri": "https://localhost:8080/",
     "height": 383
    },
    "executionInfo": {
     "elapsed": 1249,
     "status": "ok",
     "timestamp": 1675922293016,
     "user": {
      "displayName": "gerardo antonio fuentes garcia",
      "userId": "11702168562164629048"
     },
     "user_tz": 360
    },
    "id": "Bfe4m-A-v8xA",
    "outputId": "edbefa80-4bdd-4c9b-9870-3f89d78bff49"
   },
   "outputs": [
    {
     "data": {
      "text/plain": [
       "<AxesSubplot:>"
      ]
     },
     "execution_count": 100,
     "metadata": {},
     "output_type": "execute_result"
    },
    {
     "data": {
      "image/png": "[encoded data removed]",
      "text/plain": [
       "<Figure size 720x576 with 2 Axes>"
      ]
     },
     "metadata": {
      "needs_background": "light"
     },
     "output_type": "display_data"
    }
   ],
   "source": [
    "plt.figure(figsize=(10,8))\n",
    "sb.heatmap(corr_critico, cmap=\"Blues\", annot=True)"
   ]
  },
  {
   "cell_type": "markdown",
   "id": "CzHNf7GGvHb-",
   "metadata": {
    "id": "CzHNf7GGvHb-"
   },
   "source": [
    "Analizando tanto el periodo completo (enero 2020 - diciembre 2021) como el periodo crítico del 2020 podemos observar un incremento en el nivel de correlación entre los retornos del BTC y los indicadores de medios."
   ]
  },
  {
   "cell_type": "markdown",
   "id": "wWZjcVKBxkrR",
   "metadata": {
    "id": "wWZjcVKBxkrR"
   },
   "source": [
    "Compararemos ahora el periodo 2021"
   ]
  },
  {
   "cell_type": "code",
   "execution_count": 101,
   "id": "WMZKDLRvvdi-",
   "metadata": {
    "colab": {
     "base_uri": "https://localhost:8080/",
     "height": 357
    },
    "executionInfo": {
     "elapsed": 291,
     "status": "ok",
     "timestamp": 1675922305424,
     "user": {
      "displayName": "gerardo antonio fuentes garcia",
      "userId": "11702168562164629048"
     },
     "user_tz": 360
    },
    "id": "WMZKDLRvvdi-",
    "outputId": "86689a01-06b4-44f7-d2ca-646c36cbeeba"
   },
   "outputs": [
    {
     "data": {
      "text/html": [
       "<div>\n",
       "<style scoped>\n",
       "    .dataframe tbody tr th:only-of-type {\n",
       "        vertical-align: middle;\n",
       "    }\n",
       "\n",
       "    .dataframe tbody tr th {\n",
       "        vertical-align: top;\n",
       "    }\n",
       "\n",
       "    .dataframe thead th {\n",
       "        text-align: right;\n",
       "    }\n",
       "</style>\n",
       "<table border=\"1\" class=\"dataframe\">\n",
       "  <thead>\n",
       "    <tr style=\"text-align: right;\">\n",
       "      <th></th>\n",
       "      <th>Date</th>\n",
       "      <th>casos</th>\n",
       "      <th>muertes</th>\n",
       "      <th>panic</th>\n",
       "      <th>mhy</th>\n",
       "      <th>fake_news</th>\n",
       "      <th>si</th>\n",
       "      <th>infodemic</th>\n",
       "      <th>mcoverage</th>\n",
       "      <th>Retornos_BTC</th>\n",
       "      <th>gfi</th>\n",
       "    </tr>\n",
       "  </thead>\n",
       "  <tbody>\n",
       "    <tr>\n",
       "      <th>704</th>\n",
       "      <td>2021-12-26</td>\n",
       "      <td>561457512</td>\n",
       "      <td>10807834</td>\n",
       "      <td>2.40</td>\n",
       "      <td>25.24</td>\n",
       "      <td>0.52</td>\n",
       "      <td>-26.09</td>\n",
       "      <td>35.26</td>\n",
       "      <td>65.95</td>\n",
       "      <td>0.750020</td>\n",
       "      <td>0.502542</td>\n",
       "    </tr>\n",
       "    <tr>\n",
       "      <th>705</th>\n",
       "      <td>2021-12-27</td>\n",
       "      <td>564002984</td>\n",
       "      <td>10821082</td>\n",
       "      <td>1.70</td>\n",
       "      <td>26.09</td>\n",
       "      <td>0.32</td>\n",
       "      <td>-24.42</td>\n",
       "      <td>38.05</td>\n",
       "      <td>66.75</td>\n",
       "      <td>-0.333362</td>\n",
       "      <td>0.502611</td>\n",
       "    </tr>\n",
       "    <tr>\n",
       "      <th>706</th>\n",
       "      <td>2021-12-28</td>\n",
       "      <td>566675452</td>\n",
       "      <td>10835862</td>\n",
       "      <td>1.78</td>\n",
       "      <td>25.24</td>\n",
       "      <td>0.26</td>\n",
       "      <td>-24.40</td>\n",
       "      <td>39.82</td>\n",
       "      <td>63.97</td>\n",
       "      <td>-6.215143</td>\n",
       "      <td>0.502758</td>\n",
       "    </tr>\n",
       "    <tr>\n",
       "      <th>707</th>\n",
       "      <td>2021-12-29</td>\n",
       "      <td>570127796</td>\n",
       "      <td>10852010</td>\n",
       "      <td>1.60</td>\n",
       "      <td>23.91</td>\n",
       "      <td>0.34</td>\n",
       "      <td>-23.82</td>\n",
       "      <td>39.14</td>\n",
       "      <td>64.73</td>\n",
       "      <td>-2.433601</td>\n",
       "      <td>0.503181</td>\n",
       "    </tr>\n",
       "    <tr>\n",
       "      <th>708</th>\n",
       "      <td>2021-12-30</td>\n",
       "      <td>574011192</td>\n",
       "      <td>10867058</td>\n",
       "      <td>1.51</td>\n",
       "      <td>24.51</td>\n",
       "      <td>0.28</td>\n",
       "      <td>-24.67</td>\n",
       "      <td>41.17</td>\n",
       "      <td>65.54</td>\n",
       "      <td>1.566774</td>\n",
       "      <td>0.503792</td>\n",
       "    </tr>\n",
       "  </tbody>\n",
       "</table>\n",
       "</div>"
      ],
      "text/plain": [
       "          Date      casos   muertes  panic    mhy  fake_news     si  \\\n",
       "704 2021-12-26  561457512  10807834   2.40  25.24       0.52 -26.09   \n",
       "705 2021-12-27  564002984  10821082   1.70  26.09       0.32 -24.42   \n",
       "706 2021-12-28  566675452  10835862   1.78  25.24       0.26 -24.40   \n",
       "707 2021-12-29  570127796  10852010   1.60  23.91       0.34 -23.82   \n",
       "708 2021-12-30  574011192  10867058   1.51  24.51       0.28 -24.67   \n",
       "\n",
       "     infodemic  mcoverage  Retornos_BTC       gfi  \n",
       "704      35.26      65.95      0.750020  0.502542  \n",
       "705      38.05      66.75     -0.333362  0.502611  \n",
       "706      39.82      63.97     -6.215143  0.502758  \n",
       "707      39.14      64.73     -2.433601  0.503181  \n",
       "708      41.17      65.54      1.566774  0.503792  "
      ]
     },
     "execution_count": 101,
     "metadata": {},
     "output_type": "execute_result"
    }
   ],
   "source": [
    "periodo_critico_2021 = df_final.loc[(df_final['Date'] >= '2021-01-01') & (df_final['Date'] < '2021-12-31')]\n",
    "periodo_critico_2021.tail()"
   ]
  },
  {
   "cell_type": "code",
   "execution_count": 102,
   "id": "TepTroajvq7u",
   "metadata": {
    "colab": {
     "base_uri": "https://localhost:8080/",
     "height": 363
    },
    "executionInfo": {
     "elapsed": 144,
     "status": "ok",
     "timestamp": 1675922309091,
     "user": {
      "displayName": "gerardo antonio fuentes garcia",
      "userId": "11702168562164629048"
     },
     "user_tz": 360
    },
    "id": "TepTroajvq7u",
    "outputId": "253c5c66-ab29-4d85-f0b6-7c9503b8198e"
   },
   "outputs": [
    {
     "name": "stderr",
     "output_type": "stream",
     "text": [
      "<ipython-input-102-ed849364a33d>:1: FutureWarning: The default value of numeric_only in DataFrame.corr is deprecated. In a future version, it will default to False. Select only valid columns or specify the value of numeric_only to silence this warning.\n",
      "  corr_critico_2021 = round(periodo_critico_2021.corr(method='pearson'),2)\n"
     ]
    },
    {
     "data": {
      "text/html": [
       "<div>\n",
       "<style scoped>\n",
       "    .dataframe tbody tr th:only-of-type {\n",
       "        vertical-align: middle;\n",
       "    }\n",
       "\n",
       "    .dataframe tbody tr th {\n",
       "        vertical-align: top;\n",
       "    }\n",
       "\n",
       "    .dataframe thead th {\n",
       "        text-align: right;\n",
       "    }\n",
       "</style>\n",
       "<table border=\"1\" class=\"dataframe\">\n",
       "  <thead>\n",
       "    <tr style=\"text-align: right;\">\n",
       "      <th></th>\n",
       "      <th>casos</th>\n",
       "      <th>muertes</th>\n",
       "      <th>panic</th>\n",
       "      <th>mhy</th>\n",
       "      <th>fake_news</th>\n",
       "      <th>si</th>\n",
       "      <th>infodemic</th>\n",
       "      <th>mcoverage</th>\n",
       "      <th>Retornos_BTC</th>\n",
       "      <th>gfi</th>\n",
       "    </tr>\n",
       "  </thead>\n",
       "  <tbody>\n",
       "    <tr>\n",
       "      <th>casos</th>\n",
       "      <td>1.00</td>\n",
       "      <td>1.00</td>\n",
       "      <td>-0.60</td>\n",
       "      <td>-0.84</td>\n",
       "      <td>-0.21</td>\n",
       "      <td>0.16</td>\n",
       "      <td>-0.86</td>\n",
       "      <td>-0.90</td>\n",
       "      <td>-0.05</td>\n",
       "      <td>-0.84</td>\n",
       "    </tr>\n",
       "    <tr>\n",
       "      <th>muertes</th>\n",
       "      <td>1.00</td>\n",
       "      <td>1.00</td>\n",
       "      <td>-0.61</td>\n",
       "      <td>-0.86</td>\n",
       "      <td>-0.21</td>\n",
       "      <td>0.18</td>\n",
       "      <td>-0.87</td>\n",
       "      <td>-0.91</td>\n",
       "      <td>-0.05</td>\n",
       "      <td>-0.87</td>\n",
       "    </tr>\n",
       "    <tr>\n",
       "      <th>panic</th>\n",
       "      <td>-0.60</td>\n",
       "      <td>-0.61</td>\n",
       "      <td>1.00</td>\n",
       "      <td>0.71</td>\n",
       "      <td>0.30</td>\n",
       "      <td>-0.33</td>\n",
       "      <td>0.52</td>\n",
       "      <td>0.63</td>\n",
       "      <td>0.08</td>\n",
       "      <td>0.60</td>\n",
       "    </tr>\n",
       "    <tr>\n",
       "      <th>mhy</th>\n",
       "      <td>-0.84</td>\n",
       "      <td>-0.86</td>\n",
       "      <td>0.71</td>\n",
       "      <td>1.00</td>\n",
       "      <td>0.29</td>\n",
       "      <td>-0.32</td>\n",
       "      <td>0.87</td>\n",
       "      <td>0.92</td>\n",
       "      <td>0.08</td>\n",
       "      <td>0.85</td>\n",
       "    </tr>\n",
       "    <tr>\n",
       "      <th>fake_news</th>\n",
       "      <td>-0.21</td>\n",
       "      <td>-0.21</td>\n",
       "      <td>0.30</td>\n",
       "      <td>0.29</td>\n",
       "      <td>1.00</td>\n",
       "      <td>-0.12</td>\n",
       "      <td>0.17</td>\n",
       "      <td>0.23</td>\n",
       "      <td>0.10</td>\n",
       "      <td>0.20</td>\n",
       "    </tr>\n",
       "    <tr>\n",
       "      <th>si</th>\n",
       "      <td>0.16</td>\n",
       "      <td>0.18</td>\n",
       "      <td>-0.33</td>\n",
       "      <td>-0.32</td>\n",
       "      <td>-0.12</td>\n",
       "      <td>1.00</td>\n",
       "      <td>-0.20</td>\n",
       "      <td>-0.26</td>\n",
       "      <td>0.01</td>\n",
       "      <td>-0.29</td>\n",
       "    </tr>\n",
       "    <tr>\n",
       "      <th>infodemic</th>\n",
       "      <td>-0.86</td>\n",
       "      <td>-0.87</td>\n",
       "      <td>0.52</td>\n",
       "      <td>0.87</td>\n",
       "      <td>0.17</td>\n",
       "      <td>-0.20</td>\n",
       "      <td>1.00</td>\n",
       "      <td>0.92</td>\n",
       "      <td>0.07</td>\n",
       "      <td>0.82</td>\n",
       "    </tr>\n",
       "    <tr>\n",
       "      <th>mcoverage</th>\n",
       "      <td>-0.90</td>\n",
       "      <td>-0.91</td>\n",
       "      <td>0.63</td>\n",
       "      <td>0.92</td>\n",
       "      <td>0.23</td>\n",
       "      <td>-0.26</td>\n",
       "      <td>0.92</td>\n",
       "      <td>1.00</td>\n",
       "      <td>0.09</td>\n",
       "      <td>0.86</td>\n",
       "    </tr>\n",
       "    <tr>\n",
       "      <th>Retornos_BTC</th>\n",
       "      <td>-0.05</td>\n",
       "      <td>-0.05</td>\n",
       "      <td>0.08</td>\n",
       "      <td>0.08</td>\n",
       "      <td>0.10</td>\n",
       "      <td>0.01</td>\n",
       "      <td>0.07</td>\n",
       "      <td>0.09</td>\n",
       "      <td>1.00</td>\n",
       "      <td>0.03</td>\n",
       "    </tr>\n",
       "    <tr>\n",
       "      <th>gfi</th>\n",
       "      <td>-0.84</td>\n",
       "      <td>-0.87</td>\n",
       "      <td>0.60</td>\n",
       "      <td>0.85</td>\n",
       "      <td>0.20</td>\n",
       "      <td>-0.29</td>\n",
       "      <td>0.82</td>\n",
       "      <td>0.86</td>\n",
       "      <td>0.03</td>\n",
       "      <td>1.00</td>\n",
       "    </tr>\n",
       "  </tbody>\n",
       "</table>\n",
       "</div>"
      ],
      "text/plain": [
       "              casos  muertes  panic   mhy  fake_news    si  infodemic  \\\n",
       "casos          1.00     1.00  -0.60 -0.84      -0.21  0.16      -0.86   \n",
       "muertes        1.00     1.00  -0.61 -0.86      -0.21  0.18      -0.87   \n",
       "panic         -0.60    -0.61   1.00  0.71       0.30 -0.33       0.52   \n",
       "mhy           -0.84    -0.86   0.71  1.00       0.29 -0.32       0.87   \n",
       "fake_news     -0.21    -0.21   0.30  0.29       1.00 -0.12       0.17   \n",
       "si             0.16     0.18  -0.33 -0.32      -0.12  1.00      -0.20   \n",
       "infodemic     -0.86    -0.87   0.52  0.87       0.17 -0.20       1.00   \n",
       "mcoverage     -0.90    -0.91   0.63  0.92       0.23 -0.26       0.92   \n",
       "Retornos_BTC  -0.05    -0.05   0.08  0.08       0.10  0.01       0.07   \n",
       "gfi           -0.84    -0.87   0.60  0.85       0.20 -0.29       0.82   \n",
       "\n",
       "              mcoverage  Retornos_BTC   gfi  \n",
       "casos             -0.90         -0.05 -0.84  \n",
       "muertes           -0.91         -0.05 -0.87  \n",
       "panic              0.63          0.08  0.60  \n",
       "mhy                0.92          0.08  0.85  \n",
       "fake_news          0.23          0.10  0.20  \n",
       "si                -0.26          0.01 -0.29  \n",
       "infodemic          0.92          0.07  0.82  \n",
       "mcoverage          1.00          0.09  0.86  \n",
       "Retornos_BTC       0.09          1.00  0.03  \n",
       "gfi                0.86          0.03  1.00  "
      ]
     },
     "execution_count": 102,
     "metadata": {},
     "output_type": "execute_result"
    }
   ],
   "source": [
    "corr_critico_2021 = round(periodo_critico_2021.corr(method='pearson'),2)\n",
    "corr_critico_2021"
   ]
  },
  {
   "cell_type": "code",
   "execution_count": 103,
   "id": "_NPtqFFywAbF",
   "metadata": {
    "colab": {
     "base_uri": "https://localhost:8080/",
     "height": 383
    },
    "executionInfo": {
     "elapsed": 1131,
     "status": "ok",
     "timestamp": 1675922315768,
     "user": {
      "displayName": "gerardo antonio fuentes garcia",
      "userId": "11702168562164629048"
     },
     "user_tz": 360
    },
    "id": "_NPtqFFywAbF",
    "outputId": "293e7643-156a-48ee-bec6-fd04014bb8f0"
   },
   "outputs": [
    {
     "data": {
      "text/plain": [
       "<AxesSubplot:>"
      ]
     },
     "execution_count": 103,
     "metadata": {},
     "output_type": "execute_result"
    },
    {
     "data": {
      "image/png": "[encoded data removed]",
      "text/plain": [
       "<Figure size 720x576 with 2 Axes>"
      ]
     },
     "metadata": {
      "needs_background": "light"
     },
     "output_type": "display_data"
    }
   ],
   "source": [
    "plt.figure(figsize=(10,8))\n",
    "sb.heatmap(corr_critico_2021, cmap=\"cool\", annot=True)"
   ]
  },
  {
   "cell_type": "markdown",
   "id": "slQpdR1pwXDU",
   "metadata": {
    "id": "slQpdR1pwXDU"
   },
   "source": [
    "Comparando con el periodo 2021, el cual no se visualiza periodo crítico, no parece haber correlación clara entre los indicadores y los retornos del Bitcoin."
   ]
  },
  {
   "cell_type": "code",
   "execution_count": null,
   "id": "0214d2eb-f00f-43ff-b2d7-78d01819b7ef",
   "metadata": {},
   "outputs": [],
   "source": []
  }
 ],
 "metadata": {
  "colab": {
   "provenance": [
    {
     "file_id": "1uooTDb_kqn9uEcY7hYRBVr3rmNJkQrjL",
     "timestamp": 1675922794409
    },
    {
     "file_id": "1M8X7857qurD90AXHQFwd_Pj80uHsjaSe",
     "timestamp": 1675841759746
    }
   ]
  },
  "kernelspec": {
   "display_name": "Python 3",
   "language": "python",
   "name": "python3"
  },
  "language_info": {
   "codemirror_mode": {
    "name": "ipython",
    "version": 3
   },
   "file_extension": ".py",
   "mimetype": "text/x-python",
   "name": "python",
   "nbconvert_exporter": "python",
   "pygments_lexer": "ipython3",
   "version": "3.8.13"
  }
 },
 "nbformat": 4,
 "nbformat_minor": 5
}
